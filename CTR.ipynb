{
 "cells": [
  {
   "cell_type": "markdown",
   "metadata": {},
   "source": [
    "*** \n",
    "<h2 align=\"center\"> Click-Through Rate Prediction </h2>\n",
    "<br>\n",
    "<center><font size='3' color='#33AAFBD'> Keivan Mokhtarpour </font></center>\n",
    "\n",
    "\n",
    "***"
   ]
  },
  {
   "cell_type": "markdown",
   "metadata": {},
   "source": [
    "## `Initialization` <a name=\"read\"></a>\n",
    "We will import the required libraries for this notebook including **pandas**."
   ]
  },
  {
   "cell_type": "code",
   "execution_count": 153,
   "metadata": {},
   "outputs": [],
   "source": [
    "# Remove warnings\n",
    "import warnings\n",
    "warnings.filterwarnings(\"ignore\")\n",
    "# SQLAlchemy \n",
    "from sqlalchemy import create_engine\n",
    "import pymysql\n",
    "import configparser\n",
    "# Mathetimatical Operations\n",
    "import numpy as np\n",
    "# Data manipulation\n",
    "import pandas as pd\n",
    "# Visualization\n",
    "import matplotlib.pyplot as plt\n",
    "%matplotlib inline\n",
    "import seaborn as sns\n",
    "from mlxtend.plotting import plot_decision_regions\n",
    "from mlxtend.plotting import category_scatter\n",
    "# Sklearn\n",
    "from sklearn.datasets import make_blobs\n",
    "from sklearn.datasets import make_moons\n",
    "from sklearn.tree import DecisionTreeClassifier\n",
    "from sklearn.linear_model import LogisticRegression\n",
    "from sklearn.neighbors import KNeighborsClassifier\n",
    "from sklearn.ensemble import RandomForestClassifier\n",
    "from sklearn.svm import SVC\n",
    "from sklearn.model_selection import train_test_split\n",
    "from sklearn.datasets import load_breast_cancer\n",
    "from sklearn.metrics import classification_report\n",
    "from sklearn.metrics import confusion_matrix\n",
    "from sklearn.metrics import precision_score, recall_score, accuracy_score\n",
    "from sklearn.model_selection import KFold\n",
    "from sklearn.metrics import f1_score\n",
    "from sklearn.preprocessing import StandardScaler\n",
    "from sklearn.model_selection import TimeSeriesSplit\n",
    "from sklearn.metrics import mean_squared_error\n",
    "import statsmodels.api as sm\n",
    "from sklearn.model_selection import GridSearchCV\n",
    "from sklearn.ensemble import RandomForestClassifier\n",
    "from sklearn.model_selection import train_test_split\n",
    "from imblearn.over_sampling import RandomOverSampler"
   ]
  },
  {
   "cell_type": "markdown",
   "metadata": {},
   "source": [
    "# Problem Solving Steps\n",
    "- Data Collection\n",
    "- Exploratory Data Analysis\n",
    "- Data Cleaning\n",
    "- Feature Engineering\n",
    "- Model Training (including cross validation and hyperparameter tuning)\n",
    "- Insights"
   ]
  },
  {
   "cell_type": "markdown",
   "metadata": {},
   "source": [
    "## `Data Collection` <a name=\"read\"></a>\n",
    "Data can be collected through different ways. We can use SQLAlchemy to load the data directly from the database or simply use `pandas` to load it into our workspace. We investigate both here."
   ]
  },
  {
   "cell_type": "markdown",
   "metadata": {},
   "source": [
    "### `SQL Alchemy` \n",
    "We can connect to MySQL database using our credentials stored in a configuration file. These credentials include:\n",
    "1. Database Type\n",
    "2. Database Driver\n",
    "3. Database User \n",
    "4. Database Password\n",
    "5. Database Host\n",
    "6. Database Port\n",
    "7. Database Name"
   ]
  },
  {
   "cell_type": "markdown",
   "metadata": {},
   "source": [
    "#### Configuration"
   ]
  },
  {
   "cell_type": "code",
   "execution_count": null,
   "metadata": {},
   "outputs": [],
   "source": [
    "config = configparser.ConfigParser()\n",
    "config.read('sql.ini')"
   ]
  },
  {
   "cell_type": "code",
   "execution_count": null,
   "metadata": {},
   "outputs": [],
   "source": [
    "DB_TYPE = config['default']['DB_TYPE']\n",
    "DB_DRIVER = config['default']['DB_DRIVER']\n",
    "DB_USER = config['default']['DB_USER']\n",
    "DB_PASS = config['default']['DB_PASS']\n",
    "DB_HOST = config['default']['DB_HOST']\n",
    "DB_PORT = config['default']['DB_PORT']\n",
    "DB_NAME = config['default']['DB_NAME']"
   ]
  },
  {
   "cell_type": "code",
   "execution_count": null,
   "metadata": {},
   "outputs": [],
   "source": [
    "SQLALCHEMY_DATABASE_URI = f'{DB_TYPE}+{DB_DRIVER}://{DB_USER}:{DB_PASS}@{DB_HOST}:{DB_PORT}/{DB_NAME}'\n",
    "\n",
    "# Creating engine with login info\n",
    "engine = create_engine(SQLALCHEMY_DATABASE_URI)\n",
    "print(engine)\n",
    "# this connects to the sql engine\n",
    "con = engine.connect()"
   ]
  },
  {
   "cell_type": "markdown",
   "metadata": {},
   "source": [
    "#### Retrieving the DataFrame from MySQL"
   ]
  },
  {
   "cell_type": "code",
   "execution_count": null,
   "metadata": {},
   "outputs": [],
   "source": [
    "df = con.execute('''\n",
    "    SELECT * \n",
    "    FROM ctr.ctrdata;\n",
    "''').fetchall()"
   ]
  },
  {
   "cell_type": "markdown",
   "metadata": {},
   "source": [
    "#### Using SQL Alchemy with Pandas"
   ]
  },
  {
   "cell_type": "code",
   "execution_count": null,
   "metadata": {},
   "outputs": [],
   "source": [
    "import pandas as pd\n",
    "\n",
    "df = pd.read_sql('''\n",
    "    SELECT * \n",
    "    FROM ctr.ctrdata;\n",
    "''',con=con)\n",
    "\n",
    "df"
   ]
  },
  {
   "cell_type": "markdown",
   "metadata": {},
   "source": [
    "### `Pandas` "
   ]
  },
  {
   "cell_type": "code",
   "execution_count": 154,
   "metadata": {},
   "outputs": [],
   "source": [
    "df = pd.read_csv('ctrdata.csv')"
   ]
  },
  {
   "cell_type": "code",
   "execution_count": 155,
   "metadata": {},
   "outputs": [
    {
     "data": {
      "text/html": [
       "<div>\n",
       "<style scoped>\n",
       "    .dataframe tbody tr th:only-of-type {\n",
       "        vertical-align: middle;\n",
       "    }\n",
       "\n",
       "    .dataframe tbody tr th {\n",
       "        vertical-align: top;\n",
       "    }\n",
       "\n",
       "    .dataframe thead th {\n",
       "        text-align: right;\n",
       "    }\n",
       "</style>\n",
       "<table border=\"1\" class=\"dataframe\">\n",
       "  <thead>\n",
       "    <tr style=\"text-align: right;\">\n",
       "      <th></th>\n",
       "      <th>Unnamed: 0</th>\n",
       "      <th>maid_transactions</th>\n",
       "      <th>payment_time_transactions</th>\n",
       "      <th>money</th>\n",
       "      <th>kind_Pay</th>\n",
       "      <th>kind_Card</th>\n",
       "      <th>mid_transactions</th>\n",
       "      <th>network</th>\n",
       "      <th>industry</th>\n",
       "      <th>sex</th>\n",
       "      <th>...</th>\n",
       "      <th>payment_time_views</th>\n",
       "      <th>maid_views</th>\n",
       "      <th>mid_views</th>\n",
       "      <th>ad_id_tvca</th>\n",
       "      <th>click_time</th>\n",
       "      <th>payment_time</th>\n",
       "      <th>maid</th>\n",
       "      <th>mid</th>\n",
       "      <th>ad_id_clicks</th>\n",
       "      <th>clicked</th>\n",
       "    </tr>\n",
       "  </thead>\n",
       "  <tbody>\n",
       "    <tr>\n",
       "      <th>0</th>\n",
       "      <td>2017-08-01 00:00:01AoL98D</td>\n",
       "      <td>AoL98D</td>\n",
       "      <td>2017-08-01 00:00:01</td>\n",
       "      <td>300</td>\n",
       "      <td>4JBo</td>\n",
       "      <td>DEBIT</td>\n",
       "      <td>r0g7</td>\n",
       "      <td>3g+</td>\n",
       "      <td>1203</td>\n",
       "      <td>male</td>\n",
       "      <td>...</td>\n",
       "      <td>2017-08-01 00:00:01</td>\n",
       "      <td>AoL98D</td>\n",
       "      <td>r0g7</td>\n",
       "      <td>a98n</td>\n",
       "      <td>NaN</td>\n",
       "      <td>NaN</td>\n",
       "      <td>NaN</td>\n",
       "      <td>NaN</td>\n",
       "      <td>NaN</td>\n",
       "      <td>0</td>\n",
       "    </tr>\n",
       "    <tr>\n",
       "      <th>1</th>\n",
       "      <td>2017-08-01 00:00:01Y1WM51</td>\n",
       "      <td>Y1WM51</td>\n",
       "      <td>2017-08-01 00:00:01</td>\n",
       "      <td>26400</td>\n",
       "      <td>4JBo</td>\n",
       "      <td>DEBIT</td>\n",
       "      <td>0G76</td>\n",
       "      <td>3g+</td>\n",
       "      <td>1000</td>\n",
       "      <td>female</td>\n",
       "      <td>...</td>\n",
       "      <td>2017-08-01 00:00:01</td>\n",
       "      <td>Y1WM51</td>\n",
       "      <td>0G76</td>\n",
       "      <td>zjPY</td>\n",
       "      <td>NaN</td>\n",
       "      <td>NaN</td>\n",
       "      <td>NaN</td>\n",
       "      <td>NaN</td>\n",
       "      <td>NaN</td>\n",
       "      <td>0</td>\n",
       "    </tr>\n",
       "    <tr>\n",
       "      <th>2</th>\n",
       "      <td>2017-08-01 00:00:01Y1WM51</td>\n",
       "      <td>Y1WM51</td>\n",
       "      <td>2017-08-01 00:00:01</td>\n",
       "      <td>26400</td>\n",
       "      <td>4JBo</td>\n",
       "      <td>DEBIT</td>\n",
       "      <td>0G76</td>\n",
       "      <td>3g+</td>\n",
       "      <td>1000</td>\n",
       "      <td>female</td>\n",
       "      <td>...</td>\n",
       "      <td>2017-08-01 00:00:01</td>\n",
       "      <td>Y1WM51</td>\n",
       "      <td>0G76</td>\n",
       "      <td>apjA</td>\n",
       "      <td>NaN</td>\n",
       "      <td>NaN</td>\n",
       "      <td>NaN</td>\n",
       "      <td>NaN</td>\n",
       "      <td>NaN</td>\n",
       "      <td>0</td>\n",
       "    </tr>\n",
       "    <tr>\n",
       "      <th>3</th>\n",
       "      <td>2017-08-01 00:00:01k0oJAA</td>\n",
       "      <td>k0oJAA</td>\n",
       "      <td>2017-08-01 00:00:01</td>\n",
       "      <td>800</td>\n",
       "      <td>4JBo</td>\n",
       "      <td>DEBIT</td>\n",
       "      <td>K10o</td>\n",
       "      <td>unknown</td>\n",
       "      <td>1000</td>\n",
       "      <td>male</td>\n",
       "      <td>...</td>\n",
       "      <td>2017-08-01 00:00:01</td>\n",
       "      <td>k0oJAA</td>\n",
       "      <td>K10o</td>\n",
       "      <td>zmAg</td>\n",
       "      <td>NaN</td>\n",
       "      <td>NaN</td>\n",
       "      <td>NaN</td>\n",
       "      <td>NaN</td>\n",
       "      <td>NaN</td>\n",
       "      <td>0</td>\n",
       "    </tr>\n",
       "    <tr>\n",
       "      <th>4</th>\n",
       "      <td>2017-08-01 00:00:01k0oJAA</td>\n",
       "      <td>k0oJAA</td>\n",
       "      <td>2017-08-01 00:00:01</td>\n",
       "      <td>800</td>\n",
       "      <td>4JBo</td>\n",
       "      <td>DEBIT</td>\n",
       "      <td>K10o</td>\n",
       "      <td>unknown</td>\n",
       "      <td>1000</td>\n",
       "      <td>male</td>\n",
       "      <td>...</td>\n",
       "      <td>2017-08-01 00:00:01</td>\n",
       "      <td>k0oJAA</td>\n",
       "      <td>K10o</td>\n",
       "      <td>apjA</td>\n",
       "      <td>NaN</td>\n",
       "      <td>NaN</td>\n",
       "      <td>NaN</td>\n",
       "      <td>NaN</td>\n",
       "      <td>NaN</td>\n",
       "      <td>0</td>\n",
       "    </tr>\n",
       "    <tr>\n",
       "      <th>...</th>\n",
       "      <td>...</td>\n",
       "      <td>...</td>\n",
       "      <td>...</td>\n",
       "      <td>...</td>\n",
       "      <td>...</td>\n",
       "      <td>...</td>\n",
       "      <td>...</td>\n",
       "      <td>...</td>\n",
       "      <td>...</td>\n",
       "      <td>...</td>\n",
       "      <td>...</td>\n",
       "      <td>...</td>\n",
       "      <td>...</td>\n",
       "      <td>...</td>\n",
       "      <td>...</td>\n",
       "      <td>...</td>\n",
       "      <td>...</td>\n",
       "      <td>...</td>\n",
       "      <td>...</td>\n",
       "      <td>...</td>\n",
       "      <td>...</td>\n",
       "    </tr>\n",
       "    <tr>\n",
       "      <th>1134540</th>\n",
       "      <td>2017-08-01 23:59:59WVEgAo</td>\n",
       "      <td>WVEgAo</td>\n",
       "      <td>2017-08-01 23:59:59</td>\n",
       "      <td>1000</td>\n",
       "      <td>zO8g</td>\n",
       "      <td>CREDIT</td>\n",
       "      <td>BYle</td>\n",
       "      <td>unknown</td>\n",
       "      <td>1225</td>\n",
       "      <td>male</td>\n",
       "      <td>...</td>\n",
       "      <td>2017-08-01 23:59:59</td>\n",
       "      <td>WVEgAo</td>\n",
       "      <td>BYle</td>\n",
       "      <td>zV3w</td>\n",
       "      <td>2017-08-02 00:00:07</td>\n",
       "      <td>2017-08-01 23:59:59</td>\n",
       "      <td>WVEgAo</td>\n",
       "      <td>BYle</td>\n",
       "      <td>zV3w</td>\n",
       "      <td>1</td>\n",
       "    </tr>\n",
       "    <tr>\n",
       "      <th>1134541</th>\n",
       "      <td>2017-08-01 23:59:59qlgYYx</td>\n",
       "      <td>qlgYYx</td>\n",
       "      <td>2017-08-01 23:59:59</td>\n",
       "      <td>350</td>\n",
       "      <td>4JBo</td>\n",
       "      <td>DEBIT</td>\n",
       "      <td>X180A</td>\n",
       "      <td>4g</td>\n",
       "      <td>1204</td>\n",
       "      <td>male</td>\n",
       "      <td>...</td>\n",
       "      <td>2017-08-01 23:59:59</td>\n",
       "      <td>qlgYYx</td>\n",
       "      <td>X180A</td>\n",
       "      <td>apjA</td>\n",
       "      <td>NaN</td>\n",
       "      <td>NaN</td>\n",
       "      <td>NaN</td>\n",
       "      <td>NaN</td>\n",
       "      <td>NaN</td>\n",
       "      <td>0</td>\n",
       "    </tr>\n",
       "    <tr>\n",
       "      <th>1134542</th>\n",
       "      <td>2017-08-02 00:00:005AORbZ</td>\n",
       "      <td>5AORbZ</td>\n",
       "      <td>2017-08-02 00:00:00</td>\n",
       "      <td>2000</td>\n",
       "      <td>4JBo</td>\n",
       "      <td>DEBIT</td>\n",
       "      <td>l50r</td>\n",
       "      <td>4g</td>\n",
       "      <td>1000</td>\n",
       "      <td>male</td>\n",
       "      <td>...</td>\n",
       "      <td>2017-08-02 00:00:00</td>\n",
       "      <td>5AORbZ</td>\n",
       "      <td>l50r</td>\n",
       "      <td>apjA</td>\n",
       "      <td>2017-08-02 00:00:06</td>\n",
       "      <td>2017-08-02 00:00:00</td>\n",
       "      <td>5AORbZ</td>\n",
       "      <td>l50r</td>\n",
       "      <td>apjA</td>\n",
       "      <td>1</td>\n",
       "    </tr>\n",
       "    <tr>\n",
       "      <th>1134543</th>\n",
       "      <td>2017-08-02 00:00:00J0RL</td>\n",
       "      <td>J0RL</td>\n",
       "      <td>2017-08-02 00:00:00</td>\n",
       "      <td>350</td>\n",
       "      <td>4JBo</td>\n",
       "      <td>CREDIT</td>\n",
       "      <td>lKXO</td>\n",
       "      <td>2g</td>\n",
       "      <td>1203</td>\n",
       "      <td>male</td>\n",
       "      <td>...</td>\n",
       "      <td>2017-08-02 00:00:00</td>\n",
       "      <td>J0RL</td>\n",
       "      <td>lKXO</td>\n",
       "      <td>zmAg</td>\n",
       "      <td>NaN</td>\n",
       "      <td>NaN</td>\n",
       "      <td>NaN</td>\n",
       "      <td>NaN</td>\n",
       "      <td>NaN</td>\n",
       "      <td>0</td>\n",
       "    </tr>\n",
       "    <tr>\n",
       "      <th>1134544</th>\n",
       "      <td>2017-08-02 00:00:00dKg05j</td>\n",
       "      <td>dKg05j</td>\n",
       "      <td>2017-08-02 00:00:00</td>\n",
       "      <td>2100</td>\n",
       "      <td>4JBo</td>\n",
       "      <td>DEBIT</td>\n",
       "      <td>Ympn</td>\n",
       "      <td>unknown</td>\n",
       "      <td>1203</td>\n",
       "      <td>male</td>\n",
       "      <td>...</td>\n",
       "      <td>2017-08-02 00:00:00</td>\n",
       "      <td>dKg05j</td>\n",
       "      <td>Ympn</td>\n",
       "      <td>apjA</td>\n",
       "      <td>2017-08-02 00:05:02</td>\n",
       "      <td>2017-08-02 00:00:00</td>\n",
       "      <td>dKg05j</td>\n",
       "      <td>Ympn</td>\n",
       "      <td>apjA</td>\n",
       "      <td>1</td>\n",
       "    </tr>\n",
       "  </tbody>\n",
       "</table>\n",
       "<p>1134545 rows × 22 columns</p>\n",
       "</div>"
      ],
      "text/plain": [
       "                        Unnamed: 0 maid_transactions  \\\n",
       "0        2017-08-01 00:00:01AoL98D            AoL98D   \n",
       "1        2017-08-01 00:00:01Y1WM51            Y1WM51   \n",
       "2        2017-08-01 00:00:01Y1WM51            Y1WM51   \n",
       "3        2017-08-01 00:00:01k0oJAA            k0oJAA   \n",
       "4        2017-08-01 00:00:01k0oJAA            k0oJAA   \n",
       "...                            ...               ...   \n",
       "1134540  2017-08-01 23:59:59WVEgAo            WVEgAo   \n",
       "1134541  2017-08-01 23:59:59qlgYYx            qlgYYx   \n",
       "1134542  2017-08-02 00:00:005AORbZ            5AORbZ   \n",
       "1134543    2017-08-02 00:00:00J0RL              J0RL   \n",
       "1134544  2017-08-02 00:00:00dKg05j            dKg05j   \n",
       "\n",
       "        payment_time_transactions  money kind_Pay kind_Card mid_transactions  \\\n",
       "0             2017-08-01 00:00:01    300     4JBo     DEBIT             r0g7   \n",
       "1             2017-08-01 00:00:01  26400     4JBo     DEBIT             0G76   \n",
       "2             2017-08-01 00:00:01  26400     4JBo     DEBIT             0G76   \n",
       "3             2017-08-01 00:00:01    800     4JBo     DEBIT             K10o   \n",
       "4             2017-08-01 00:00:01    800     4JBo     DEBIT             K10o   \n",
       "...                           ...    ...      ...       ...              ...   \n",
       "1134540       2017-08-01 23:59:59   1000     zO8g    CREDIT             BYle   \n",
       "1134541       2017-08-01 23:59:59    350     4JBo     DEBIT            X180A   \n",
       "1134542       2017-08-02 00:00:00   2000     4JBo     DEBIT             l50r   \n",
       "1134543       2017-08-02 00:00:00    350     4JBo    CREDIT             lKXO   \n",
       "1134544       2017-08-02 00:00:00   2100     4JBo     DEBIT             Ympn   \n",
       "\n",
       "         network  industry     sex  ...   payment_time_views maid_views  \\\n",
       "0            3g+      1203    male  ...  2017-08-01 00:00:01     AoL98D   \n",
       "1            3g+      1000  female  ...  2017-08-01 00:00:01     Y1WM51   \n",
       "2            3g+      1000  female  ...  2017-08-01 00:00:01     Y1WM51   \n",
       "3        unknown      1000    male  ...  2017-08-01 00:00:01     k0oJAA   \n",
       "4        unknown      1000    male  ...  2017-08-01 00:00:01     k0oJAA   \n",
       "...          ...       ...     ...  ...                  ...        ...   \n",
       "1134540  unknown      1225    male  ...  2017-08-01 23:59:59     WVEgAo   \n",
       "1134541       4g      1204    male  ...  2017-08-01 23:59:59     qlgYYx   \n",
       "1134542       4g      1000    male  ...  2017-08-02 00:00:00     5AORbZ   \n",
       "1134543       2g      1203    male  ...  2017-08-02 00:00:00       J0RL   \n",
       "1134544  unknown      1203    male  ...  2017-08-02 00:00:00     dKg05j   \n",
       "\n",
       "        mid_views ad_id_tvca           click_time         payment_time  \\\n",
       "0            r0g7       a98n                  NaN                  NaN   \n",
       "1            0G76       zjPY                  NaN                  NaN   \n",
       "2            0G76       apjA                  NaN                  NaN   \n",
       "3            K10o       zmAg                  NaN                  NaN   \n",
       "4            K10o       apjA                  NaN                  NaN   \n",
       "...           ...        ...                  ...                  ...   \n",
       "1134540      BYle       zV3w  2017-08-02 00:00:07  2017-08-01 23:59:59   \n",
       "1134541     X180A       apjA                  NaN                  NaN   \n",
       "1134542      l50r       apjA  2017-08-02 00:00:06  2017-08-02 00:00:00   \n",
       "1134543      lKXO       zmAg                  NaN                  NaN   \n",
       "1134544      Ympn       apjA  2017-08-02 00:05:02  2017-08-02 00:00:00   \n",
       "\n",
       "           maid   mid ad_id_clicks clicked  \n",
       "0           NaN   NaN          NaN       0  \n",
       "1           NaN   NaN          NaN       0  \n",
       "2           NaN   NaN          NaN       0  \n",
       "3           NaN   NaN          NaN       0  \n",
       "4           NaN   NaN          NaN       0  \n",
       "...         ...   ...          ...     ...  \n",
       "1134540  WVEgAo  BYle         zV3w       1  \n",
       "1134541     NaN   NaN          NaN       0  \n",
       "1134542  5AORbZ  l50r         apjA       1  \n",
       "1134543     NaN   NaN          NaN       0  \n",
       "1134544  dKg05j  Ympn         apjA       1  \n",
       "\n",
       "[1134545 rows x 22 columns]"
      ]
     },
     "execution_count": 155,
     "metadata": {},
     "output_type": "execute_result"
    }
   ],
   "source": [
    "df"
   ]
  },
  {
   "cell_type": "markdown",
   "metadata": {},
   "source": [
    "As you may see above, each record in the dataframe refers to an impression. There could be multiple impressions regarding a specific transaction. That's why we'll later survey the data based on transactions using unique user ID and payment time. Let's take a quick look at the dataframe first."
   ]
  },
  {
   "cell_type": "markdown",
   "metadata": {},
   "source": [
    "#### Total Number of Impressions"
   ]
  },
  {
   "cell_type": "code",
   "execution_count": 156,
   "metadata": {},
   "outputs": [
    {
     "name": "stdout",
     "output_type": "stream",
     "text": [
      "1134545\n"
     ]
    }
   ],
   "source": [
    "print(df.shape[0])"
   ]
  },
  {
   "cell_type": "markdown",
   "metadata": {},
   "source": [
    "#### General information about different columns"
   ]
  },
  {
   "cell_type": "code",
   "execution_count": 157,
   "metadata": {
    "scrolled": false
   },
   "outputs": [
    {
     "name": "stdout",
     "output_type": "stream",
     "text": [
      "<class 'pandas.core.frame.DataFrame'>\n",
      "RangeIndex: 1134545 entries, 0 to 1134544\n",
      "Data columns (total 22 columns):\n",
      " #   Column                     Non-Null Count    Dtype \n",
      "---  ------                     --------------    ----- \n",
      " 0   Unnamed: 0                 1134545 non-null  object\n",
      " 1   maid_transactions          1134545 non-null  object\n",
      " 2   payment_time_transactions  1134545 non-null  object\n",
      " 3   money                      1134545 non-null  int64 \n",
      " 4   kind_Pay                   1134545 non-null  object\n",
      " 5   kind_Card                  1134545 non-null  object\n",
      " 6   mid_transactions           1134545 non-null  object\n",
      " 7   network                    1134545 non-null  object\n",
      " 8   industry                   1134545 non-null  int64 \n",
      " 9   sex                        1134491 non-null  object\n",
      " 10  adr                        1126566 non-null  object\n",
      " 11  view_time                  1134545 non-null  object\n",
      " 12  payment_time_views         1134545 non-null  object\n",
      " 13  maid_views                 1134545 non-null  object\n",
      " 14  mid_views                  1134545 non-null  object\n",
      " 15  ad_id_tvca                 1134545 non-null  object\n",
      " 16  click_time                 178716 non-null   object\n",
      " 17  payment_time               178716 non-null   object\n",
      " 18  maid                       178716 non-null   object\n",
      " 19  mid                        178716 non-null   object\n",
      " 20  ad_id_clicks               178716 non-null   object\n",
      " 21  clicked                    1134545 non-null  int64 \n",
      "dtypes: int64(3), object(19)\n",
      "memory usage: 190.4+ MB\n"
     ]
    }
   ],
   "source": [
    "df.info()"
   ]
  },
  {
   "cell_type": "markdown",
   "metadata": {},
   "source": [
    "#### Observation:\n",
    "- click_time, payment_time, maid, mid, ad_id_clicks, sex  and adr contain null values.\n",
    "- There are 3 integer type and 19 object type features."
   ]
  },
  {
   "cell_type": "markdown",
   "metadata": {},
   "source": [
    "# `Exploratory Data Analysis`"
   ]
  },
  {
   "cell_type": "markdown",
   "metadata": {},
   "source": [
    "#### Statistical info of numerical features"
   ]
  },
  {
   "cell_type": "code",
   "execution_count": 158,
   "metadata": {},
   "outputs": [
    {
     "data": {
      "text/html": [
       "<div>\n",
       "<style scoped>\n",
       "    .dataframe tbody tr th:only-of-type {\n",
       "        vertical-align: middle;\n",
       "    }\n",
       "\n",
       "    .dataframe tbody tr th {\n",
       "        vertical-align: top;\n",
       "    }\n",
       "\n",
       "    .dataframe thead th {\n",
       "        text-align: right;\n",
       "    }\n",
       "</style>\n",
       "<table border=\"1\" class=\"dataframe\">\n",
       "  <thead>\n",
       "    <tr style=\"text-align: right;\">\n",
       "      <th></th>\n",
       "      <th>money</th>\n",
       "      <th>industry</th>\n",
       "    </tr>\n",
       "  </thead>\n",
       "  <tbody>\n",
       "    <tr>\n",
       "      <th>count</th>\n",
       "      <td>1.134545e+06</td>\n",
       "      <td>1.134545e+06</td>\n",
       "    </tr>\n",
       "    <tr>\n",
       "      <th>mean</th>\n",
       "      <td>3.470778e+03</td>\n",
       "      <td>1.058766e+03</td>\n",
       "    </tr>\n",
       "    <tr>\n",
       "      <th>std</th>\n",
       "      <td>2.309998e+04</td>\n",
       "      <td>1.545693e+02</td>\n",
       "    </tr>\n",
       "    <tr>\n",
       "      <th>min</th>\n",
       "      <td>1.000000e+00</td>\n",
       "      <td>0.000000e+00</td>\n",
       "    </tr>\n",
       "    <tr>\n",
       "      <th>25%</th>\n",
       "      <td>7.500000e+02</td>\n",
       "      <td>1.000000e+03</td>\n",
       "    </tr>\n",
       "    <tr>\n",
       "      <th>50%</th>\n",
       "      <td>1.400000e+03</td>\n",
       "      <td>1.000000e+03</td>\n",
       "    </tr>\n",
       "    <tr>\n",
       "      <th>75%</th>\n",
       "      <td>2.400000e+03</td>\n",
       "      <td>1.203000e+03</td>\n",
       "    </tr>\n",
       "    <tr>\n",
       "      <th>max</th>\n",
       "      <td>1.883755e+06</td>\n",
       "      <td>1.405000e+03</td>\n",
       "    </tr>\n",
       "  </tbody>\n",
       "</table>\n",
       "</div>"
      ],
      "text/plain": [
       "              money      industry\n",
       "count  1.134545e+06  1.134545e+06\n",
       "mean   3.470778e+03  1.058766e+03\n",
       "std    2.309998e+04  1.545693e+02\n",
       "min    1.000000e+00  0.000000e+00\n",
       "25%    7.500000e+02  1.000000e+03\n",
       "50%    1.400000e+03  1.000000e+03\n",
       "75%    2.400000e+03  1.203000e+03\n",
       "max    1.883755e+06  1.405000e+03"
      ]
     },
     "execution_count": 158,
     "metadata": {},
     "output_type": "execute_result"
    }
   ],
   "source": [
    "df.drop(['clicked'],axis=1).describe()"
   ]
  },
  {
   "cell_type": "markdown",
   "metadata": {},
   "source": [
    "#### Observation:\n",
    "1. There is notably a large difference between 75th %tile and max values of the 'money' column.\n",
    "2. Median value of 'money', 'industry' is lower than mean\n",
    "3. Thus observation 1 and 2 suggest there are lot of outliers in the data specially for the 'money' column."
   ]
  },
  {
   "cell_type": "markdown",
   "metadata": {},
   "source": [
    "### Distribution of impressions lead to a click and those who did not"
   ]
  },
  {
   "cell_type": "code",
   "execution_count": 159,
   "metadata": {
    "scrolled": true
   },
   "outputs": [
    {
     "name": "stdout",
     "output_type": "stream",
     "text": [
      "Number of customers who did not click: 955829\n",
      "Number of customers who clicked: 178716\n",
      "Percentage of customers that clicked to those who did not click: 5.35 %\n"
     ]
    },
    {
     "data": {
      "image/png": "[encoded data removed]",
      "text/plain": [
       "<Figure size 432x288 with 1 Axes>"
      ]
     },
     "metadata": {
      "needs_background": "light"
     },
     "output_type": "display_data"
    }
   ],
   "source": [
    "count_classes = pd.value_counts(df['clicked'], sort = True)\n",
    "colors = ['blue', 'orange']\n",
    "count_classes.plot(kind = 'bar', color=colors)\n",
    "plt.title(\"Click Rate\")\n",
    "plt.xticks(range(2))\n",
    "plt.xlabel(\"Class\")\n",
    "plt.ylabel(\"Frequency\");\n",
    "print('Number of customers who did not click:',df['clicked'].value_counts()[0])\n",
    "print('Number of customers who clicked:',df['clicked'].value_counts()[1])\n",
    "print('Percentage of customers that clicked to those who did not click:',round(df['clicked'].value_counts()[0]/df['clicked'].value_counts()[1],2),'%')"
   ]
  },
  {
   "cell_type": "markdown",
   "metadata": {},
   "source": [
    "### Observation:\n",
    "- The data is imbalanced and so we might have to use techniques like resmapling (undersampling or oversampling) or use metrics like AUC-ROC curve or AUPRC or SMOTE to handle imbalanced data. Lets explore further which will help us decide what technique should we use."
   ]
  },
  {
   "cell_type": "markdown",
   "metadata": {},
   "source": [
    "### Correlation between numerical features"
   ]
  },
  {
   "cell_type": "code",
   "execution_count": 160,
   "metadata": {},
   "outputs": [
    {
     "data": {
      "text/plain": [
       "<AxesSubplot:>"
      ]
     },
     "execution_count": 160,
     "metadata": {},
     "output_type": "execute_result"
    },
    {
     "data": {
      "image/png": "[encoded data removed]",
      "text/plain": [
       "<Figure size 432x288 with 2 Axes>"
      ]
     },
     "metadata": {
      "needs_background": "light"
     },
     "output_type": "display_data"
    }
   ],
   "source": [
    "sns.heatmap(df.corr())"
   ]
  },
  {
   "cell_type": "markdown",
   "metadata": {},
   "source": [
    "#### Observation:\n",
    "Features are not highly correlated."
   ]
  },
  {
   "cell_type": "markdown",
   "metadata": {},
   "source": [
    "### Features Distributions"
   ]
  },
  {
   "cell_type": "markdown",
   "metadata": {},
   "source": [
    "### `kind_Pay` "
   ]
  },
  {
   "cell_type": "code",
   "execution_count": 161,
   "metadata": {
    "scrolled": true
   },
   "outputs": [
    {
     "data": {
      "text/plain": [
       "<AxesSubplot:>"
      ]
     },
     "execution_count": 161,
     "metadata": {},
     "output_type": "execute_result"
    },
    {
     "data": {
      "image/png": "[encoded data removed]",
      "text/plain": [
       "<Figure size 432x288 with 1 Axes>"
      ]
     },
     "metadata": {
      "needs_background": "light"
     },
     "output_type": "display_data"
    }
   ],
   "source": [
    "df['kind_Pay'].value_counts().plot(kind='bar', color=\"salmon\")"
   ]
  },
  {
   "cell_type": "markdown",
   "metadata": {},
   "source": [
    "### `kind_Card` "
   ]
  },
  {
   "cell_type": "code",
   "execution_count": 162,
   "metadata": {},
   "outputs": [
    {
     "data": {
      "text/plain": [
       "<AxesSubplot:>"
      ]
     },
     "execution_count": 162,
     "metadata": {},
     "output_type": "execute_result"
    },
    {
     "data": {
      "image/png": "[encoded data removed]",
      "text/plain": [
       "<Figure size 432x288 with 1 Axes>"
      ]
     },
     "metadata": {
      "needs_background": "light"
     },
     "output_type": "display_data"
    }
   ],
   "source": [
    "df['kind_Card'].value_counts().plot(kind='bar', color=\"salmon\")"
   ]
  },
  {
   "cell_type": "markdown",
   "metadata": {},
   "source": [
    "### `Network` "
   ]
  },
  {
   "cell_type": "code",
   "execution_count": 163,
   "metadata": {},
   "outputs": [
    {
     "data": {
      "text/plain": [
       "<AxesSubplot:>"
      ]
     },
     "execution_count": 163,
     "metadata": {},
     "output_type": "execute_result"
    },
    {
     "data": {
      "image/png": "[encoded data removed]",
      "text/plain": [
       "<Figure size 432x288 with 1 Axes>"
      ]
     },
     "metadata": {
      "needs_background": "light"
     },
     "output_type": "display_data"
    }
   ],
   "source": [
    "df['network'].value_counts().plot(kind='bar', color=\"salmon\")"
   ]
  },
  {
   "cell_type": "markdown",
   "metadata": {},
   "source": [
    "### `Industry` "
   ]
  },
  {
   "cell_type": "code",
   "execution_count": 164,
   "metadata": {},
   "outputs": [
    {
     "data": {
      "text/plain": [
       "<AxesSubplot:>"
      ]
     },
     "execution_count": 164,
     "metadata": {},
     "output_type": "execute_result"
    },
    {
     "data": {
      "image/png": "[encoded data removed]",
      "text/plain": [
       "<Figure size 432x288 with 1 Axes>"
      ]
     },
     "metadata": {
      "needs_background": "light"
     },
     "output_type": "display_data"
    }
   ],
   "source": [
    "df['industry'].value_counts().plot(kind='bar', color=\"salmon\")"
   ]
  },
  {
   "cell_type": "markdown",
   "metadata": {},
   "source": [
    "### `Sex` "
   ]
  },
  {
   "cell_type": "code",
   "execution_count": 165,
   "metadata": {},
   "outputs": [
    {
     "data": {
      "text/plain": [
       "<AxesSubplot:>"
      ]
     },
     "execution_count": 165,
     "metadata": {},
     "output_type": "execute_result"
    },
    {
     "data": {
      "image/png": "[encoded data removed]",
      "text/plain": [
       "<Figure size 432x288 with 1 Axes>"
      ]
     },
     "metadata": {
      "needs_background": "light"
     },
     "output_type": "display_data"
    }
   ],
   "source": [
    "df['sex'].value_counts().plot(kind='bar', color=\"salmon\")"
   ]
  },
  {
   "cell_type": "markdown",
   "metadata": {},
   "source": [
    "## `Ad ID`"
   ]
  },
  {
   "cell_type": "code",
   "execution_count": 166,
   "metadata": {
    "scrolled": true
   },
   "outputs": [
    {
     "data": {
      "text/plain": [
       "<AxesSubplot:>"
      ]
     },
     "execution_count": 166,
     "metadata": {},
     "output_type": "execute_result"
    },
    {
     "data": {
      "image/png": "[encoded data removed]",
      "text/plain": [
       "<Figure size 432x288 with 1 Axes>"
      ]
     },
     "metadata": {
      "needs_background": "light"
     },
     "output_type": "display_data"
    }
   ],
   "source": [
    "df['ad_id_clicks'].value_counts().plot(kind = 'bar', color=\"salmon\")"
   ]
  },
  {
   "cell_type": "markdown",
   "metadata": {},
   "source": [
    "## `CTR Calculation`"
   ]
  },
  {
   "cell_type": "markdown",
   "metadata": {},
   "source": [
    "Click Through Rate (CTR) could be calculated by finding the portion percentage of the clicked to non-clicked impressions."
   ]
  },
  {
   "cell_type": "markdown",
   "metadata": {},
   "source": [
    "### `kind_Pay`"
   ]
  },
  {
   "cell_type": "code",
   "execution_count": 235,
   "metadata": {},
   "outputs": [
    {
     "data": {
      "image/png": "[encoded data removed]",
      "text/plain": [
       "<Figure size 864x432 with 1 Axes>"
      ]
     },
     "metadata": {
      "needs_background": "light"
     },
     "output_type": "display_data"
    }
   ],
   "source": [
    "df_click = df[df['clicked'] == 1]\n",
    "df_kindpay = df[['kind_Pay','clicked']].groupby(['kind_Pay']).count().reset_index()\n",
    "df_kindpay = df_kindpay.rename(columns={'clicked': 'impressions'})\n",
    "df_kindpay['clicks'] = df_click[['kind_Pay','clicked']].groupby(['kind_Pay']).count().reset_index()['clicked']\n",
    "df_kindpay['CTR_KP'] = df_kindpay['clicks']/df_kindpay['impressions']*100\n",
    "plt.figure(figsize=(12,6))\n",
    "sns.barplot(y='CTR_KP', x='kind_Pay', data=df_kindpay)\n",
    "plt.title('kind_Pay CTR');"
   ]
  },
  {
   "cell_type": "markdown",
   "metadata": {},
   "source": [
    "### `kind_Card`"
   ]
  },
  {
   "cell_type": "code",
   "execution_count": 236,
   "metadata": {},
   "outputs": [
    {
     "data": {
      "image/png": "[encoded data removed]",
      "text/plain": [
       "<Figure size 864x432 with 1 Axes>"
      ]
     },
     "metadata": {
      "needs_background": "light"
     },
     "output_type": "display_data"
    }
   ],
   "source": [
    "###Calculating CTR based on the 'kind_card'\n",
    "df_click = df[df['clicked'] == 1]\n",
    "df_kindcard = df[['kind_Card','clicked']].groupby(['kind_Card']).count().reset_index()\n",
    "df_kindcard = df_kindcard.rename(columns={'clicked': 'impressions'})\n",
    "df_kindcard['clicks'] = df_click[['kind_Card','clicked']].groupby(['kind_Card']).count().reset_index()['clicked']\n",
    "df_kindcard['CTR_KC'] = df_kindcard['clicks']/df_kindcard['impressions']*100\n",
    "plt.figure(figsize=(12,6))\n",
    "sns.barplot(y='CTR_KC', x='kind_Card', data=df_kindcard)\n",
    "plt.title('Kind_Card CTR');"
   ]
  },
  {
   "cell_type": "markdown",
   "metadata": {},
   "source": [
    "# `Data Cleaning`\n"
   ]
  },
  {
   "cell_type": "markdown",
   "metadata": {},
   "source": [
    "We will do some EDA again after cleaning our data and engineering the features."
   ]
  },
  {
   "cell_type": "markdown",
   "metadata": {},
   "source": [
    "### Dropping Duplicates \n",
    "Some records have been duplicated throughout the database."
   ]
  },
  {
   "cell_type": "code",
   "execution_count": 167,
   "metadata": {},
   "outputs": [
    {
     "name": "stdout",
     "output_type": "stream",
     "text": [
      "(1134545, 22)\n"
     ]
    },
    {
     "data": {
      "text/plain": [
       "(1123016, 22)"
      ]
     },
     "execution_count": 167,
     "metadata": {},
     "output_type": "execute_result"
    }
   ],
   "source": [
    "print(df.shape)\n",
    "df = df.drop_duplicates(keep = 'first') # Drop duplicates except for the first occurrence.\n",
    "df.shape"
   ]
  },
  {
   "cell_type": "markdown",
   "metadata": {},
   "source": [
    "### Check the null values\n",
    "\n",
    "- To handle missing values, there are various techniques:\n",
    "   Listwise deletion, Recover the values, Educated guessing, Average Imputation,\n",
    "   Common Point imputation, Regression Substitution, Multiple Imputation\n",
    "   \n",
    "- We deal with handling missing values based on the dataset and domain knowledge.  \n",
    "  the null values here. "
   ]
  },
  {
   "cell_type": "code",
   "execution_count": 168,
   "metadata": {},
   "outputs": [
    {
     "data": {
      "text/plain": [
       "Unnamed: 0                        0\n",
       "maid_transactions                 0\n",
       "payment_time_transactions         0\n",
       "money                             0\n",
       "kind_Pay                          0\n",
       "kind_Card                         0\n",
       "mid_transactions                  0\n",
       "network                           0\n",
       "industry                          0\n",
       "sex                              54\n",
       "adr                            7918\n",
       "view_time                         0\n",
       "payment_time_views                0\n",
       "maid_views                        0\n",
       "mid_views                         0\n",
       "ad_id_tvca                        0\n",
       "click_time                   955814\n",
       "payment_time                 955814\n",
       "maid                         955814\n",
       "mid                          955814\n",
       "ad_id_clicks                 955814\n",
       "clicked                           0\n",
       "dtype: int64"
      ]
     },
     "execution_count": 168,
     "metadata": {},
     "output_type": "execute_result"
    }
   ],
   "source": [
    "df.isnull().sum()"
   ]
  },
  {
   "cell_type": "markdown",
   "metadata": {},
   "source": [
    "### `Gender`"
   ]
  },
  {
   "cell_type": "code",
   "execution_count": 169,
   "metadata": {
    "scrolled": true
   },
   "outputs": [
    {
     "data": {
      "text/plain": [
       "male       852177\n",
       "female     263124\n",
       "unkonwn      7661\n",
       "Name: sex, dtype: int64"
      ]
     },
     "execution_count": 169,
     "metadata": {},
     "output_type": "execute_result"
    }
   ],
   "source": [
    "df['sex'].value_counts().head()"
   ]
  },
  {
   "cell_type": "code",
   "execution_count": 170,
   "metadata": {},
   "outputs": [],
   "source": [
    "df['sex'] = df['sex'].replace({'unkonwn': 'unknown'}) # Renaming Features "
   ]
  },
  {
   "cell_type": "code",
   "execution_count": 171,
   "metadata": {},
   "outputs": [],
   "source": [
    "df['sex'].fillna('unknown', inplace = True) # Filling Nulls with `unknown`"
   ]
  },
  {
   "cell_type": "code",
   "execution_count": 172,
   "metadata": {},
   "outputs": [
    {
     "data": {
      "text/plain": [
       "male       852177\n",
       "female     263124\n",
       "unknown      7715\n",
       "Name: sex, dtype: int64"
      ]
     },
     "execution_count": 172,
     "metadata": {},
     "output_type": "execute_result"
    }
   ],
   "source": [
    "df['sex'].value_counts().head()"
   ]
  },
  {
   "cell_type": "markdown",
   "metadata": {},
   "source": [
    "### `Address`"
   ]
  },
  {
   "cell_type": "code",
   "execution_count": 173,
   "metadata": {},
   "outputs": [
    {
     "data": {
      "text/plain": [
       "朝阳区望京东路4号院                       4916\n",
       "南阳市长江东路                          4450\n",
       "北京市丰台区莲花池东路116-2                 2786\n",
       "北京丰台永辉超市二层美食城                    1789\n",
       "朝阳区酒仙桥路12号1号楼LJ02-73-74-75-76    1507\n",
       "Name: adr, dtype: int64"
      ]
     },
     "execution_count": 173,
     "metadata": {},
     "output_type": "execute_result"
    }
   ],
   "source": [
    "df['adr'].value_counts().head()"
   ]
  },
  {
   "cell_type": "code",
   "execution_count": 174,
   "metadata": {},
   "outputs": [],
   "source": [
    "df['adr'].fillna('unknown', inplace = True)"
   ]
  },
  {
   "cell_type": "code",
   "execution_count": 175,
   "metadata": {},
   "outputs": [
    {
     "data": {
      "text/plain": [
       "unknown             7918\n",
       "朝阳区望京东路4号院          4916\n",
       "南阳市长江东路             4450\n",
       "北京市丰台区莲花池东路116-2    2786\n",
       "北京丰台永辉超市二层美食城       1789\n",
       "Name: adr, dtype: int64"
      ]
     },
     "execution_count": 175,
     "metadata": {},
     "output_type": "execute_result"
    }
   ],
   "source": [
    "df['adr'].value_counts().head()"
   ]
  },
  {
   "cell_type": "markdown",
   "metadata": {},
   "source": [
    "### `Click Time`"
   ]
  },
  {
   "cell_type": "code",
   "execution_count": 176,
   "metadata": {
    "scrolled": true
   },
   "outputs": [
    {
     "data": {
      "text/plain": [
       "2017-08-01 12:21:13    23\n",
       "2017-08-01 18:53:40    22\n",
       "2017-08-01 12:17:05    21\n",
       "2017-08-01 18:44:50    21\n",
       "2017-08-01 18:37:58    21\n",
       "2017-08-01 18:53:39    20\n",
       "2017-08-01 19:19:32    20\n",
       "2017-08-01 12:10:12    19\n",
       "2017-08-01 22:17:36    19\n",
       "2017-08-01 22:17:38    19\n",
       "Name: click_time, dtype: int64"
      ]
     },
     "execution_count": 176,
     "metadata": {},
     "output_type": "execute_result"
    }
   ],
   "source": [
    "df['click_time'].value_counts().head(10)"
   ]
  },
  {
   "cell_type": "markdown",
   "metadata": {},
   "source": [
    "### `Ad ID`"
   ]
  },
  {
   "cell_type": "code",
   "execution_count": 177,
   "metadata": {},
   "outputs": [
    {
     "data": {
      "text/plain": [
       "apjA    481355\n",
       "zV3w    157536\n",
       "zmAg    123214\n",
       "a98n    108728\n",
       "anqQ     98044\n",
       "aKj7     78490\n",
       "zjPY     74998\n",
       "4dlZ       334\n",
       "4vmr       296\n",
       "aPq5         6\n",
       "zrVd         4\n",
       "zQBB         3\n",
       "agr5         2\n",
       "a28q         2\n",
       "yMQJ         2\n",
       "zm5g         1\n",
       "z08K         1\n",
       "Name: ad_id_tvca, dtype: int64"
      ]
     },
     "execution_count": 177,
     "metadata": {},
     "output_type": "execute_result"
    }
   ],
   "source": [
    "df['ad_id_tvca'].value_counts()"
   ]
  },
  {
   "cell_type": "markdown",
   "metadata": {},
   "source": [
    "### `Feature Selection` "
   ]
  },
  {
   "cell_type": "markdown",
   "metadata": {},
   "source": [
    "- Let's take a look at the dataset columns again:"
   ]
  },
  {
   "cell_type": "code",
   "execution_count": 178,
   "metadata": {},
   "outputs": [
    {
     "name": "stdout",
     "output_type": "stream",
     "text": [
      "<class 'pandas.core.frame.DataFrame'>\n",
      "Int64Index: 1123016 entries, 0 to 1134544\n",
      "Data columns (total 22 columns):\n",
      " #   Column                     Non-Null Count    Dtype \n",
      "---  ------                     --------------    ----- \n",
      " 0   Unnamed: 0                 1123016 non-null  object\n",
      " 1   maid_transactions          1123016 non-null  object\n",
      " 2   payment_time_transactions  1123016 non-null  object\n",
      " 3   money                      1123016 non-null  int64 \n",
      " 4   kind_Pay                   1123016 non-null  object\n",
      " 5   kind_Card                  1123016 non-null  object\n",
      " 6   mid_transactions           1123016 non-null  object\n",
      " 7   network                    1123016 non-null  object\n",
      " 8   industry                   1123016 non-null  int64 \n",
      " 9   sex                        1123016 non-null  object\n",
      " 10  adr                        1123016 non-null  object\n",
      " 11  view_time                  1123016 non-null  object\n",
      " 12  payment_time_views         1123016 non-null  object\n",
      " 13  maid_views                 1123016 non-null  object\n",
      " 14  mid_views                  1123016 non-null  object\n",
      " 15  ad_id_tvca                 1123016 non-null  object\n",
      " 16  click_time                 167202 non-null   object\n",
      " 17  payment_time               167202 non-null   object\n",
      " 18  maid                       167202 non-null   object\n",
      " 19  mid                        167202 non-null   object\n",
      " 20  ad_id_clicks               167202 non-null   object\n",
      " 21  clicked                    1123016 non-null  int64 \n",
      "dtypes: int64(3), object(19)\n",
      "memory usage: 197.1+ MB\n"
     ]
    }
   ],
   "source": [
    "df.info()"
   ]
  },
  {
   "cell_type": "markdown",
   "metadata": {},
   "source": [
    "#### Domain Knowledge"
   ]
  },
  {
   "cell_type": "markdown",
   "metadata": {},
   "source": [
    "- In order to design our dataset, we consider each impression as a record. It is vivid that some columns have no contributions to the click prediction target."
   ]
  },
  {
   "cell_type": "markdown",
   "metadata": {},
   "source": [
    "`Unnamed: 0`: has no contribution, we drop it.\n",
    "\n",
    "`maid_transactions`: customer ID is not relevant here. We drop it.\n",
    "\n",
    "`payment_time_transactions`: Payment time may have effect as the customer behaviour is volatile to different hours. we will convert it to the hour of payment for each transaction.\n",
    "\n",
    "`money`: could be important as a numeric variable.\n",
    "\n",
    "`kind_Pay`: payment method could be a feature.\n",
    "\n",
    "`kind_Card`: Card type (`Debit` or `Credit`) could be an important feature.\n",
    "\n",
    "`mid_transactions`: `store ID` is not pertaining to the problem target.\n",
    "\n",
    "`network`: Network class (`2g`, `3g`, `4g`, etc.) could be a game changer in the customers' behaviour.\n",
    "\n",
    "`industry`: the industry pertaining to the commodities ordered by the customers could be a relevant feature. we keep it for now.\n",
    "\n",
    "`sex`: customer gender is surely an important feature as women's preferences are different from men's preferences. \n",
    "\n",
    "`adr`: Store address could be relevant, but we lack further information about the geodata of stores and there are multiple categories making it a challenging feature to be used. So we drop it.\n",
    "\n",
    "`view_time`: View time may have effect as the customer behaviour is volatile to different hours. we will convert it to the hour of view for each transaction.\n",
    "\n",
    "`payment_time_views`: Not Applicable. We drop it.\n",
    "\n",
    "`maid_views`: Not Applicable. We drop it.\n",
    "\n",
    "`mid_views`: Not Applicable. We drop it.\n",
    "\n",
    "`ad_id_tvca`: Ad ID could be important as people react better to engaging ads.\n",
    "\n",
    "`click_time`: Not Applicable here. we have no information in advance about this. Our target is to predict click_time based on previous payment and view data. We drop it.\n",
    "\n",
    "`payment_time`: Not Applicable. We drop it.\n",
    "\n",
    "`maid`: Not Applicable. We drop it.\n",
    "\n",
    "`mid`: Not Applicable. We drop it.\n",
    "\n",
    "`ad_id_clicks`: Not Applicable. We drop it.\n",
    "\n",
    "`clicked`: Target variable to be used."
   ]
  },
  {
   "cell_type": "code",
   "execution_count": 179,
   "metadata": {},
   "outputs": [],
   "source": [
    "df = df.drop(columns=['Unnamed: 0','payment_time_views','adr'\n",
    "                ,'maid_views','mid_views','click_time',\n",
    "                'payment_time','maid','mid','ad_id_clicks'])"
   ]
  },
  {
   "cell_type": "code",
   "execution_count": 180,
   "metadata": {
    "scrolled": false
   },
   "outputs": [
    {
     "data": {
      "text/html": [
       "<div>\n",
       "<style scoped>\n",
       "    .dataframe tbody tr th:only-of-type {\n",
       "        vertical-align: middle;\n",
       "    }\n",
       "\n",
       "    .dataframe tbody tr th {\n",
       "        vertical-align: top;\n",
       "    }\n",
       "\n",
       "    .dataframe thead th {\n",
       "        text-align: right;\n",
       "    }\n",
       "</style>\n",
       "<table border=\"1\" class=\"dataframe\">\n",
       "  <thead>\n",
       "    <tr style=\"text-align: right;\">\n",
       "      <th></th>\n",
       "      <th>maid_transactions</th>\n",
       "      <th>payment_time_transactions</th>\n",
       "      <th>money</th>\n",
       "      <th>kind_Pay</th>\n",
       "      <th>kind_Card</th>\n",
       "      <th>mid_transactions</th>\n",
       "      <th>network</th>\n",
       "      <th>industry</th>\n",
       "      <th>sex</th>\n",
       "      <th>view_time</th>\n",
       "      <th>ad_id_tvca</th>\n",
       "      <th>clicked</th>\n",
       "    </tr>\n",
       "  </thead>\n",
       "  <tbody>\n",
       "    <tr>\n",
       "      <th>0</th>\n",
       "      <td>AoL98D</td>\n",
       "      <td>2017-08-01 00:00:01</td>\n",
       "      <td>300</td>\n",
       "      <td>4JBo</td>\n",
       "      <td>DEBIT</td>\n",
       "      <td>r0g7</td>\n",
       "      <td>3g+</td>\n",
       "      <td>1203</td>\n",
       "      <td>male</td>\n",
       "      <td>2017-08-01 00:00:20</td>\n",
       "      <td>a98n</td>\n",
       "      <td>0</td>\n",
       "    </tr>\n",
       "    <tr>\n",
       "      <th>1</th>\n",
       "      <td>Y1WM51</td>\n",
       "      <td>2017-08-01 00:00:01</td>\n",
       "      <td>26400</td>\n",
       "      <td>4JBo</td>\n",
       "      <td>DEBIT</td>\n",
       "      <td>0G76</td>\n",
       "      <td>3g+</td>\n",
       "      <td>1000</td>\n",
       "      <td>female</td>\n",
       "      <td>2017-08-01 00:00:04</td>\n",
       "      <td>zjPY</td>\n",
       "      <td>0</td>\n",
       "    </tr>\n",
       "    <tr>\n",
       "      <th>2</th>\n",
       "      <td>Y1WM51</td>\n",
       "      <td>2017-08-01 00:00:01</td>\n",
       "      <td>26400</td>\n",
       "      <td>4JBo</td>\n",
       "      <td>DEBIT</td>\n",
       "      <td>0G76</td>\n",
       "      <td>3g+</td>\n",
       "      <td>1000</td>\n",
       "      <td>female</td>\n",
       "      <td>2017-08-01 00:00:06</td>\n",
       "      <td>apjA</td>\n",
       "      <td>0</td>\n",
       "    </tr>\n",
       "    <tr>\n",
       "      <th>3</th>\n",
       "      <td>k0oJAA</td>\n",
       "      <td>2017-08-01 00:00:01</td>\n",
       "      <td>800</td>\n",
       "      <td>4JBo</td>\n",
       "      <td>DEBIT</td>\n",
       "      <td>K10o</td>\n",
       "      <td>unknown</td>\n",
       "      <td>1000</td>\n",
       "      <td>male</td>\n",
       "      <td>2017-08-01 00:00:04</td>\n",
       "      <td>zmAg</td>\n",
       "      <td>0</td>\n",
       "    </tr>\n",
       "    <tr>\n",
       "      <th>4</th>\n",
       "      <td>k0oJAA</td>\n",
       "      <td>2017-08-01 00:00:01</td>\n",
       "      <td>800</td>\n",
       "      <td>4JBo</td>\n",
       "      <td>DEBIT</td>\n",
       "      <td>K10o</td>\n",
       "      <td>unknown</td>\n",
       "      <td>1000</td>\n",
       "      <td>male</td>\n",
       "      <td>2017-08-01 00:00:07</td>\n",
       "      <td>apjA</td>\n",
       "      <td>0</td>\n",
       "    </tr>\n",
       "    <tr>\n",
       "      <th>...</th>\n",
       "      <td>...</td>\n",
       "      <td>...</td>\n",
       "      <td>...</td>\n",
       "      <td>...</td>\n",
       "      <td>...</td>\n",
       "      <td>...</td>\n",
       "      <td>...</td>\n",
       "      <td>...</td>\n",
       "      <td>...</td>\n",
       "      <td>...</td>\n",
       "      <td>...</td>\n",
       "      <td>...</td>\n",
       "    </tr>\n",
       "    <tr>\n",
       "      <th>1134540</th>\n",
       "      <td>WVEgAo</td>\n",
       "      <td>2017-08-01 23:59:59</td>\n",
       "      <td>1000</td>\n",
       "      <td>zO8g</td>\n",
       "      <td>CREDIT</td>\n",
       "      <td>BYle</td>\n",
       "      <td>unknown</td>\n",
       "      <td>1225</td>\n",
       "      <td>male</td>\n",
       "      <td>2017-08-02 00:00:05</td>\n",
       "      <td>zV3w</td>\n",
       "      <td>1</td>\n",
       "    </tr>\n",
       "    <tr>\n",
       "      <th>1134541</th>\n",
       "      <td>qlgYYx</td>\n",
       "      <td>2017-08-01 23:59:59</td>\n",
       "      <td>350</td>\n",
       "      <td>4JBo</td>\n",
       "      <td>DEBIT</td>\n",
       "      <td>X180A</td>\n",
       "      <td>4g</td>\n",
       "      <td>1204</td>\n",
       "      <td>male</td>\n",
       "      <td>2017-08-02 00:00:03</td>\n",
       "      <td>apjA</td>\n",
       "      <td>0</td>\n",
       "    </tr>\n",
       "    <tr>\n",
       "      <th>1134542</th>\n",
       "      <td>5AORbZ</td>\n",
       "      <td>2017-08-02 00:00:00</td>\n",
       "      <td>2000</td>\n",
       "      <td>4JBo</td>\n",
       "      <td>DEBIT</td>\n",
       "      <td>l50r</td>\n",
       "      <td>4g</td>\n",
       "      <td>1000</td>\n",
       "      <td>male</td>\n",
       "      <td>2017-08-02 00:00:03</td>\n",
       "      <td>apjA</td>\n",
       "      <td>1</td>\n",
       "    </tr>\n",
       "    <tr>\n",
       "      <th>1134543</th>\n",
       "      <td>J0RL</td>\n",
       "      <td>2017-08-02 00:00:00</td>\n",
       "      <td>350</td>\n",
       "      <td>4JBo</td>\n",
       "      <td>CREDIT</td>\n",
       "      <td>lKXO</td>\n",
       "      <td>2g</td>\n",
       "      <td>1203</td>\n",
       "      <td>male</td>\n",
       "      <td>2017-08-02 00:00:02</td>\n",
       "      <td>zmAg</td>\n",
       "      <td>0</td>\n",
       "    </tr>\n",
       "    <tr>\n",
       "      <th>1134544</th>\n",
       "      <td>dKg05j</td>\n",
       "      <td>2017-08-02 00:00:00</td>\n",
       "      <td>2100</td>\n",
       "      <td>4JBo</td>\n",
       "      <td>DEBIT</td>\n",
       "      <td>Ympn</td>\n",
       "      <td>unknown</td>\n",
       "      <td>1203</td>\n",
       "      <td>male</td>\n",
       "      <td>2017-08-02 00:04:45</td>\n",
       "      <td>apjA</td>\n",
       "      <td>1</td>\n",
       "    </tr>\n",
       "  </tbody>\n",
       "</table>\n",
       "<p>1123016 rows × 12 columns</p>\n",
       "</div>"
      ],
      "text/plain": [
       "        maid_transactions payment_time_transactions  money kind_Pay kind_Card  \\\n",
       "0                  AoL98D       2017-08-01 00:00:01    300     4JBo     DEBIT   \n",
       "1                  Y1WM51       2017-08-01 00:00:01  26400     4JBo     DEBIT   \n",
       "2                  Y1WM51       2017-08-01 00:00:01  26400     4JBo     DEBIT   \n",
       "3                  k0oJAA       2017-08-01 00:00:01    800     4JBo     DEBIT   \n",
       "4                  k0oJAA       2017-08-01 00:00:01    800     4JBo     DEBIT   \n",
       "...                   ...                       ...    ...      ...       ...   \n",
       "1134540            WVEgAo       2017-08-01 23:59:59   1000     zO8g    CREDIT   \n",
       "1134541            qlgYYx       2017-08-01 23:59:59    350     4JBo     DEBIT   \n",
       "1134542            5AORbZ       2017-08-02 00:00:00   2000     4JBo     DEBIT   \n",
       "1134543              J0RL       2017-08-02 00:00:00    350     4JBo    CREDIT   \n",
       "1134544            dKg05j       2017-08-02 00:00:00   2100     4JBo     DEBIT   \n",
       "\n",
       "        mid_transactions  network  industry     sex            view_time  \\\n",
       "0                   r0g7      3g+      1203    male  2017-08-01 00:00:20   \n",
       "1                   0G76      3g+      1000  female  2017-08-01 00:00:04   \n",
       "2                   0G76      3g+      1000  female  2017-08-01 00:00:06   \n",
       "3                   K10o  unknown      1000    male  2017-08-01 00:00:04   \n",
       "4                   K10o  unknown      1000    male  2017-08-01 00:00:07   \n",
       "...                  ...      ...       ...     ...                  ...   \n",
       "1134540             BYle  unknown      1225    male  2017-08-02 00:00:05   \n",
       "1134541            X180A       4g      1204    male  2017-08-02 00:00:03   \n",
       "1134542             l50r       4g      1000    male  2017-08-02 00:00:03   \n",
       "1134543             lKXO       2g      1203    male  2017-08-02 00:00:02   \n",
       "1134544             Ympn  unknown      1203    male  2017-08-02 00:04:45   \n",
       "\n",
       "        ad_id_tvca  clicked  \n",
       "0             a98n        0  \n",
       "1             zjPY        0  \n",
       "2             apjA        0  \n",
       "3             zmAg        0  \n",
       "4             apjA        0  \n",
       "...            ...      ...  \n",
       "1134540       zV3w        1  \n",
       "1134541       apjA        0  \n",
       "1134542       apjA        1  \n",
       "1134543       zmAg        0  \n",
       "1134544       apjA        1  \n",
       "\n",
       "[1123016 rows x 12 columns]"
      ]
     },
     "execution_count": 180,
     "metadata": {},
     "output_type": "execute_result"
    }
   ],
   "source": [
    "df"
   ]
  },
  {
   "cell_type": "markdown",
   "metadata": {},
   "source": [
    "## Click Scenarios\n",
    "Based on the dataframe, there might happen different click scenarios as below:\n",
    "\n",
    "- Payment \n",
    "- Payment, View \n",
    "- Payment, View, View \n",
    "- Payment, View, Click\n",
    "- Payment, View, Wait, Click\n",
    "- Payment, View, View, View, Click (or there may be as many as views between the payment and click)\n",
    "\n",
    "Based on these scenarios, we can define new features to cover them.\n",
    "1. As our target is the click prediction, we can use `payment_time_transactions` and `view_time`.\n",
    "2. We can extract hour data of payments and views as it is volatile to hourly changes.\n",
    "3. We can calculate the number of views by filtering down the impressions uniqued by the user ID and payment time specific to each transaction. "
   ]
  },
  {
   "cell_type": "markdown",
   "metadata": {},
   "source": [
    "### Transaction based GroupBy"
   ]
  },
  {
   "cell_type": "code",
   "execution_count": 181,
   "metadata": {
    "scrolled": true
   },
   "outputs": [
    {
     "data": {
      "text/plain": [
       "0         1\n",
       "1         2\n",
       "2         1\n",
       "3         1\n",
       "4         1\n",
       "         ..\n",
       "924377    1\n",
       "924378    1\n",
       "924379    1\n",
       "924380    2\n",
       "924381    1\n",
       "Name: clicked, Length: 924382, dtype: int64"
      ]
     },
     "execution_count": 181,
     "metadata": {},
     "output_type": "execute_result"
    }
   ],
   "source": [
    "df.groupby(['maid_transactions', 'payment_time_transactions'], group_keys=False).count().reset_index()['clicked']"
   ]
  },
  {
   "cell_type": "markdown",
   "metadata": {},
   "source": [
    "### Number of view counts for each transaction"
   ]
  },
  {
   "cell_type": "code",
   "execution_count": 182,
   "metadata": {},
   "outputs": [],
   "source": [
    "view_counts = df.groupby(['maid_transactions', 'payment_time_transactions'], group_keys=False).count().reset_index()['clicked']"
   ]
  },
  {
   "cell_type": "code",
   "execution_count": 183,
   "metadata": {
    "scrolled": true
   },
   "outputs": [
    {
     "data": {
      "text/plain": [
       "0         1\n",
       "1         2\n",
       "2         1\n",
       "3         1\n",
       "4         1\n",
       "         ..\n",
       "924377    1\n",
       "924378    1\n",
       "924379    1\n",
       "924380    2\n",
       "924381    1\n",
       "Name: clicked, Length: 924382, dtype: int64"
      ]
     },
     "execution_count": 183,
     "metadata": {},
     "output_type": "execute_result"
    }
   ],
   "source": [
    "view_counts"
   ]
  },
  {
   "cell_type": "markdown",
   "metadata": {},
   "source": [
    "#### Keeping the last impression of each transaction "
   ]
  },
  {
   "cell_type": "code",
   "execution_count": 184,
   "metadata": {
    "scrolled": true
   },
   "outputs": [
    {
     "data": {
      "text/html": [
       "<div>\n",
       "<style scoped>\n",
       "    .dataframe tbody tr th:only-of-type {\n",
       "        vertical-align: middle;\n",
       "    }\n",
       "\n",
       "    .dataframe tbody tr th {\n",
       "        vertical-align: top;\n",
       "    }\n",
       "\n",
       "    .dataframe thead th {\n",
       "        text-align: right;\n",
       "    }\n",
       "</style>\n",
       "<table border=\"1\" class=\"dataframe\">\n",
       "  <thead>\n",
       "    <tr style=\"text-align: right;\">\n",
       "      <th></th>\n",
       "      <th>index</th>\n",
       "      <th>maid_transactions</th>\n",
       "      <th>payment_time_transactions</th>\n",
       "      <th>money</th>\n",
       "      <th>kind_Pay</th>\n",
       "      <th>kind_Card</th>\n",
       "      <th>mid_transactions</th>\n",
       "      <th>network</th>\n",
       "      <th>industry</th>\n",
       "      <th>sex</th>\n",
       "      <th>view_time</th>\n",
       "      <th>ad_id_tvca</th>\n",
       "      <th>clicked</th>\n",
       "    </tr>\n",
       "  </thead>\n",
       "  <tbody>\n",
       "    <tr>\n",
       "      <th>0</th>\n",
       "      <td>0</td>\n",
       "      <td>AoL98D</td>\n",
       "      <td>2017-08-01 00:00:01</td>\n",
       "      <td>300</td>\n",
       "      <td>4JBo</td>\n",
       "      <td>DEBIT</td>\n",
       "      <td>r0g7</td>\n",
       "      <td>3g+</td>\n",
       "      <td>1203</td>\n",
       "      <td>male</td>\n",
       "      <td>2017-08-01 00:00:20</td>\n",
       "      <td>a98n</td>\n",
       "      <td>0</td>\n",
       "    </tr>\n",
       "    <tr>\n",
       "      <th>1</th>\n",
       "      <td>2</td>\n",
       "      <td>Y1WM51</td>\n",
       "      <td>2017-08-01 00:00:01</td>\n",
       "      <td>26400</td>\n",
       "      <td>4JBo</td>\n",
       "      <td>DEBIT</td>\n",
       "      <td>0G76</td>\n",
       "      <td>3g+</td>\n",
       "      <td>1000</td>\n",
       "      <td>female</td>\n",
       "      <td>2017-08-01 00:00:06</td>\n",
       "      <td>apjA</td>\n",
       "      <td>0</td>\n",
       "    </tr>\n",
       "    <tr>\n",
       "      <th>2</th>\n",
       "      <td>4</td>\n",
       "      <td>k0oJAA</td>\n",
       "      <td>2017-08-01 00:00:01</td>\n",
       "      <td>800</td>\n",
       "      <td>4JBo</td>\n",
       "      <td>DEBIT</td>\n",
       "      <td>K10o</td>\n",
       "      <td>unknown</td>\n",
       "      <td>1000</td>\n",
       "      <td>male</td>\n",
       "      <td>2017-08-01 00:00:07</td>\n",
       "      <td>apjA</td>\n",
       "      <td>0</td>\n",
       "    </tr>\n",
       "    <tr>\n",
       "      <th>3</th>\n",
       "      <td>5</td>\n",
       "      <td>n3N72D</td>\n",
       "      <td>2017-08-01 00:00:01</td>\n",
       "      <td>1200</td>\n",
       "      <td>4JBo</td>\n",
       "      <td>DEBIT</td>\n",
       "      <td>9PO1</td>\n",
       "      <td>unknown</td>\n",
       "      <td>1000</td>\n",
       "      <td>male</td>\n",
       "      <td>2017-08-01 00:01:39</td>\n",
       "      <td>a98n</td>\n",
       "      <td>0</td>\n",
       "    </tr>\n",
       "    <tr>\n",
       "      <th>4</th>\n",
       "      <td>7</td>\n",
       "      <td>9NDrlQ</td>\n",
       "      <td>2017-08-01 00:00:02</td>\n",
       "      <td>11000</td>\n",
       "      <td>4JBo</td>\n",
       "      <td>DEBIT</td>\n",
       "      <td>X1KAP</td>\n",
       "      <td>4g</td>\n",
       "      <td>1019</td>\n",
       "      <td>male</td>\n",
       "      <td>2017-08-01 00:00:16</td>\n",
       "      <td>zmAg</td>\n",
       "      <td>0</td>\n",
       "    </tr>\n",
       "    <tr>\n",
       "      <th>...</th>\n",
       "      <td>...</td>\n",
       "      <td>...</td>\n",
       "      <td>...</td>\n",
       "      <td>...</td>\n",
       "      <td>...</td>\n",
       "      <td>...</td>\n",
       "      <td>...</td>\n",
       "      <td>...</td>\n",
       "      <td>...</td>\n",
       "      <td>...</td>\n",
       "      <td>...</td>\n",
       "      <td>...</td>\n",
       "      <td>...</td>\n",
       "    </tr>\n",
       "    <tr>\n",
       "      <th>924377</th>\n",
       "      <td>1134540</td>\n",
       "      <td>WVEgAo</td>\n",
       "      <td>2017-08-01 23:59:59</td>\n",
       "      <td>1000</td>\n",
       "      <td>zO8g</td>\n",
       "      <td>CREDIT</td>\n",
       "      <td>BYle</td>\n",
       "      <td>unknown</td>\n",
       "      <td>1225</td>\n",
       "      <td>male</td>\n",
       "      <td>2017-08-02 00:00:05</td>\n",
       "      <td>zV3w</td>\n",
       "      <td>1</td>\n",
       "    </tr>\n",
       "    <tr>\n",
       "      <th>924378</th>\n",
       "      <td>1134541</td>\n",
       "      <td>qlgYYx</td>\n",
       "      <td>2017-08-01 23:59:59</td>\n",
       "      <td>350</td>\n",
       "      <td>4JBo</td>\n",
       "      <td>DEBIT</td>\n",
       "      <td>X180A</td>\n",
       "      <td>4g</td>\n",
       "      <td>1204</td>\n",
       "      <td>male</td>\n",
       "      <td>2017-08-02 00:00:03</td>\n",
       "      <td>apjA</td>\n",
       "      <td>0</td>\n",
       "    </tr>\n",
       "    <tr>\n",
       "      <th>924379</th>\n",
       "      <td>1134542</td>\n",
       "      <td>5AORbZ</td>\n",
       "      <td>2017-08-02 00:00:00</td>\n",
       "      <td>2000</td>\n",
       "      <td>4JBo</td>\n",
       "      <td>DEBIT</td>\n",
       "      <td>l50r</td>\n",
       "      <td>4g</td>\n",
       "      <td>1000</td>\n",
       "      <td>male</td>\n",
       "      <td>2017-08-02 00:00:03</td>\n",
       "      <td>apjA</td>\n",
       "      <td>1</td>\n",
       "    </tr>\n",
       "    <tr>\n",
       "      <th>924380</th>\n",
       "      <td>1134543</td>\n",
       "      <td>J0RL</td>\n",
       "      <td>2017-08-02 00:00:00</td>\n",
       "      <td>350</td>\n",
       "      <td>4JBo</td>\n",
       "      <td>CREDIT</td>\n",
       "      <td>lKXO</td>\n",
       "      <td>2g</td>\n",
       "      <td>1203</td>\n",
       "      <td>male</td>\n",
       "      <td>2017-08-02 00:00:02</td>\n",
       "      <td>zmAg</td>\n",
       "      <td>0</td>\n",
       "    </tr>\n",
       "    <tr>\n",
       "      <th>924381</th>\n",
       "      <td>1134544</td>\n",
       "      <td>dKg05j</td>\n",
       "      <td>2017-08-02 00:00:00</td>\n",
       "      <td>2100</td>\n",
       "      <td>4JBo</td>\n",
       "      <td>DEBIT</td>\n",
       "      <td>Ympn</td>\n",
       "      <td>unknown</td>\n",
       "      <td>1203</td>\n",
       "      <td>male</td>\n",
       "      <td>2017-08-02 00:04:45</td>\n",
       "      <td>apjA</td>\n",
       "      <td>1</td>\n",
       "    </tr>\n",
       "  </tbody>\n",
       "</table>\n",
       "<p>924382 rows × 13 columns</p>\n",
       "</div>"
      ],
      "text/plain": [
       "          index maid_transactions payment_time_transactions  money kind_Pay  \\\n",
       "0             0            AoL98D       2017-08-01 00:00:01    300     4JBo   \n",
       "1             2            Y1WM51       2017-08-01 00:00:01  26400     4JBo   \n",
       "2             4            k0oJAA       2017-08-01 00:00:01    800     4JBo   \n",
       "3             5            n3N72D       2017-08-01 00:00:01   1200     4JBo   \n",
       "4             7            9NDrlQ       2017-08-01 00:00:02  11000     4JBo   \n",
       "...         ...               ...                       ...    ...      ...   \n",
       "924377  1134540            WVEgAo       2017-08-01 23:59:59   1000     zO8g   \n",
       "924378  1134541            qlgYYx       2017-08-01 23:59:59    350     4JBo   \n",
       "924379  1134542            5AORbZ       2017-08-02 00:00:00   2000     4JBo   \n",
       "924380  1134543              J0RL       2017-08-02 00:00:00    350     4JBo   \n",
       "924381  1134544            dKg05j       2017-08-02 00:00:00   2100     4JBo   \n",
       "\n",
       "       kind_Card mid_transactions  network  industry     sex  \\\n",
       "0          DEBIT             r0g7      3g+      1203    male   \n",
       "1          DEBIT             0G76      3g+      1000  female   \n",
       "2          DEBIT             K10o  unknown      1000    male   \n",
       "3          DEBIT             9PO1  unknown      1000    male   \n",
       "4          DEBIT            X1KAP       4g      1019    male   \n",
       "...          ...              ...      ...       ...     ...   \n",
       "924377    CREDIT             BYle  unknown      1225    male   \n",
       "924378     DEBIT            X180A       4g      1204    male   \n",
       "924379     DEBIT             l50r       4g      1000    male   \n",
       "924380    CREDIT             lKXO       2g      1203    male   \n",
       "924381     DEBIT             Ympn  unknown      1203    male   \n",
       "\n",
       "                  view_time ad_id_tvca  clicked  \n",
       "0       2017-08-01 00:00:20       a98n        0  \n",
       "1       2017-08-01 00:00:06       apjA        0  \n",
       "2       2017-08-01 00:00:07       apjA        0  \n",
       "3       2017-08-01 00:01:39       a98n        0  \n",
       "4       2017-08-01 00:00:16       zmAg        0  \n",
       "...                     ...        ...      ...  \n",
       "924377  2017-08-02 00:00:05       zV3w        1  \n",
       "924378  2017-08-02 00:00:03       apjA        0  \n",
       "924379  2017-08-02 00:00:03       apjA        1  \n",
       "924380  2017-08-02 00:00:02       zmAg        0  \n",
       "924381  2017-08-02 00:04:45       apjA        1  \n",
       "\n",
       "[924382 rows x 13 columns]"
      ]
     },
     "execution_count": 184,
     "metadata": {},
     "output_type": "execute_result"
    }
   ],
   "source": [
    "df.drop_duplicates(subset=['maid_transactions', 'payment_time_transactions'], keep=\"last\").reset_index()"
   ]
  },
  {
   "cell_type": "code",
   "execution_count": 185,
   "metadata": {},
   "outputs": [],
   "source": [
    "df = df.drop_duplicates(subset=['maid_transactions', 'payment_time_transactions'], keep=\"last\").reset_index()"
   ]
  },
  {
   "cell_type": "markdown",
   "metadata": {},
   "source": [
    "### Adding the new column `view_count`"
   ]
  },
  {
   "cell_type": "code",
   "execution_count": 186,
   "metadata": {},
   "outputs": [],
   "source": [
    "df['view_counts'] = view_counts"
   ]
  },
  {
   "cell_type": "code",
   "execution_count": 187,
   "metadata": {
    "scrolled": true
   },
   "outputs": [
    {
     "data": {
      "text/html": [
       "<div>\n",
       "<style scoped>\n",
       "    .dataframe tbody tr th:only-of-type {\n",
       "        vertical-align: middle;\n",
       "    }\n",
       "\n",
       "    .dataframe tbody tr th {\n",
       "        vertical-align: top;\n",
       "    }\n",
       "\n",
       "    .dataframe thead th {\n",
       "        text-align: right;\n",
       "    }\n",
       "</style>\n",
       "<table border=\"1\" class=\"dataframe\">\n",
       "  <thead>\n",
       "    <tr style=\"text-align: right;\">\n",
       "      <th></th>\n",
       "      <th>index</th>\n",
       "      <th>maid_transactions</th>\n",
       "      <th>payment_time_transactions</th>\n",
       "      <th>money</th>\n",
       "      <th>kind_Pay</th>\n",
       "      <th>kind_Card</th>\n",
       "      <th>mid_transactions</th>\n",
       "      <th>network</th>\n",
       "      <th>industry</th>\n",
       "      <th>sex</th>\n",
       "      <th>view_time</th>\n",
       "      <th>ad_id_tvca</th>\n",
       "      <th>clicked</th>\n",
       "      <th>view_counts</th>\n",
       "    </tr>\n",
       "  </thead>\n",
       "  <tbody>\n",
       "    <tr>\n",
       "      <th>0</th>\n",
       "      <td>0</td>\n",
       "      <td>AoL98D</td>\n",
       "      <td>2017-08-01 00:00:01</td>\n",
       "      <td>300</td>\n",
       "      <td>4JBo</td>\n",
       "      <td>DEBIT</td>\n",
       "      <td>r0g7</td>\n",
       "      <td>3g+</td>\n",
       "      <td>1203</td>\n",
       "      <td>male</td>\n",
       "      <td>2017-08-01 00:00:20</td>\n",
       "      <td>a98n</td>\n",
       "      <td>0</td>\n",
       "      <td>1</td>\n",
       "    </tr>\n",
       "    <tr>\n",
       "      <th>1</th>\n",
       "      <td>2</td>\n",
       "      <td>Y1WM51</td>\n",
       "      <td>2017-08-01 00:00:01</td>\n",
       "      <td>26400</td>\n",
       "      <td>4JBo</td>\n",
       "      <td>DEBIT</td>\n",
       "      <td>0G76</td>\n",
       "      <td>3g+</td>\n",
       "      <td>1000</td>\n",
       "      <td>female</td>\n",
       "      <td>2017-08-01 00:00:06</td>\n",
       "      <td>apjA</td>\n",
       "      <td>0</td>\n",
       "      <td>2</td>\n",
       "    </tr>\n",
       "    <tr>\n",
       "      <th>2</th>\n",
       "      <td>4</td>\n",
       "      <td>k0oJAA</td>\n",
       "      <td>2017-08-01 00:00:01</td>\n",
       "      <td>800</td>\n",
       "      <td>4JBo</td>\n",
       "      <td>DEBIT</td>\n",
       "      <td>K10o</td>\n",
       "      <td>unknown</td>\n",
       "      <td>1000</td>\n",
       "      <td>male</td>\n",
       "      <td>2017-08-01 00:00:07</td>\n",
       "      <td>apjA</td>\n",
       "      <td>0</td>\n",
       "      <td>1</td>\n",
       "    </tr>\n",
       "    <tr>\n",
       "      <th>3</th>\n",
       "      <td>5</td>\n",
       "      <td>n3N72D</td>\n",
       "      <td>2017-08-01 00:00:01</td>\n",
       "      <td>1200</td>\n",
       "      <td>4JBo</td>\n",
       "      <td>DEBIT</td>\n",
       "      <td>9PO1</td>\n",
       "      <td>unknown</td>\n",
       "      <td>1000</td>\n",
       "      <td>male</td>\n",
       "      <td>2017-08-01 00:01:39</td>\n",
       "      <td>a98n</td>\n",
       "      <td>0</td>\n",
       "      <td>1</td>\n",
       "    </tr>\n",
       "    <tr>\n",
       "      <th>4</th>\n",
       "      <td>7</td>\n",
       "      <td>9NDrlQ</td>\n",
       "      <td>2017-08-01 00:00:02</td>\n",
       "      <td>11000</td>\n",
       "      <td>4JBo</td>\n",
       "      <td>DEBIT</td>\n",
       "      <td>X1KAP</td>\n",
       "      <td>4g</td>\n",
       "      <td>1019</td>\n",
       "      <td>male</td>\n",
       "      <td>2017-08-01 00:00:16</td>\n",
       "      <td>zmAg</td>\n",
       "      <td>0</td>\n",
       "      <td>1</td>\n",
       "    </tr>\n",
       "    <tr>\n",
       "      <th>...</th>\n",
       "      <td>...</td>\n",
       "      <td>...</td>\n",
       "      <td>...</td>\n",
       "      <td>...</td>\n",
       "      <td>...</td>\n",
       "      <td>...</td>\n",
       "      <td>...</td>\n",
       "      <td>...</td>\n",
       "      <td>...</td>\n",
       "      <td>...</td>\n",
       "      <td>...</td>\n",
       "      <td>...</td>\n",
       "      <td>...</td>\n",
       "      <td>...</td>\n",
       "    </tr>\n",
       "    <tr>\n",
       "      <th>924377</th>\n",
       "      <td>1134540</td>\n",
       "      <td>WVEgAo</td>\n",
       "      <td>2017-08-01 23:59:59</td>\n",
       "      <td>1000</td>\n",
       "      <td>zO8g</td>\n",
       "      <td>CREDIT</td>\n",
       "      <td>BYle</td>\n",
       "      <td>unknown</td>\n",
       "      <td>1225</td>\n",
       "      <td>male</td>\n",
       "      <td>2017-08-02 00:00:05</td>\n",
       "      <td>zV3w</td>\n",
       "      <td>1</td>\n",
       "      <td>1</td>\n",
       "    </tr>\n",
       "    <tr>\n",
       "      <th>924378</th>\n",
       "      <td>1134541</td>\n",
       "      <td>qlgYYx</td>\n",
       "      <td>2017-08-01 23:59:59</td>\n",
       "      <td>350</td>\n",
       "      <td>4JBo</td>\n",
       "      <td>DEBIT</td>\n",
       "      <td>X180A</td>\n",
       "      <td>4g</td>\n",
       "      <td>1204</td>\n",
       "      <td>male</td>\n",
       "      <td>2017-08-02 00:00:03</td>\n",
       "      <td>apjA</td>\n",
       "      <td>0</td>\n",
       "      <td>1</td>\n",
       "    </tr>\n",
       "    <tr>\n",
       "      <th>924379</th>\n",
       "      <td>1134542</td>\n",
       "      <td>5AORbZ</td>\n",
       "      <td>2017-08-02 00:00:00</td>\n",
       "      <td>2000</td>\n",
       "      <td>4JBo</td>\n",
       "      <td>DEBIT</td>\n",
       "      <td>l50r</td>\n",
       "      <td>4g</td>\n",
       "      <td>1000</td>\n",
       "      <td>male</td>\n",
       "      <td>2017-08-02 00:00:03</td>\n",
       "      <td>apjA</td>\n",
       "      <td>1</td>\n",
       "      <td>1</td>\n",
       "    </tr>\n",
       "    <tr>\n",
       "      <th>924380</th>\n",
       "      <td>1134543</td>\n",
       "      <td>J0RL</td>\n",
       "      <td>2017-08-02 00:00:00</td>\n",
       "      <td>350</td>\n",
       "      <td>4JBo</td>\n",
       "      <td>CREDIT</td>\n",
       "      <td>lKXO</td>\n",
       "      <td>2g</td>\n",
       "      <td>1203</td>\n",
       "      <td>male</td>\n",
       "      <td>2017-08-02 00:00:02</td>\n",
       "      <td>zmAg</td>\n",
       "      <td>0</td>\n",
       "      <td>2</td>\n",
       "    </tr>\n",
       "    <tr>\n",
       "      <th>924381</th>\n",
       "      <td>1134544</td>\n",
       "      <td>dKg05j</td>\n",
       "      <td>2017-08-02 00:00:00</td>\n",
       "      <td>2100</td>\n",
       "      <td>4JBo</td>\n",
       "      <td>DEBIT</td>\n",
       "      <td>Ympn</td>\n",
       "      <td>unknown</td>\n",
       "      <td>1203</td>\n",
       "      <td>male</td>\n",
       "      <td>2017-08-02 00:04:45</td>\n",
       "      <td>apjA</td>\n",
       "      <td>1</td>\n",
       "      <td>1</td>\n",
       "    </tr>\n",
       "  </tbody>\n",
       "</table>\n",
       "<p>924382 rows × 14 columns</p>\n",
       "</div>"
      ],
      "text/plain": [
       "          index maid_transactions payment_time_transactions  money kind_Pay  \\\n",
       "0             0            AoL98D       2017-08-01 00:00:01    300     4JBo   \n",
       "1             2            Y1WM51       2017-08-01 00:00:01  26400     4JBo   \n",
       "2             4            k0oJAA       2017-08-01 00:00:01    800     4JBo   \n",
       "3             5            n3N72D       2017-08-01 00:00:01   1200     4JBo   \n",
       "4             7            9NDrlQ       2017-08-01 00:00:02  11000     4JBo   \n",
       "...         ...               ...                       ...    ...      ...   \n",
       "924377  1134540            WVEgAo       2017-08-01 23:59:59   1000     zO8g   \n",
       "924378  1134541            qlgYYx       2017-08-01 23:59:59    350     4JBo   \n",
       "924379  1134542            5AORbZ       2017-08-02 00:00:00   2000     4JBo   \n",
       "924380  1134543              J0RL       2017-08-02 00:00:00    350     4JBo   \n",
       "924381  1134544            dKg05j       2017-08-02 00:00:00   2100     4JBo   \n",
       "\n",
       "       kind_Card mid_transactions  network  industry     sex  \\\n",
       "0          DEBIT             r0g7      3g+      1203    male   \n",
       "1          DEBIT             0G76      3g+      1000  female   \n",
       "2          DEBIT             K10o  unknown      1000    male   \n",
       "3          DEBIT             9PO1  unknown      1000    male   \n",
       "4          DEBIT            X1KAP       4g      1019    male   \n",
       "...          ...              ...      ...       ...     ...   \n",
       "924377    CREDIT             BYle  unknown      1225    male   \n",
       "924378     DEBIT            X180A       4g      1204    male   \n",
       "924379     DEBIT             l50r       4g      1000    male   \n",
       "924380    CREDIT             lKXO       2g      1203    male   \n",
       "924381     DEBIT             Ympn  unknown      1203    male   \n",
       "\n",
       "                  view_time ad_id_tvca  clicked  view_counts  \n",
       "0       2017-08-01 00:00:20       a98n        0            1  \n",
       "1       2017-08-01 00:00:06       apjA        0            2  \n",
       "2       2017-08-01 00:00:07       apjA        0            1  \n",
       "3       2017-08-01 00:01:39       a98n        0            1  \n",
       "4       2017-08-01 00:00:16       zmAg        0            1  \n",
       "...                     ...        ...      ...          ...  \n",
       "924377  2017-08-02 00:00:05       zV3w        1            1  \n",
       "924378  2017-08-02 00:00:03       apjA        0            1  \n",
       "924379  2017-08-02 00:00:03       apjA        1            1  \n",
       "924380  2017-08-02 00:00:02       zmAg        0            2  \n",
       "924381  2017-08-02 00:04:45       apjA        1            1  \n",
       "\n",
       "[924382 rows x 14 columns]"
      ]
     },
     "execution_count": 187,
     "metadata": {},
     "output_type": "execute_result"
    }
   ],
   "source": [
    "df"
   ]
  },
  {
   "cell_type": "markdown",
   "metadata": {},
   "source": [
    "Now that we have added the number of impressions for each transaction, we can remove out irrelevant features. We use value_counts for the classes inside each feature."
   ]
  },
  {
   "cell_type": "markdown",
   "metadata": {},
   "source": [
    "### `index`, `maid_transactions`, `mid_transactions`"
   ]
  },
  {
   "cell_type": "code",
   "execution_count": 188,
   "metadata": {},
   "outputs": [],
   "source": [
    "df = df.drop(columns=['index','maid_transactions','mid_transactions']) ## irrelevant features"
   ]
  },
  {
   "cell_type": "markdown",
   "metadata": {},
   "source": [
    "### `Network`"
   ]
  },
  {
   "cell_type": "code",
   "execution_count": 189,
   "metadata": {},
   "outputs": [
    {
     "data": {
      "text/plain": [
       "3g+        322059\n",
       "4g         283311\n",
       "unknown    240574\n",
       "wifi        58474\n",
       "2g          17221\n",
       "3g           2724\n",
       "edge           19\n",
       "Name: network, dtype: int64"
      ]
     },
     "execution_count": 189,
     "metadata": {},
     "output_type": "execute_result"
    }
   ],
   "source": [
    "df['network'].value_counts().head(10) ## checking out the network column, it could be a useful feature."
   ]
  },
  {
   "cell_type": "markdown",
   "metadata": {},
   "source": [
    "### `Industry`"
   ]
  },
  {
   "cell_type": "code",
   "execution_count": 190,
   "metadata": {},
   "outputs": [
    {
     "data": {
      "text/plain": [
       "1000    501979\n",
       "1203    134822\n",
       "1204     72068\n",
       "1225     63380\n",
       "1019     40239\n",
       "1020     31627\n",
       "1014     23131\n",
       "1219     10684\n",
       "1115     10669\n",
       "1        10391\n",
       "1220      4931\n",
       "1205      3246\n",
       "1101      3007\n",
       "1015      2500\n",
       "1109      2042\n",
       "1214      1365\n",
       "0         1254\n",
       "1112       913\n",
       "1405       868\n",
       "1207       839\n",
       "1221       590\n",
       "1308       520\n",
       "1111       398\n",
       "1104       393\n",
       "1224       371\n",
       "1314       361\n",
       "1206       350\n",
       "1216       341\n",
       "1311       251\n",
       "1211       225\n",
       "1222       213\n",
       "1208       196\n",
       "1307       106\n",
       "1402       100\n",
       "1301        12\n",
       "Name: industry, dtype: int64"
      ]
     },
     "execution_count": 190,
     "metadata": {},
     "output_type": "execute_result"
    }
   ],
   "source": [
    "df['industry'].value_counts()  ## So many features makes the model complex, we drop it !!                 "
   ]
  },
  {
   "cell_type": "code",
   "execution_count": 191,
   "metadata": {},
   "outputs": [],
   "source": [
    "df = df.drop(columns=['industry'])"
   ]
  },
  {
   "cell_type": "markdown",
   "metadata": {},
   "source": [
    "### `Sex`"
   ]
  },
  {
   "cell_type": "code",
   "execution_count": 192,
   "metadata": {},
   "outputs": [
    {
     "data": {
      "text/plain": [
       "male       726796\n",
       "female     191961\n",
       "unknown      5625\n",
       "Name: sex, dtype: int64"
      ]
     },
     "execution_count": 192,
     "metadata": {},
     "output_type": "execute_result"
    }
   ],
   "source": [
    "df['sex'].value_counts()"
   ]
  },
  {
   "cell_type": "markdown",
   "metadata": {},
   "source": [
    "### `Ad ID`"
   ]
  },
  {
   "cell_type": "code",
   "execution_count": 193,
   "metadata": {},
   "outputs": [
    {
     "data": {
      "text/plain": [
       "apjA    441767\n",
       "zV3w    145781\n",
       "a98n    106760\n",
       "anqQ     96267\n",
       "aKj7     76167\n",
       "zmAg     35574\n",
       "zjPY     21704\n",
       "4vmr       282\n",
       "4dlZ        63\n",
       "aPq5         5\n",
       "zrVd         3\n",
       "a28q         2\n",
       "agr5         2\n",
       "zQBB         2\n",
       "zm5g         1\n",
       "z08K         1\n",
       "yMQJ         1\n",
       "Name: ad_id_tvca, dtype: int64"
      ]
     },
     "execution_count": 193,
     "metadata": {},
     "output_type": "execute_result"
    }
   ],
   "source": [
    "df['ad_id_tvca'].value_counts()"
   ]
  },
  {
   "cell_type": "code",
   "execution_count": 194,
   "metadata": {},
   "outputs": [],
   "source": [
    "df = df.drop(columns=['ad_id_tvca'])"
   ]
  },
  {
   "cell_type": "markdown",
   "metadata": {},
   "source": [
    "Now, we have 3 integer plus 6 object type features."
   ]
  },
  {
   "cell_type": "code",
   "execution_count": 195,
   "metadata": {},
   "outputs": [
    {
     "name": "stdout",
     "output_type": "stream",
     "text": [
      "<class 'pandas.core.frame.DataFrame'>\n",
      "RangeIndex: 924382 entries, 0 to 924381\n",
      "Data columns (total 9 columns):\n",
      " #   Column                     Non-Null Count   Dtype \n",
      "---  ------                     --------------   ----- \n",
      " 0   payment_time_transactions  924382 non-null  object\n",
      " 1   money                      924382 non-null  int64 \n",
      " 2   kind_Pay                   924382 non-null  object\n",
      " 3   kind_Card                  924382 non-null  object\n",
      " 4   network                    924382 non-null  object\n",
      " 5   sex                        924382 non-null  object\n",
      " 6   view_time                  924382 non-null  object\n",
      " 7   clicked                    924382 non-null  int64 \n",
      " 8   view_counts                924382 non-null  int64 \n",
      "dtypes: int64(3), object(6)\n",
      "memory usage: 63.5+ MB\n"
     ]
    }
   ],
   "source": [
    "df.info()"
   ]
  },
  {
   "cell_type": "markdown",
   "metadata": {},
   "source": [
    "### `Datetime` Type Features\n",
    "In order to work with time features and subtracting `payment_time_transactions` and `view_time` data, we should convert them to `datetime`."
   ]
  },
  {
   "cell_type": "code",
   "execution_count": 196,
   "metadata": {},
   "outputs": [],
   "source": [
    "df['payment_time_hour']= pd.to_datetime(df['payment_time_transactions'])\n",
    "df['view_time_hour']= pd.to_datetime(df['view_time'])"
   ]
  },
  {
   "cell_type": "code",
   "execution_count": 197,
   "metadata": {
    "scrolled": true
   },
   "outputs": [
    {
     "name": "stdout",
     "output_type": "stream",
     "text": [
      "<class 'pandas.core.frame.DataFrame'>\n",
      "RangeIndex: 924382 entries, 0 to 924381\n",
      "Data columns (total 11 columns):\n",
      " #   Column                     Non-Null Count   Dtype         \n",
      "---  ------                     --------------   -----         \n",
      " 0   payment_time_transactions  924382 non-null  object        \n",
      " 1   money                      924382 non-null  int64         \n",
      " 2   kind_Pay                   924382 non-null  object        \n",
      " 3   kind_Card                  924382 non-null  object        \n",
      " 4   network                    924382 non-null  object        \n",
      " 5   sex                        924382 non-null  object        \n",
      " 6   view_time                  924382 non-null  object        \n",
      " 7   clicked                    924382 non-null  int64         \n",
      " 8   view_counts                924382 non-null  int64         \n",
      " 9   payment_time_hour          924382 non-null  datetime64[ns]\n",
      " 10  view_time_hour             924382 non-null  datetime64[ns]\n",
      "dtypes: datetime64[ns](2), int64(3), object(6)\n",
      "memory usage: 77.6+ MB\n"
     ]
    }
   ],
   "source": [
    "df.info()"
   ]
  },
  {
   "cell_type": "markdown",
   "metadata": {},
   "source": [
    "## `payment-to-view-seconds`\n",
    "This new column is the time distance between the payment and the last impression of each specific transaction. As you remember, we have previously removed out all impression except the last one for every transaction."
   ]
  },
  {
   "cell_type": "code",
   "execution_count": 199,
   "metadata": {},
   "outputs": [],
   "source": [
    "df['payment-to-view-seconds'] = df.apply(lambda row : round((row['view_time_hour'] - row['payment_time_hour']).total_seconds()), axis = 1)"
   ]
  },
  {
   "cell_type": "markdown",
   "metadata": {},
   "source": [
    "Now, let's take a look at the data distributions. It is seen that the time differences range between -12 and 749449 seconds. A negative time difference does not make sense here since we assume a view to happen after the payment is received."
   ]
  },
  {
   "cell_type": "code",
   "execution_count": 200,
   "metadata": {},
   "outputs": [
    {
     "data": {
      "text/html": [
       "<div>\n",
       "<style scoped>\n",
       "    .dataframe tbody tr th:only-of-type {\n",
       "        vertical-align: middle;\n",
       "    }\n",
       "\n",
       "    .dataframe tbody tr th {\n",
       "        vertical-align: top;\n",
       "    }\n",
       "\n",
       "    .dataframe thead th {\n",
       "        text-align: right;\n",
       "    }\n",
       "</style>\n",
       "<table border=\"1\" class=\"dataframe\">\n",
       "  <thead>\n",
       "    <tr style=\"text-align: right;\">\n",
       "      <th></th>\n",
       "      <th>money</th>\n",
       "      <th>view_counts</th>\n",
       "      <th>payment-to-view-seconds</th>\n",
       "    </tr>\n",
       "  </thead>\n",
       "  <tbody>\n",
       "    <tr>\n",
       "      <th>count</th>\n",
       "      <td>9.243820e+05</td>\n",
       "      <td>924382.000000</td>\n",
       "      <td>924382.000000</td>\n",
       "    </tr>\n",
       "    <tr>\n",
       "      <th>mean</th>\n",
       "      <td>3.417564e+03</td>\n",
       "      <td>1.214883</td>\n",
       "      <td>242.073606</td>\n",
       "    </tr>\n",
       "    <tr>\n",
       "      <th>std</th>\n",
       "      <td>2.285859e+04</td>\n",
       "      <td>0.605512</td>\n",
       "      <td>4333.109521</td>\n",
       "    </tr>\n",
       "    <tr>\n",
       "      <th>min</th>\n",
       "      <td>1.000000e+00</td>\n",
       "      <td>1.000000</td>\n",
       "      <td>-12.000000</td>\n",
       "    </tr>\n",
       "    <tr>\n",
       "      <th>25%</th>\n",
       "      <td>7.000000e+02</td>\n",
       "      <td>1.000000</td>\n",
       "      <td>4.000000</td>\n",
       "    </tr>\n",
       "    <tr>\n",
       "      <th>50%</th>\n",
       "      <td>1.400000e+03</td>\n",
       "      <td>1.000000</td>\n",
       "      <td>10.000000</td>\n",
       "    </tr>\n",
       "    <tr>\n",
       "      <th>75%</th>\n",
       "      <td>2.350000e+03</td>\n",
       "      <td>1.000000</td>\n",
       "      <td>35.000000</td>\n",
       "    </tr>\n",
       "    <tr>\n",
       "      <th>max</th>\n",
       "      <td>1.883755e+06</td>\n",
       "      <td>182.000000</td>\n",
       "      <td>749449.000000</td>\n",
       "    </tr>\n",
       "  </tbody>\n",
       "</table>\n",
       "</div>"
      ],
      "text/plain": [
       "              money    view_counts  payment-to-view-seconds\n",
       "count  9.243820e+05  924382.000000            924382.000000\n",
       "mean   3.417564e+03       1.214883               242.073606\n",
       "std    2.285859e+04       0.605512              4333.109521\n",
       "min    1.000000e+00       1.000000               -12.000000\n",
       "25%    7.000000e+02       1.000000                 4.000000\n",
       "50%    1.400000e+03       1.000000                10.000000\n",
       "75%    2.350000e+03       1.000000                35.000000\n",
       "max    1.883755e+06     182.000000            749449.000000"
      ]
     },
     "execution_count": 200,
     "metadata": {},
     "output_type": "execute_result"
    }
   ],
   "source": [
    "df.drop(['clicked'],axis=1).describe()"
   ]
  },
  {
   "cell_type": "markdown",
   "metadata": {},
   "source": [
    "We can check the negative time differences, get the indices and remove them out from the dataframe."
   ]
  },
  {
   "cell_type": "code",
   "execution_count": 201,
   "metadata": {
    "scrolled": true
   },
   "outputs": [
    {
     "data": {
      "text/html": [
       "<div>\n",
       "<style scoped>\n",
       "    .dataframe tbody tr th:only-of-type {\n",
       "        vertical-align: middle;\n",
       "    }\n",
       "\n",
       "    .dataframe tbody tr th {\n",
       "        vertical-align: top;\n",
       "    }\n",
       "\n",
       "    .dataframe thead th {\n",
       "        text-align: right;\n",
       "    }\n",
       "</style>\n",
       "<table border=\"1\" class=\"dataframe\">\n",
       "  <thead>\n",
       "    <tr style=\"text-align: right;\">\n",
       "      <th></th>\n",
       "      <th>payment_time_transactions</th>\n",
       "      <th>money</th>\n",
       "      <th>kind_Pay</th>\n",
       "      <th>kind_Card</th>\n",
       "      <th>network</th>\n",
       "      <th>sex</th>\n",
       "      <th>view_time</th>\n",
       "      <th>clicked</th>\n",
       "      <th>view_counts</th>\n",
       "      <th>payment_time_hour</th>\n",
       "      <th>view_time_hour</th>\n",
       "      <th>payment-to-view-seconds</th>\n",
       "    </tr>\n",
       "  </thead>\n",
       "  <tbody>\n",
       "    <tr>\n",
       "      <th>258307</th>\n",
       "      <td>2017-08-01 12:08:20</td>\n",
       "      <td>500</td>\n",
       "      <td>4JBo</td>\n",
       "      <td>DEBIT</td>\n",
       "      <td>unknown</td>\n",
       "      <td>male</td>\n",
       "      <td>2017-08-01 12:08:16</td>\n",
       "      <td>0</td>\n",
       "      <td>2</td>\n",
       "      <td>2017-08-01 12:08:20</td>\n",
       "      <td>2017-08-01 12:08:16</td>\n",
       "      <td>-4</td>\n",
       "    </tr>\n",
       "    <tr>\n",
       "      <th>342666</th>\n",
       "      <td>2017-08-01 12:46:39</td>\n",
       "      <td>500</td>\n",
       "      <td>4JBo</td>\n",
       "      <td>DEBIT</td>\n",
       "      <td>4g</td>\n",
       "      <td>male</td>\n",
       "      <td>2017-08-01 12:46:35</td>\n",
       "      <td>0</td>\n",
       "      <td>1</td>\n",
       "      <td>2017-08-01 12:46:39</td>\n",
       "      <td>2017-08-01 12:46:35</td>\n",
       "      <td>-4</td>\n",
       "    </tr>\n",
       "    <tr>\n",
       "      <th>467904</th>\n",
       "      <td>2017-08-01 15:39:36</td>\n",
       "      <td>1960</td>\n",
       "      <td>4JBo</td>\n",
       "      <td>CREDIT</td>\n",
       "      <td>4g</td>\n",
       "      <td>male</td>\n",
       "      <td>2017-08-01 15:39:24</td>\n",
       "      <td>0</td>\n",
       "      <td>1</td>\n",
       "      <td>2017-08-01 15:39:36</td>\n",
       "      <td>2017-08-01 15:39:24</td>\n",
       "      <td>-12</td>\n",
       "    </tr>\n",
       "    <tr>\n",
       "      <th>900765</th>\n",
       "      <td>2017-08-01 22:46:55</td>\n",
       "      <td>1500</td>\n",
       "      <td>4JBo</td>\n",
       "      <td>DEBIT</td>\n",
       "      <td>4g</td>\n",
       "      <td>male</td>\n",
       "      <td>2017-08-01 22:46:51</td>\n",
       "      <td>0</td>\n",
       "      <td>1</td>\n",
       "      <td>2017-08-01 22:46:55</td>\n",
       "      <td>2017-08-01 22:46:51</td>\n",
       "      <td>-4</td>\n",
       "    </tr>\n",
       "  </tbody>\n",
       "</table>\n",
       "</div>"
      ],
      "text/plain": [
       "       payment_time_transactions  money kind_Pay kind_Card  network   sex  \\\n",
       "258307       2017-08-01 12:08:20    500     4JBo     DEBIT  unknown  male   \n",
       "342666       2017-08-01 12:46:39    500     4JBo     DEBIT       4g  male   \n",
       "467904       2017-08-01 15:39:36   1960     4JBo    CREDIT       4g  male   \n",
       "900765       2017-08-01 22:46:55   1500     4JBo     DEBIT       4g  male   \n",
       "\n",
       "                  view_time  clicked  view_counts   payment_time_hour  \\\n",
       "258307  2017-08-01 12:08:16        0            2 2017-08-01 12:08:20   \n",
       "342666  2017-08-01 12:46:35        0            1 2017-08-01 12:46:39   \n",
       "467904  2017-08-01 15:39:24        0            1 2017-08-01 15:39:36   \n",
       "900765  2017-08-01 22:46:51        0            1 2017-08-01 22:46:55   \n",
       "\n",
       "            view_time_hour  payment-to-view-seconds  \n",
       "258307 2017-08-01 12:08:16                       -4  \n",
       "342666 2017-08-01 12:46:35                       -4  \n",
       "467904 2017-08-01 15:39:24                      -12  \n",
       "900765 2017-08-01 22:46:51                       -4  "
      ]
     },
     "execution_count": 201,
     "metadata": {},
     "output_type": "execute_result"
    }
   ],
   "source": [
    "df[df[\"payment-to-view-seconds\"] < 0]"
   ]
  },
  {
   "cell_type": "code",
   "execution_count": 202,
   "metadata": {},
   "outputs": [
    {
     "data": {
      "text/plain": [
       "Int64Index([258307, 342666, 467904, 900765], dtype='int64')"
      ]
     },
     "execution_count": 202,
     "metadata": {},
     "output_type": "execute_result"
    }
   ],
   "source": [
    "df[df[\"payment-to-view-seconds\"] < 0].index"
   ]
  },
  {
   "cell_type": "code",
   "execution_count": 203,
   "metadata": {},
   "outputs": [
    {
     "data": {
      "text/html": [
       "<div>\n",
       "<style scoped>\n",
       "    .dataframe tbody tr th:only-of-type {\n",
       "        vertical-align: middle;\n",
       "    }\n",
       "\n",
       "    .dataframe tbody tr th {\n",
       "        vertical-align: top;\n",
       "    }\n",
       "\n",
       "    .dataframe thead th {\n",
       "        text-align: right;\n",
       "    }\n",
       "</style>\n",
       "<table border=\"1\" class=\"dataframe\">\n",
       "  <thead>\n",
       "    <tr style=\"text-align: right;\">\n",
       "      <th></th>\n",
       "      <th>index</th>\n",
       "      <th>payment_time_transactions</th>\n",
       "      <th>money</th>\n",
       "      <th>kind_Pay</th>\n",
       "      <th>kind_Card</th>\n",
       "      <th>network</th>\n",
       "      <th>sex</th>\n",
       "      <th>view_time</th>\n",
       "      <th>clicked</th>\n",
       "      <th>view_counts</th>\n",
       "      <th>payment_time_hour</th>\n",
       "      <th>view_time_hour</th>\n",
       "      <th>payment-to-view-seconds</th>\n",
       "    </tr>\n",
       "  </thead>\n",
       "  <tbody>\n",
       "    <tr>\n",
       "      <th>0</th>\n",
       "      <td>0</td>\n",
       "      <td>2017-08-01 00:00:01</td>\n",
       "      <td>300</td>\n",
       "      <td>4JBo</td>\n",
       "      <td>DEBIT</td>\n",
       "      <td>3g+</td>\n",
       "      <td>male</td>\n",
       "      <td>2017-08-01 00:00:20</td>\n",
       "      <td>0</td>\n",
       "      <td>1</td>\n",
       "      <td>2017-08-01 00:00:01</td>\n",
       "      <td>2017-08-01 00:00:20</td>\n",
       "      <td>19</td>\n",
       "    </tr>\n",
       "    <tr>\n",
       "      <th>1</th>\n",
       "      <td>1</td>\n",
       "      <td>2017-08-01 00:00:01</td>\n",
       "      <td>26400</td>\n",
       "      <td>4JBo</td>\n",
       "      <td>DEBIT</td>\n",
       "      <td>3g+</td>\n",
       "      <td>female</td>\n",
       "      <td>2017-08-01 00:00:06</td>\n",
       "      <td>0</td>\n",
       "      <td>2</td>\n",
       "      <td>2017-08-01 00:00:01</td>\n",
       "      <td>2017-08-01 00:00:06</td>\n",
       "      <td>5</td>\n",
       "    </tr>\n",
       "    <tr>\n",
       "      <th>2</th>\n",
       "      <td>2</td>\n",
       "      <td>2017-08-01 00:00:01</td>\n",
       "      <td>800</td>\n",
       "      <td>4JBo</td>\n",
       "      <td>DEBIT</td>\n",
       "      <td>unknown</td>\n",
       "      <td>male</td>\n",
       "      <td>2017-08-01 00:00:07</td>\n",
       "      <td>0</td>\n",
       "      <td>1</td>\n",
       "      <td>2017-08-01 00:00:01</td>\n",
       "      <td>2017-08-01 00:00:07</td>\n",
       "      <td>6</td>\n",
       "    </tr>\n",
       "    <tr>\n",
       "      <th>3</th>\n",
       "      <td>3</td>\n",
       "      <td>2017-08-01 00:00:01</td>\n",
       "      <td>1200</td>\n",
       "      <td>4JBo</td>\n",
       "      <td>DEBIT</td>\n",
       "      <td>unknown</td>\n",
       "      <td>male</td>\n",
       "      <td>2017-08-01 00:01:39</td>\n",
       "      <td>0</td>\n",
       "      <td>1</td>\n",
       "      <td>2017-08-01 00:00:01</td>\n",
       "      <td>2017-08-01 00:01:39</td>\n",
       "      <td>98</td>\n",
       "    </tr>\n",
       "    <tr>\n",
       "      <th>4</th>\n",
       "      <td>4</td>\n",
       "      <td>2017-08-01 00:00:02</td>\n",
       "      <td>11000</td>\n",
       "      <td>4JBo</td>\n",
       "      <td>DEBIT</td>\n",
       "      <td>4g</td>\n",
       "      <td>male</td>\n",
       "      <td>2017-08-01 00:00:16</td>\n",
       "      <td>0</td>\n",
       "      <td>1</td>\n",
       "      <td>2017-08-01 00:00:02</td>\n",
       "      <td>2017-08-01 00:00:16</td>\n",
       "      <td>14</td>\n",
       "    </tr>\n",
       "    <tr>\n",
       "      <th>...</th>\n",
       "      <td>...</td>\n",
       "      <td>...</td>\n",
       "      <td>...</td>\n",
       "      <td>...</td>\n",
       "      <td>...</td>\n",
       "      <td>...</td>\n",
       "      <td>...</td>\n",
       "      <td>...</td>\n",
       "      <td>...</td>\n",
       "      <td>...</td>\n",
       "      <td>...</td>\n",
       "      <td>...</td>\n",
       "      <td>...</td>\n",
       "    </tr>\n",
       "    <tr>\n",
       "      <th>924373</th>\n",
       "      <td>924377</td>\n",
       "      <td>2017-08-01 23:59:59</td>\n",
       "      <td>1000</td>\n",
       "      <td>zO8g</td>\n",
       "      <td>CREDIT</td>\n",
       "      <td>unknown</td>\n",
       "      <td>male</td>\n",
       "      <td>2017-08-02 00:00:05</td>\n",
       "      <td>1</td>\n",
       "      <td>1</td>\n",
       "      <td>2017-08-01 23:59:59</td>\n",
       "      <td>2017-08-02 00:00:05</td>\n",
       "      <td>6</td>\n",
       "    </tr>\n",
       "    <tr>\n",
       "      <th>924374</th>\n",
       "      <td>924378</td>\n",
       "      <td>2017-08-01 23:59:59</td>\n",
       "      <td>350</td>\n",
       "      <td>4JBo</td>\n",
       "      <td>DEBIT</td>\n",
       "      <td>4g</td>\n",
       "      <td>male</td>\n",
       "      <td>2017-08-02 00:00:03</td>\n",
       "      <td>0</td>\n",
       "      <td>1</td>\n",
       "      <td>2017-08-01 23:59:59</td>\n",
       "      <td>2017-08-02 00:00:03</td>\n",
       "      <td>4</td>\n",
       "    </tr>\n",
       "    <tr>\n",
       "      <th>924375</th>\n",
       "      <td>924379</td>\n",
       "      <td>2017-08-02 00:00:00</td>\n",
       "      <td>2000</td>\n",
       "      <td>4JBo</td>\n",
       "      <td>DEBIT</td>\n",
       "      <td>4g</td>\n",
       "      <td>male</td>\n",
       "      <td>2017-08-02 00:00:03</td>\n",
       "      <td>1</td>\n",
       "      <td>1</td>\n",
       "      <td>2017-08-02 00:00:00</td>\n",
       "      <td>2017-08-02 00:00:03</td>\n",
       "      <td>3</td>\n",
       "    </tr>\n",
       "    <tr>\n",
       "      <th>924376</th>\n",
       "      <td>924380</td>\n",
       "      <td>2017-08-02 00:00:00</td>\n",
       "      <td>350</td>\n",
       "      <td>4JBo</td>\n",
       "      <td>CREDIT</td>\n",
       "      <td>2g</td>\n",
       "      <td>male</td>\n",
       "      <td>2017-08-02 00:00:02</td>\n",
       "      <td>0</td>\n",
       "      <td>2</td>\n",
       "      <td>2017-08-02 00:00:00</td>\n",
       "      <td>2017-08-02 00:00:02</td>\n",
       "      <td>2</td>\n",
       "    </tr>\n",
       "    <tr>\n",
       "      <th>924377</th>\n",
       "      <td>924381</td>\n",
       "      <td>2017-08-02 00:00:00</td>\n",
       "      <td>2100</td>\n",
       "      <td>4JBo</td>\n",
       "      <td>DEBIT</td>\n",
       "      <td>unknown</td>\n",
       "      <td>male</td>\n",
       "      <td>2017-08-02 00:04:45</td>\n",
       "      <td>1</td>\n",
       "      <td>1</td>\n",
       "      <td>2017-08-02 00:00:00</td>\n",
       "      <td>2017-08-02 00:04:45</td>\n",
       "      <td>285</td>\n",
       "    </tr>\n",
       "  </tbody>\n",
       "</table>\n",
       "<p>924378 rows × 13 columns</p>\n",
       "</div>"
      ],
      "text/plain": [
       "         index payment_time_transactions  money kind_Pay kind_Card  network  \\\n",
       "0            0       2017-08-01 00:00:01    300     4JBo     DEBIT      3g+   \n",
       "1            1       2017-08-01 00:00:01  26400     4JBo     DEBIT      3g+   \n",
       "2            2       2017-08-01 00:00:01    800     4JBo     DEBIT  unknown   \n",
       "3            3       2017-08-01 00:00:01   1200     4JBo     DEBIT  unknown   \n",
       "4            4       2017-08-01 00:00:02  11000     4JBo     DEBIT       4g   \n",
       "...        ...                       ...    ...      ...       ...      ...   \n",
       "924373  924377       2017-08-01 23:59:59   1000     zO8g    CREDIT  unknown   \n",
       "924374  924378       2017-08-01 23:59:59    350     4JBo     DEBIT       4g   \n",
       "924375  924379       2017-08-02 00:00:00   2000     4JBo     DEBIT       4g   \n",
       "924376  924380       2017-08-02 00:00:00    350     4JBo    CREDIT       2g   \n",
       "924377  924381       2017-08-02 00:00:00   2100     4JBo     DEBIT  unknown   \n",
       "\n",
       "           sex            view_time  clicked  view_counts   payment_time_hour  \\\n",
       "0         male  2017-08-01 00:00:20        0            1 2017-08-01 00:00:01   \n",
       "1       female  2017-08-01 00:00:06        0            2 2017-08-01 00:00:01   \n",
       "2         male  2017-08-01 00:00:07        0            1 2017-08-01 00:00:01   \n",
       "3         male  2017-08-01 00:01:39        0            1 2017-08-01 00:00:01   \n",
       "4         male  2017-08-01 00:00:16        0            1 2017-08-01 00:00:02   \n",
       "...        ...                  ...      ...          ...                 ...   \n",
       "924373    male  2017-08-02 00:00:05        1            1 2017-08-01 23:59:59   \n",
       "924374    male  2017-08-02 00:00:03        0            1 2017-08-01 23:59:59   \n",
       "924375    male  2017-08-02 00:00:03        1            1 2017-08-02 00:00:00   \n",
       "924376    male  2017-08-02 00:00:02        0            2 2017-08-02 00:00:00   \n",
       "924377    male  2017-08-02 00:04:45        1            1 2017-08-02 00:00:00   \n",
       "\n",
       "            view_time_hour  payment-to-view-seconds  \n",
       "0      2017-08-01 00:00:20                       19  \n",
       "1      2017-08-01 00:00:06                        5  \n",
       "2      2017-08-01 00:00:07                        6  \n",
       "3      2017-08-01 00:01:39                       98  \n",
       "4      2017-08-01 00:00:16                       14  \n",
       "...                    ...                      ...  \n",
       "924373 2017-08-02 00:00:05                        6  \n",
       "924374 2017-08-02 00:00:03                        4  \n",
       "924375 2017-08-02 00:00:03                        3  \n",
       "924376 2017-08-02 00:00:02                        2  \n",
       "924377 2017-08-02 00:04:45                      285  \n",
       "\n",
       "[924378 rows x 13 columns]"
      ]
     },
     "execution_count": 203,
     "metadata": {},
     "output_type": "execute_result"
    }
   ],
   "source": [
    "df = df.drop(df[df[\"payment-to-view-seconds\"] < 0].index).reset_index()\n",
    "df"
   ]
  },
  {
   "cell_type": "markdown",
   "metadata": {},
   "source": [
    "Now, we have positive time differenced transactions."
   ]
  },
  {
   "cell_type": "code",
   "execution_count": 204,
   "metadata": {},
   "outputs": [
    {
     "data": {
      "text/html": [
       "<div>\n",
       "<style scoped>\n",
       "    .dataframe tbody tr th:only-of-type {\n",
       "        vertical-align: middle;\n",
       "    }\n",
       "\n",
       "    .dataframe tbody tr th {\n",
       "        vertical-align: top;\n",
       "    }\n",
       "\n",
       "    .dataframe thead th {\n",
       "        text-align: right;\n",
       "    }\n",
       "</style>\n",
       "<table border=\"1\" class=\"dataframe\">\n",
       "  <thead>\n",
       "    <tr style=\"text-align: right;\">\n",
       "      <th></th>\n",
       "      <th>index</th>\n",
       "      <th>money</th>\n",
       "      <th>clicked</th>\n",
       "      <th>view_counts</th>\n",
       "      <th>payment-to-view-seconds</th>\n",
       "    </tr>\n",
       "  </thead>\n",
       "  <tbody>\n",
       "    <tr>\n",
       "      <th>count</th>\n",
       "      <td>924378.000000</td>\n",
       "      <td>9.243780e+05</td>\n",
       "      <td>924378.000000</td>\n",
       "      <td>924378.000000</td>\n",
       "      <td>924378.000000</td>\n",
       "    </tr>\n",
       "    <tr>\n",
       "      <th>mean</th>\n",
       "      <td>462190.369231</td>\n",
       "      <td>3.417574e+03</td>\n",
       "      <td>0.109661</td>\n",
       "      <td>1.214883</td>\n",
       "      <td>242.074679</td>\n",
       "    </tr>\n",
       "    <tr>\n",
       "      <th>std</th>\n",
       "      <td>266846.316779</td>\n",
       "      <td>2.285864e+04</td>\n",
       "      <td>0.312467</td>\n",
       "      <td>0.605512</td>\n",
       "      <td>4333.118865</td>\n",
       "    </tr>\n",
       "    <tr>\n",
       "      <th>min</th>\n",
       "      <td>0.000000</td>\n",
       "      <td>1.000000e+00</td>\n",
       "      <td>0.000000</td>\n",
       "      <td>1.000000</td>\n",
       "      <td>0.000000</td>\n",
       "    </tr>\n",
       "    <tr>\n",
       "      <th>25%</th>\n",
       "      <td>231094.250000</td>\n",
       "      <td>7.000000e+02</td>\n",
       "      <td>0.000000</td>\n",
       "      <td>1.000000</td>\n",
       "      <td>4.000000</td>\n",
       "    </tr>\n",
       "    <tr>\n",
       "      <th>50%</th>\n",
       "      <td>462190.500000</td>\n",
       "      <td>1.400000e+03</td>\n",
       "      <td>0.000000</td>\n",
       "      <td>1.000000</td>\n",
       "      <td>10.000000</td>\n",
       "    </tr>\n",
       "    <tr>\n",
       "      <th>75%</th>\n",
       "      <td>693285.750000</td>\n",
       "      <td>2.350000e+03</td>\n",
       "      <td>0.000000</td>\n",
       "      <td>1.000000</td>\n",
       "      <td>35.000000</td>\n",
       "    </tr>\n",
       "    <tr>\n",
       "      <th>max</th>\n",
       "      <td>924381.000000</td>\n",
       "      <td>1.883755e+06</td>\n",
       "      <td>1.000000</td>\n",
       "      <td>182.000000</td>\n",
       "      <td>749449.000000</td>\n",
       "    </tr>\n",
       "  </tbody>\n",
       "</table>\n",
       "</div>"
      ],
      "text/plain": [
       "               index         money        clicked    view_counts  \\\n",
       "count  924378.000000  9.243780e+05  924378.000000  924378.000000   \n",
       "mean   462190.369231  3.417574e+03       0.109661       1.214883   \n",
       "std    266846.316779  2.285864e+04       0.312467       0.605512   \n",
       "min         0.000000  1.000000e+00       0.000000       1.000000   \n",
       "25%    231094.250000  7.000000e+02       0.000000       1.000000   \n",
       "50%    462190.500000  1.400000e+03       0.000000       1.000000   \n",
       "75%    693285.750000  2.350000e+03       0.000000       1.000000   \n",
       "max    924381.000000  1.883755e+06       1.000000     182.000000   \n",
       "\n",
       "       payment-to-view-seconds  \n",
       "count            924378.000000  \n",
       "mean                242.074679  \n",
       "std                4333.118865  \n",
       "min                   0.000000  \n",
       "25%                   4.000000  \n",
       "50%                  10.000000  \n",
       "75%                  35.000000  \n",
       "max              749449.000000  "
      ]
     },
     "execution_count": 204,
     "metadata": {},
     "output_type": "execute_result"
    }
   ],
   "source": [
    "df.describe()"
   ]
  },
  {
   "cell_type": "markdown",
   "metadata": {},
   "source": [
    "Despite creating the `payment-to-view-seconds` column, we should check it for the outliers detection. This is also the case for other numerical features.\n",
    "\n",
    "### Checking Outliers"
   ]
  },
  {
   "cell_type": "code",
   "execution_count": 205,
   "metadata": {},
   "outputs": [
    {
     "data": {
      "image/png": "[encoded data removed]",
      "text/plain": [
       "<Figure size 720x360 with 3 Axes>"
      ]
     },
     "metadata": {
      "needs_background": "light"
     },
     "output_type": "display_data"
    }
   ],
   "source": [
    "#Check outlier\n",
    "fig, axarr = plt.subplots(1, 3, figsize=(10, 5))\n",
    "cols = ['money', 'view_counts','payment-to-view-seconds']\n",
    "for i in cols:\n",
    "    index = cols.index(i)\n",
    "    plt.subplot(1,3,index + 1)\n",
    "    sns.boxplot(df[i])"
   ]
  },
  {
   "cell_type": "markdown",
   "metadata": {},
   "source": [
    "As you may see, there are many outliers for each numerical column. We can handle these outliers by mapping the outliers to the upper and lower bounds of the distribution which we define below."
   ]
  },
  {
   "cell_type": "code",
   "execution_count": 206,
   "metadata": {},
   "outputs": [],
   "source": [
    "#Handling outlier\n",
    "Q1 = (df[['money', 'view_counts','payment-to-view-seconds']]).quantile(0.25)\n",
    "Q3 = (df[['money', 'view_counts','payment-to-view-seconds']]).quantile(0.75)\n",
    "\n",
    "IQR = Q3 - Q1\n",
    "\n",
    "maximum = Q3 + (1.5*IQR)\n",
    "minimum = Q3 - (1.5*IQR)\n",
    "\n",
    "more_than = (df[['money', 'view_counts','payment-to-view-seconds']] > maximum)\n",
    "lower_than = (df[['money', 'view_counts','payment-to-view-seconds']] < minimum)\n",
    "\n",
    "df[['money', 'view_counts','payment-to-view-seconds']] = df[['money', 'view_counts','payment-to-view-seconds']].mask(more_than, maximum, axis=1)\n",
    "df[['money', 'view_counts','payment-to-view-seconds']] = df[['money', 'view_counts','payment-to-view-seconds']].mask(lower_than, minimum, axis=1)"
   ]
  },
  {
   "cell_type": "code",
   "execution_count": 207,
   "metadata": {
    "scrolled": true
   },
   "outputs": [
    {
     "data": {
      "image/png": "[encoded data removed]",
      "text/plain": [
       "<Figure size 1440x360 with 3 Axes>"
      ]
     },
     "metadata": {
      "needs_background": "light"
     },
     "output_type": "display_data"
    }
   ],
   "source": [
    "fig, axarr = plt.subplots(1, 3, figsize=(20, 5))\n",
    "cols = ['money', 'view_counts', 'payment-to-view-seconds']\n",
    "for i in cols:\n",
    "    index = cols.index(i)\n",
    "    plt.subplot(1,3,index + 1)\n",
    "    sns.boxplot(df[i])"
   ]
  },
  {
   "cell_type": "code",
   "execution_count": 208,
   "metadata": {},
   "outputs": [
    {
     "data": {
      "text/html": [
       "<div>\n",
       "<style scoped>\n",
       "    .dataframe tbody tr th:only-of-type {\n",
       "        vertical-align: middle;\n",
       "    }\n",
       "\n",
       "    .dataframe tbody tr th {\n",
       "        vertical-align: top;\n",
       "    }\n",
       "\n",
       "    .dataframe thead th {\n",
       "        text-align: right;\n",
       "    }\n",
       "</style>\n",
       "<table border=\"1\" class=\"dataframe\">\n",
       "  <thead>\n",
       "    <tr style=\"text-align: right;\">\n",
       "      <th></th>\n",
       "      <th>index</th>\n",
       "      <th>money</th>\n",
       "      <th>clicked</th>\n",
       "      <th>view_counts</th>\n",
       "      <th>payment-to-view-seconds</th>\n",
       "    </tr>\n",
       "  </thead>\n",
       "  <tbody>\n",
       "    <tr>\n",
       "      <th>count</th>\n",
       "      <td>924378.000000</td>\n",
       "      <td>924378.000000</td>\n",
       "      <td>924378.000000</td>\n",
       "      <td>924378.0</td>\n",
       "      <td>924378.000000</td>\n",
       "    </tr>\n",
       "    <tr>\n",
       "      <th>mean</th>\n",
       "      <td>462190.369231</td>\n",
       "      <td>1758.503907</td>\n",
       "      <td>0.109661</td>\n",
       "      <td>1.0</td>\n",
       "      <td>24.278100</td>\n",
       "    </tr>\n",
       "    <tr>\n",
       "      <th>std</th>\n",
       "      <td>266846.316779</td>\n",
       "      <td>1369.715890</td>\n",
       "      <td>0.312467</td>\n",
       "      <td>0.0</td>\n",
       "      <td>27.704176</td>\n",
       "    </tr>\n",
       "    <tr>\n",
       "      <th>min</th>\n",
       "      <td>0.000000</td>\n",
       "      <td>1.000000</td>\n",
       "      <td>0.000000</td>\n",
       "      <td>1.0</td>\n",
       "      <td>0.000000</td>\n",
       "    </tr>\n",
       "    <tr>\n",
       "      <th>25%</th>\n",
       "      <td>231094.250000</td>\n",
       "      <td>700.000000</td>\n",
       "      <td>0.000000</td>\n",
       "      <td>1.0</td>\n",
       "      <td>4.000000</td>\n",
       "    </tr>\n",
       "    <tr>\n",
       "      <th>50%</th>\n",
       "      <td>462190.500000</td>\n",
       "      <td>1400.000000</td>\n",
       "      <td>0.000000</td>\n",
       "      <td>1.0</td>\n",
       "      <td>10.000000</td>\n",
       "    </tr>\n",
       "    <tr>\n",
       "      <th>75%</th>\n",
       "      <td>693285.750000</td>\n",
       "      <td>2350.000000</td>\n",
       "      <td>0.000000</td>\n",
       "      <td>1.0</td>\n",
       "      <td>35.000000</td>\n",
       "    </tr>\n",
       "    <tr>\n",
       "      <th>max</th>\n",
       "      <td>924381.000000</td>\n",
       "      <td>4825.000000</td>\n",
       "      <td>1.000000</td>\n",
       "      <td>1.0</td>\n",
       "      <td>81.500000</td>\n",
       "    </tr>\n",
       "  </tbody>\n",
       "</table>\n",
       "</div>"
      ],
      "text/plain": [
       "               index          money        clicked  view_counts  \\\n",
       "count  924378.000000  924378.000000  924378.000000     924378.0   \n",
       "mean   462190.369231    1758.503907       0.109661          1.0   \n",
       "std    266846.316779    1369.715890       0.312467          0.0   \n",
       "min         0.000000       1.000000       0.000000          1.0   \n",
       "25%    231094.250000     700.000000       0.000000          1.0   \n",
       "50%    462190.500000    1400.000000       0.000000          1.0   \n",
       "75%    693285.750000    2350.000000       0.000000          1.0   \n",
       "max    924381.000000    4825.000000       1.000000          1.0   \n",
       "\n",
       "       payment-to-view-seconds  \n",
       "count            924378.000000  \n",
       "mean                 24.278100  \n",
       "std                  27.704176  \n",
       "min                   0.000000  \n",
       "25%                   4.000000  \n",
       "50%                  10.000000  \n",
       "75%                  35.000000  \n",
       "max                  81.500000  "
      ]
     },
     "execution_count": 208,
     "metadata": {},
     "output_type": "execute_result"
    }
   ],
   "source": [
    "df.describe()"
   ]
  },
  {
   "cell_type": "code",
   "execution_count": 209,
   "metadata": {
    "scrolled": true
   },
   "outputs": [
    {
     "data": {
      "text/html": [
       "<div>\n",
       "<style scoped>\n",
       "    .dataframe tbody tr th:only-of-type {\n",
       "        vertical-align: middle;\n",
       "    }\n",
       "\n",
       "    .dataframe tbody tr th {\n",
       "        vertical-align: top;\n",
       "    }\n",
       "\n",
       "    .dataframe thead th {\n",
       "        text-align: right;\n",
       "    }\n",
       "</style>\n",
       "<table border=\"1\" class=\"dataframe\">\n",
       "  <thead>\n",
       "    <tr style=\"text-align: right;\">\n",
       "      <th></th>\n",
       "      <th>index</th>\n",
       "      <th>payment_time_transactions</th>\n",
       "      <th>money</th>\n",
       "      <th>kind_Pay</th>\n",
       "      <th>kind_Card</th>\n",
       "      <th>network</th>\n",
       "      <th>sex</th>\n",
       "      <th>view_time</th>\n",
       "      <th>clicked</th>\n",
       "      <th>view_counts</th>\n",
       "      <th>payment_time_hour</th>\n",
       "      <th>view_time_hour</th>\n",
       "      <th>payment-to-view-seconds</th>\n",
       "    </tr>\n",
       "  </thead>\n",
       "  <tbody>\n",
       "    <tr>\n",
       "      <th>0</th>\n",
       "      <td>0</td>\n",
       "      <td>2017-08-01 00:00:01</td>\n",
       "      <td>300</td>\n",
       "      <td>4JBo</td>\n",
       "      <td>DEBIT</td>\n",
       "      <td>3g+</td>\n",
       "      <td>male</td>\n",
       "      <td>2017-08-01 00:00:20</td>\n",
       "      <td>0</td>\n",
       "      <td>1</td>\n",
       "      <td>2017-08-01 00:00:01</td>\n",
       "      <td>2017-08-01 00:00:20</td>\n",
       "      <td>19.0</td>\n",
       "    </tr>\n",
       "    <tr>\n",
       "      <th>1</th>\n",
       "      <td>1</td>\n",
       "      <td>2017-08-01 00:00:01</td>\n",
       "      <td>4825</td>\n",
       "      <td>4JBo</td>\n",
       "      <td>DEBIT</td>\n",
       "      <td>3g+</td>\n",
       "      <td>female</td>\n",
       "      <td>2017-08-01 00:00:06</td>\n",
       "      <td>0</td>\n",
       "      <td>1</td>\n",
       "      <td>2017-08-01 00:00:01</td>\n",
       "      <td>2017-08-01 00:00:06</td>\n",
       "      <td>5.0</td>\n",
       "    </tr>\n",
       "    <tr>\n",
       "      <th>2</th>\n",
       "      <td>2</td>\n",
       "      <td>2017-08-01 00:00:01</td>\n",
       "      <td>800</td>\n",
       "      <td>4JBo</td>\n",
       "      <td>DEBIT</td>\n",
       "      <td>unknown</td>\n",
       "      <td>male</td>\n",
       "      <td>2017-08-01 00:00:07</td>\n",
       "      <td>0</td>\n",
       "      <td>1</td>\n",
       "      <td>2017-08-01 00:00:01</td>\n",
       "      <td>2017-08-01 00:00:07</td>\n",
       "      <td>6.0</td>\n",
       "    </tr>\n",
       "    <tr>\n",
       "      <th>3</th>\n",
       "      <td>3</td>\n",
       "      <td>2017-08-01 00:00:01</td>\n",
       "      <td>1200</td>\n",
       "      <td>4JBo</td>\n",
       "      <td>DEBIT</td>\n",
       "      <td>unknown</td>\n",
       "      <td>male</td>\n",
       "      <td>2017-08-01 00:01:39</td>\n",
       "      <td>0</td>\n",
       "      <td>1</td>\n",
       "      <td>2017-08-01 00:00:01</td>\n",
       "      <td>2017-08-01 00:01:39</td>\n",
       "      <td>81.5</td>\n",
       "    </tr>\n",
       "    <tr>\n",
       "      <th>4</th>\n",
       "      <td>4</td>\n",
       "      <td>2017-08-01 00:00:02</td>\n",
       "      <td>4825</td>\n",
       "      <td>4JBo</td>\n",
       "      <td>DEBIT</td>\n",
       "      <td>4g</td>\n",
       "      <td>male</td>\n",
       "      <td>2017-08-01 00:00:16</td>\n",
       "      <td>0</td>\n",
       "      <td>1</td>\n",
       "      <td>2017-08-01 00:00:02</td>\n",
       "      <td>2017-08-01 00:00:16</td>\n",
       "      <td>14.0</td>\n",
       "    </tr>\n",
       "    <tr>\n",
       "      <th>...</th>\n",
       "      <td>...</td>\n",
       "      <td>...</td>\n",
       "      <td>...</td>\n",
       "      <td>...</td>\n",
       "      <td>...</td>\n",
       "      <td>...</td>\n",
       "      <td>...</td>\n",
       "      <td>...</td>\n",
       "      <td>...</td>\n",
       "      <td>...</td>\n",
       "      <td>...</td>\n",
       "      <td>...</td>\n",
       "      <td>...</td>\n",
       "    </tr>\n",
       "    <tr>\n",
       "      <th>924373</th>\n",
       "      <td>924377</td>\n",
       "      <td>2017-08-01 23:59:59</td>\n",
       "      <td>1000</td>\n",
       "      <td>zO8g</td>\n",
       "      <td>CREDIT</td>\n",
       "      <td>unknown</td>\n",
       "      <td>male</td>\n",
       "      <td>2017-08-02 00:00:05</td>\n",
       "      <td>1</td>\n",
       "      <td>1</td>\n",
       "      <td>2017-08-01 23:59:59</td>\n",
       "      <td>2017-08-02 00:00:05</td>\n",
       "      <td>6.0</td>\n",
       "    </tr>\n",
       "    <tr>\n",
       "      <th>924374</th>\n",
       "      <td>924378</td>\n",
       "      <td>2017-08-01 23:59:59</td>\n",
       "      <td>350</td>\n",
       "      <td>4JBo</td>\n",
       "      <td>DEBIT</td>\n",
       "      <td>4g</td>\n",
       "      <td>male</td>\n",
       "      <td>2017-08-02 00:00:03</td>\n",
       "      <td>0</td>\n",
       "      <td>1</td>\n",
       "      <td>2017-08-01 23:59:59</td>\n",
       "      <td>2017-08-02 00:00:03</td>\n",
       "      <td>4.0</td>\n",
       "    </tr>\n",
       "    <tr>\n",
       "      <th>924375</th>\n",
       "      <td>924379</td>\n",
       "      <td>2017-08-02 00:00:00</td>\n",
       "      <td>2000</td>\n",
       "      <td>4JBo</td>\n",
       "      <td>DEBIT</td>\n",
       "      <td>4g</td>\n",
       "      <td>male</td>\n",
       "      <td>2017-08-02 00:00:03</td>\n",
       "      <td>1</td>\n",
       "      <td>1</td>\n",
       "      <td>2017-08-02 00:00:00</td>\n",
       "      <td>2017-08-02 00:00:03</td>\n",
       "      <td>3.0</td>\n",
       "    </tr>\n",
       "    <tr>\n",
       "      <th>924376</th>\n",
       "      <td>924380</td>\n",
       "      <td>2017-08-02 00:00:00</td>\n",
       "      <td>350</td>\n",
       "      <td>4JBo</td>\n",
       "      <td>CREDIT</td>\n",
       "      <td>2g</td>\n",
       "      <td>male</td>\n",
       "      <td>2017-08-02 00:00:02</td>\n",
       "      <td>0</td>\n",
       "      <td>1</td>\n",
       "      <td>2017-08-02 00:00:00</td>\n",
       "      <td>2017-08-02 00:00:02</td>\n",
       "      <td>2.0</td>\n",
       "    </tr>\n",
       "    <tr>\n",
       "      <th>924377</th>\n",
       "      <td>924381</td>\n",
       "      <td>2017-08-02 00:00:00</td>\n",
       "      <td>2100</td>\n",
       "      <td>4JBo</td>\n",
       "      <td>DEBIT</td>\n",
       "      <td>unknown</td>\n",
       "      <td>male</td>\n",
       "      <td>2017-08-02 00:04:45</td>\n",
       "      <td>1</td>\n",
       "      <td>1</td>\n",
       "      <td>2017-08-02 00:00:00</td>\n",
       "      <td>2017-08-02 00:04:45</td>\n",
       "      <td>81.5</td>\n",
       "    </tr>\n",
       "  </tbody>\n",
       "</table>\n",
       "<p>924378 rows × 13 columns</p>\n",
       "</div>"
      ],
      "text/plain": [
       "         index payment_time_transactions  money kind_Pay kind_Card  network  \\\n",
       "0            0       2017-08-01 00:00:01    300     4JBo     DEBIT      3g+   \n",
       "1            1       2017-08-01 00:00:01   4825     4JBo     DEBIT      3g+   \n",
       "2            2       2017-08-01 00:00:01    800     4JBo     DEBIT  unknown   \n",
       "3            3       2017-08-01 00:00:01   1200     4JBo     DEBIT  unknown   \n",
       "4            4       2017-08-01 00:00:02   4825     4JBo     DEBIT       4g   \n",
       "...        ...                       ...    ...      ...       ...      ...   \n",
       "924373  924377       2017-08-01 23:59:59   1000     zO8g    CREDIT  unknown   \n",
       "924374  924378       2017-08-01 23:59:59    350     4JBo     DEBIT       4g   \n",
       "924375  924379       2017-08-02 00:00:00   2000     4JBo     DEBIT       4g   \n",
       "924376  924380       2017-08-02 00:00:00    350     4JBo    CREDIT       2g   \n",
       "924377  924381       2017-08-02 00:00:00   2100     4JBo     DEBIT  unknown   \n",
       "\n",
       "           sex            view_time  clicked  view_counts   payment_time_hour  \\\n",
       "0         male  2017-08-01 00:00:20        0            1 2017-08-01 00:00:01   \n",
       "1       female  2017-08-01 00:00:06        0            1 2017-08-01 00:00:01   \n",
       "2         male  2017-08-01 00:00:07        0            1 2017-08-01 00:00:01   \n",
       "3         male  2017-08-01 00:01:39        0            1 2017-08-01 00:00:01   \n",
       "4         male  2017-08-01 00:00:16        0            1 2017-08-01 00:00:02   \n",
       "...        ...                  ...      ...          ...                 ...   \n",
       "924373    male  2017-08-02 00:00:05        1            1 2017-08-01 23:59:59   \n",
       "924374    male  2017-08-02 00:00:03        0            1 2017-08-01 23:59:59   \n",
       "924375    male  2017-08-02 00:00:03        1            1 2017-08-02 00:00:00   \n",
       "924376    male  2017-08-02 00:00:02        0            1 2017-08-02 00:00:00   \n",
       "924377    male  2017-08-02 00:04:45        1            1 2017-08-02 00:00:00   \n",
       "\n",
       "            view_time_hour  payment-to-view-seconds  \n",
       "0      2017-08-01 00:00:20                     19.0  \n",
       "1      2017-08-01 00:00:06                      5.0  \n",
       "2      2017-08-01 00:00:07                      6.0  \n",
       "3      2017-08-01 00:01:39                     81.5  \n",
       "4      2017-08-01 00:00:16                     14.0  \n",
       "...                    ...                      ...  \n",
       "924373 2017-08-02 00:00:05                      6.0  \n",
       "924374 2017-08-02 00:00:03                      4.0  \n",
       "924375 2017-08-02 00:00:03                      3.0  \n",
       "924376 2017-08-02 00:00:02                      2.0  \n",
       "924377 2017-08-02 00:04:45                     81.5  \n",
       "\n",
       "[924378 rows x 13 columns]"
      ]
     },
     "execution_count": 209,
     "metadata": {},
     "output_type": "execute_result"
    }
   ],
   "source": [
    "df"
   ]
  },
  {
   "cell_type": "markdown",
   "metadata": {},
   "source": [
    "### `hr_func`\n",
    "This function returns the hour for the `payment_time_hour` and `view_time_hour` columns."
   ]
  },
  {
   "cell_type": "code",
   "execution_count": 210,
   "metadata": {},
   "outputs": [],
   "source": [
    "def hr_func(ts):\n",
    "    return ts.hour"
   ]
  },
  {
   "cell_type": "code",
   "execution_count": 211,
   "metadata": {
    "scrolled": false
   },
   "outputs": [],
   "source": [
    "df['payment_time_hour'] = df['payment_time_hour'].apply(hr_func)\n",
    "df['view_time_hour'] = df['view_time_hour'].apply(hr_func)"
   ]
  },
  {
   "cell_type": "code",
   "execution_count": 212,
   "metadata": {
    "scrolled": true
   },
   "outputs": [
    {
     "data": {
      "text/html": [
       "<div>\n",
       "<style scoped>\n",
       "    .dataframe tbody tr th:only-of-type {\n",
       "        vertical-align: middle;\n",
       "    }\n",
       "\n",
       "    .dataframe tbody tr th {\n",
       "        vertical-align: top;\n",
       "    }\n",
       "\n",
       "    .dataframe thead th {\n",
       "        text-align: right;\n",
       "    }\n",
       "</style>\n",
       "<table border=\"1\" class=\"dataframe\">\n",
       "  <thead>\n",
       "    <tr style=\"text-align: right;\">\n",
       "      <th></th>\n",
       "      <th>index</th>\n",
       "      <th>payment_time_transactions</th>\n",
       "      <th>money</th>\n",
       "      <th>kind_Pay</th>\n",
       "      <th>kind_Card</th>\n",
       "      <th>network</th>\n",
       "      <th>sex</th>\n",
       "      <th>view_time</th>\n",
       "      <th>clicked</th>\n",
       "      <th>view_counts</th>\n",
       "      <th>payment_time_hour</th>\n",
       "      <th>view_time_hour</th>\n",
       "      <th>payment-to-view-seconds</th>\n",
       "    </tr>\n",
       "  </thead>\n",
       "  <tbody>\n",
       "    <tr>\n",
       "      <th>0</th>\n",
       "      <td>0</td>\n",
       "      <td>2017-08-01 00:00:01</td>\n",
       "      <td>300</td>\n",
       "      <td>4JBo</td>\n",
       "      <td>DEBIT</td>\n",
       "      <td>3g+</td>\n",
       "      <td>male</td>\n",
       "      <td>2017-08-01 00:00:20</td>\n",
       "      <td>0</td>\n",
       "      <td>1</td>\n",
       "      <td>0</td>\n",
       "      <td>0</td>\n",
       "      <td>19.0</td>\n",
       "    </tr>\n",
       "    <tr>\n",
       "      <th>1</th>\n",
       "      <td>1</td>\n",
       "      <td>2017-08-01 00:00:01</td>\n",
       "      <td>4825</td>\n",
       "      <td>4JBo</td>\n",
       "      <td>DEBIT</td>\n",
       "      <td>3g+</td>\n",
       "      <td>female</td>\n",
       "      <td>2017-08-01 00:00:06</td>\n",
       "      <td>0</td>\n",
       "      <td>1</td>\n",
       "      <td>0</td>\n",
       "      <td>0</td>\n",
       "      <td>5.0</td>\n",
       "    </tr>\n",
       "    <tr>\n",
       "      <th>2</th>\n",
       "      <td>2</td>\n",
       "      <td>2017-08-01 00:00:01</td>\n",
       "      <td>800</td>\n",
       "      <td>4JBo</td>\n",
       "      <td>DEBIT</td>\n",
       "      <td>unknown</td>\n",
       "      <td>male</td>\n",
       "      <td>2017-08-01 00:00:07</td>\n",
       "      <td>0</td>\n",
       "      <td>1</td>\n",
       "      <td>0</td>\n",
       "      <td>0</td>\n",
       "      <td>6.0</td>\n",
       "    </tr>\n",
       "    <tr>\n",
       "      <th>3</th>\n",
       "      <td>3</td>\n",
       "      <td>2017-08-01 00:00:01</td>\n",
       "      <td>1200</td>\n",
       "      <td>4JBo</td>\n",
       "      <td>DEBIT</td>\n",
       "      <td>unknown</td>\n",
       "      <td>male</td>\n",
       "      <td>2017-08-01 00:01:39</td>\n",
       "      <td>0</td>\n",
       "      <td>1</td>\n",
       "      <td>0</td>\n",
       "      <td>0</td>\n",
       "      <td>81.5</td>\n",
       "    </tr>\n",
       "    <tr>\n",
       "      <th>4</th>\n",
       "      <td>4</td>\n",
       "      <td>2017-08-01 00:00:02</td>\n",
       "      <td>4825</td>\n",
       "      <td>4JBo</td>\n",
       "      <td>DEBIT</td>\n",
       "      <td>4g</td>\n",
       "      <td>male</td>\n",
       "      <td>2017-08-01 00:00:16</td>\n",
       "      <td>0</td>\n",
       "      <td>1</td>\n",
       "      <td>0</td>\n",
       "      <td>0</td>\n",
       "      <td>14.0</td>\n",
       "    </tr>\n",
       "    <tr>\n",
       "      <th>...</th>\n",
       "      <td>...</td>\n",
       "      <td>...</td>\n",
       "      <td>...</td>\n",
       "      <td>...</td>\n",
       "      <td>...</td>\n",
       "      <td>...</td>\n",
       "      <td>...</td>\n",
       "      <td>...</td>\n",
       "      <td>...</td>\n",
       "      <td>...</td>\n",
       "      <td>...</td>\n",
       "      <td>...</td>\n",
       "      <td>...</td>\n",
       "    </tr>\n",
       "    <tr>\n",
       "      <th>924373</th>\n",
       "      <td>924377</td>\n",
       "      <td>2017-08-01 23:59:59</td>\n",
       "      <td>1000</td>\n",
       "      <td>zO8g</td>\n",
       "      <td>CREDIT</td>\n",
       "      <td>unknown</td>\n",
       "      <td>male</td>\n",
       "      <td>2017-08-02 00:00:05</td>\n",
       "      <td>1</td>\n",
       "      <td>1</td>\n",
       "      <td>23</td>\n",
       "      <td>0</td>\n",
       "      <td>6.0</td>\n",
       "    </tr>\n",
       "    <tr>\n",
       "      <th>924374</th>\n",
       "      <td>924378</td>\n",
       "      <td>2017-08-01 23:59:59</td>\n",
       "      <td>350</td>\n",
       "      <td>4JBo</td>\n",
       "      <td>DEBIT</td>\n",
       "      <td>4g</td>\n",
       "      <td>male</td>\n",
       "      <td>2017-08-02 00:00:03</td>\n",
       "      <td>0</td>\n",
       "      <td>1</td>\n",
       "      <td>23</td>\n",
       "      <td>0</td>\n",
       "      <td>4.0</td>\n",
       "    </tr>\n",
       "    <tr>\n",
       "      <th>924375</th>\n",
       "      <td>924379</td>\n",
       "      <td>2017-08-02 00:00:00</td>\n",
       "      <td>2000</td>\n",
       "      <td>4JBo</td>\n",
       "      <td>DEBIT</td>\n",
       "      <td>4g</td>\n",
       "      <td>male</td>\n",
       "      <td>2017-08-02 00:00:03</td>\n",
       "      <td>1</td>\n",
       "      <td>1</td>\n",
       "      <td>0</td>\n",
       "      <td>0</td>\n",
       "      <td>3.0</td>\n",
       "    </tr>\n",
       "    <tr>\n",
       "      <th>924376</th>\n",
       "      <td>924380</td>\n",
       "      <td>2017-08-02 00:00:00</td>\n",
       "      <td>350</td>\n",
       "      <td>4JBo</td>\n",
       "      <td>CREDIT</td>\n",
       "      <td>2g</td>\n",
       "      <td>male</td>\n",
       "      <td>2017-08-02 00:00:02</td>\n",
       "      <td>0</td>\n",
       "      <td>1</td>\n",
       "      <td>0</td>\n",
       "      <td>0</td>\n",
       "      <td>2.0</td>\n",
       "    </tr>\n",
       "    <tr>\n",
       "      <th>924377</th>\n",
       "      <td>924381</td>\n",
       "      <td>2017-08-02 00:00:00</td>\n",
       "      <td>2100</td>\n",
       "      <td>4JBo</td>\n",
       "      <td>DEBIT</td>\n",
       "      <td>unknown</td>\n",
       "      <td>male</td>\n",
       "      <td>2017-08-02 00:04:45</td>\n",
       "      <td>1</td>\n",
       "      <td>1</td>\n",
       "      <td>0</td>\n",
       "      <td>0</td>\n",
       "      <td>81.5</td>\n",
       "    </tr>\n",
       "  </tbody>\n",
       "</table>\n",
       "<p>924378 rows × 13 columns</p>\n",
       "</div>"
      ],
      "text/plain": [
       "         index payment_time_transactions  money kind_Pay kind_Card  network  \\\n",
       "0            0       2017-08-01 00:00:01    300     4JBo     DEBIT      3g+   \n",
       "1            1       2017-08-01 00:00:01   4825     4JBo     DEBIT      3g+   \n",
       "2            2       2017-08-01 00:00:01    800     4JBo     DEBIT  unknown   \n",
       "3            3       2017-08-01 00:00:01   1200     4JBo     DEBIT  unknown   \n",
       "4            4       2017-08-01 00:00:02   4825     4JBo     DEBIT       4g   \n",
       "...        ...                       ...    ...      ...       ...      ...   \n",
       "924373  924377       2017-08-01 23:59:59   1000     zO8g    CREDIT  unknown   \n",
       "924374  924378       2017-08-01 23:59:59    350     4JBo     DEBIT       4g   \n",
       "924375  924379       2017-08-02 00:00:00   2000     4JBo     DEBIT       4g   \n",
       "924376  924380       2017-08-02 00:00:00    350     4JBo    CREDIT       2g   \n",
       "924377  924381       2017-08-02 00:00:00   2100     4JBo     DEBIT  unknown   \n",
       "\n",
       "           sex            view_time  clicked  view_counts  payment_time_hour  \\\n",
       "0         male  2017-08-01 00:00:20        0            1                  0   \n",
       "1       female  2017-08-01 00:00:06        0            1                  0   \n",
       "2         male  2017-08-01 00:00:07        0            1                  0   \n",
       "3         male  2017-08-01 00:01:39        0            1                  0   \n",
       "4         male  2017-08-01 00:00:16        0            1                  0   \n",
       "...        ...                  ...      ...          ...                ...   \n",
       "924373    male  2017-08-02 00:00:05        1            1                 23   \n",
       "924374    male  2017-08-02 00:00:03        0            1                 23   \n",
       "924375    male  2017-08-02 00:00:03        1            1                  0   \n",
       "924376    male  2017-08-02 00:00:02        0            1                  0   \n",
       "924377    male  2017-08-02 00:04:45        1            1                  0   \n",
       "\n",
       "        view_time_hour  payment-to-view-seconds  \n",
       "0                    0                     19.0  \n",
       "1                    0                      5.0  \n",
       "2                    0                      6.0  \n",
       "3                    0                     81.5  \n",
       "4                    0                     14.0  \n",
       "...                ...                      ...  \n",
       "924373               0                      6.0  \n",
       "924374               0                      4.0  \n",
       "924375               0                      3.0  \n",
       "924376               0                      2.0  \n",
       "924377               0                     81.5  \n",
       "\n",
       "[924378 rows x 13 columns]"
      ]
     },
     "execution_count": 212,
     "metadata": {},
     "output_type": "execute_result"
    }
   ],
   "source": [
    "df"
   ]
  },
  {
   "cell_type": "markdown",
   "metadata": {},
   "source": [
    "Although the payment and views hours could be useful for out model training, it is better to convert them to categorial types so that the model does not rely on the exact amount of hour."
   ]
  },
  {
   "cell_type": "code",
   "execution_count": 213,
   "metadata": {},
   "outputs": [
    {
     "data": {
      "text/plain": [
       "<AxesSubplot:ylabel='Frequency'>"
      ]
     },
     "execution_count": 213,
     "metadata": {},
     "output_type": "execute_result"
    },
    {
     "data": {
      "image/png": "[encoded data removed]",
      "text/plain": [
       "<Figure size 432x288 with 1 Axes>"
      ]
     },
     "metadata": {
      "needs_background": "light"
     },
     "output_type": "display_data"
    }
   ],
   "source": [
    "df['view_time_hour'].plot(kind='hist')"
   ]
  },
  {
   "cell_type": "code",
   "execution_count": 214,
   "metadata": {
    "scrolled": true
   },
   "outputs": [
    {
     "data": {
      "text/plain": [
       "<AxesSubplot:ylabel='Frequency'>"
      ]
     },
     "execution_count": 214,
     "metadata": {},
     "output_type": "execute_result"
    },
    {
     "data": {
      "image/png": "[encoded data removed]",
      "text/plain": [
       "<Figure size 432x288 with 1 Axes>"
      ]
     },
     "metadata": {
      "needs_background": "light"
     },
     "output_type": "display_data"
    }
   ],
   "source": [
    "df['payment_time_hour'].plot(kind='hist')"
   ]
  },
  {
   "cell_type": "markdown",
   "metadata": {},
   "source": [
    "As we see above, there are far less impressions during the early morning hours. So we consider 2 bins, one for the `Early Morning` and the other for the `Day Time` hours."
   ]
  },
  {
   "cell_type": "code",
   "execution_count": 215,
   "metadata": {},
   "outputs": [],
   "source": [
    "df['payment_time_hour_cat'] = pd.cut(df['payment_time_hour'] ,bins=[-1,8,24], labels=['Early Morning','Day Time'])"
   ]
  },
  {
   "cell_type": "code",
   "execution_count": 216,
   "metadata": {},
   "outputs": [],
   "source": [
    "df['view_time_hour_cat'] = pd.cut(df['view_time_hour'] ,bins=[-1,8,24], labels=['Early Morning','Day Time'])"
   ]
  },
  {
   "cell_type": "code",
   "execution_count": 217,
   "metadata": {
    "scrolled": true
   },
   "outputs": [
    {
     "data": {
      "text/html": [
       "<div>\n",
       "<style scoped>\n",
       "    .dataframe tbody tr th:only-of-type {\n",
       "        vertical-align: middle;\n",
       "    }\n",
       "\n",
       "    .dataframe tbody tr th {\n",
       "        vertical-align: top;\n",
       "    }\n",
       "\n",
       "    .dataframe thead th {\n",
       "        text-align: right;\n",
       "    }\n",
       "</style>\n",
       "<table border=\"1\" class=\"dataframe\">\n",
       "  <thead>\n",
       "    <tr style=\"text-align: right;\">\n",
       "      <th></th>\n",
       "      <th>index</th>\n",
       "      <th>payment_time_transactions</th>\n",
       "      <th>money</th>\n",
       "      <th>kind_Pay</th>\n",
       "      <th>kind_Card</th>\n",
       "      <th>network</th>\n",
       "      <th>sex</th>\n",
       "      <th>view_time</th>\n",
       "      <th>clicked</th>\n",
       "      <th>view_counts</th>\n",
       "      <th>payment_time_hour</th>\n",
       "      <th>view_time_hour</th>\n",
       "      <th>payment-to-view-seconds</th>\n",
       "      <th>payment_time_hour_cat</th>\n",
       "      <th>view_time_hour_cat</th>\n",
       "    </tr>\n",
       "  </thead>\n",
       "  <tbody>\n",
       "    <tr>\n",
       "      <th>0</th>\n",
       "      <td>0</td>\n",
       "      <td>2017-08-01 00:00:01</td>\n",
       "      <td>300</td>\n",
       "      <td>4JBo</td>\n",
       "      <td>DEBIT</td>\n",
       "      <td>3g+</td>\n",
       "      <td>male</td>\n",
       "      <td>2017-08-01 00:00:20</td>\n",
       "      <td>0</td>\n",
       "      <td>1</td>\n",
       "      <td>0</td>\n",
       "      <td>0</td>\n",
       "      <td>19.0</td>\n",
       "      <td>Early Morning</td>\n",
       "      <td>Early Morning</td>\n",
       "    </tr>\n",
       "    <tr>\n",
       "      <th>1</th>\n",
       "      <td>1</td>\n",
       "      <td>2017-08-01 00:00:01</td>\n",
       "      <td>4825</td>\n",
       "      <td>4JBo</td>\n",
       "      <td>DEBIT</td>\n",
       "      <td>3g+</td>\n",
       "      <td>female</td>\n",
       "      <td>2017-08-01 00:00:06</td>\n",
       "      <td>0</td>\n",
       "      <td>1</td>\n",
       "      <td>0</td>\n",
       "      <td>0</td>\n",
       "      <td>5.0</td>\n",
       "      <td>Early Morning</td>\n",
       "      <td>Early Morning</td>\n",
       "    </tr>\n",
       "    <tr>\n",
       "      <th>2</th>\n",
       "      <td>2</td>\n",
       "      <td>2017-08-01 00:00:01</td>\n",
       "      <td>800</td>\n",
       "      <td>4JBo</td>\n",
       "      <td>DEBIT</td>\n",
       "      <td>unknown</td>\n",
       "      <td>male</td>\n",
       "      <td>2017-08-01 00:00:07</td>\n",
       "      <td>0</td>\n",
       "      <td>1</td>\n",
       "      <td>0</td>\n",
       "      <td>0</td>\n",
       "      <td>6.0</td>\n",
       "      <td>Early Morning</td>\n",
       "      <td>Early Morning</td>\n",
       "    </tr>\n",
       "    <tr>\n",
       "      <th>3</th>\n",
       "      <td>3</td>\n",
       "      <td>2017-08-01 00:00:01</td>\n",
       "      <td>1200</td>\n",
       "      <td>4JBo</td>\n",
       "      <td>DEBIT</td>\n",
       "      <td>unknown</td>\n",
       "      <td>male</td>\n",
       "      <td>2017-08-01 00:01:39</td>\n",
       "      <td>0</td>\n",
       "      <td>1</td>\n",
       "      <td>0</td>\n",
       "      <td>0</td>\n",
       "      <td>81.5</td>\n",
       "      <td>Early Morning</td>\n",
       "      <td>Early Morning</td>\n",
       "    </tr>\n",
       "    <tr>\n",
       "      <th>4</th>\n",
       "      <td>4</td>\n",
       "      <td>2017-08-01 00:00:02</td>\n",
       "      <td>4825</td>\n",
       "      <td>4JBo</td>\n",
       "      <td>DEBIT</td>\n",
       "      <td>4g</td>\n",
       "      <td>male</td>\n",
       "      <td>2017-08-01 00:00:16</td>\n",
       "      <td>0</td>\n",
       "      <td>1</td>\n",
       "      <td>0</td>\n",
       "      <td>0</td>\n",
       "      <td>14.0</td>\n",
       "      <td>Early Morning</td>\n",
       "      <td>Early Morning</td>\n",
       "    </tr>\n",
       "    <tr>\n",
       "      <th>...</th>\n",
       "      <td>...</td>\n",
       "      <td>...</td>\n",
       "      <td>...</td>\n",
       "      <td>...</td>\n",
       "      <td>...</td>\n",
       "      <td>...</td>\n",
       "      <td>...</td>\n",
       "      <td>...</td>\n",
       "      <td>...</td>\n",
       "      <td>...</td>\n",
       "      <td>...</td>\n",
       "      <td>...</td>\n",
       "      <td>...</td>\n",
       "      <td>...</td>\n",
       "      <td>...</td>\n",
       "    </tr>\n",
       "    <tr>\n",
       "      <th>924373</th>\n",
       "      <td>924377</td>\n",
       "      <td>2017-08-01 23:59:59</td>\n",
       "      <td>1000</td>\n",
       "      <td>zO8g</td>\n",
       "      <td>CREDIT</td>\n",
       "      <td>unknown</td>\n",
       "      <td>male</td>\n",
       "      <td>2017-08-02 00:00:05</td>\n",
       "      <td>1</td>\n",
       "      <td>1</td>\n",
       "      <td>23</td>\n",
       "      <td>0</td>\n",
       "      <td>6.0</td>\n",
       "      <td>Day Time</td>\n",
       "      <td>Early Morning</td>\n",
       "    </tr>\n",
       "    <tr>\n",
       "      <th>924374</th>\n",
       "      <td>924378</td>\n",
       "      <td>2017-08-01 23:59:59</td>\n",
       "      <td>350</td>\n",
       "      <td>4JBo</td>\n",
       "      <td>DEBIT</td>\n",
       "      <td>4g</td>\n",
       "      <td>male</td>\n",
       "      <td>2017-08-02 00:00:03</td>\n",
       "      <td>0</td>\n",
       "      <td>1</td>\n",
       "      <td>23</td>\n",
       "      <td>0</td>\n",
       "      <td>4.0</td>\n",
       "      <td>Day Time</td>\n",
       "      <td>Early Morning</td>\n",
       "    </tr>\n",
       "    <tr>\n",
       "      <th>924375</th>\n",
       "      <td>924379</td>\n",
       "      <td>2017-08-02 00:00:00</td>\n",
       "      <td>2000</td>\n",
       "      <td>4JBo</td>\n",
       "      <td>DEBIT</td>\n",
       "      <td>4g</td>\n",
       "      <td>male</td>\n",
       "      <td>2017-08-02 00:00:03</td>\n",
       "      <td>1</td>\n",
       "      <td>1</td>\n",
       "      <td>0</td>\n",
       "      <td>0</td>\n",
       "      <td>3.0</td>\n",
       "      <td>Early Morning</td>\n",
       "      <td>Early Morning</td>\n",
       "    </tr>\n",
       "    <tr>\n",
       "      <th>924376</th>\n",
       "      <td>924380</td>\n",
       "      <td>2017-08-02 00:00:00</td>\n",
       "      <td>350</td>\n",
       "      <td>4JBo</td>\n",
       "      <td>CREDIT</td>\n",
       "      <td>2g</td>\n",
       "      <td>male</td>\n",
       "      <td>2017-08-02 00:00:02</td>\n",
       "      <td>0</td>\n",
       "      <td>1</td>\n",
       "      <td>0</td>\n",
       "      <td>0</td>\n",
       "      <td>2.0</td>\n",
       "      <td>Early Morning</td>\n",
       "      <td>Early Morning</td>\n",
       "    </tr>\n",
       "    <tr>\n",
       "      <th>924377</th>\n",
       "      <td>924381</td>\n",
       "      <td>2017-08-02 00:00:00</td>\n",
       "      <td>2100</td>\n",
       "      <td>4JBo</td>\n",
       "      <td>DEBIT</td>\n",
       "      <td>unknown</td>\n",
       "      <td>male</td>\n",
       "      <td>2017-08-02 00:04:45</td>\n",
       "      <td>1</td>\n",
       "      <td>1</td>\n",
       "      <td>0</td>\n",
       "      <td>0</td>\n",
       "      <td>81.5</td>\n",
       "      <td>Early Morning</td>\n",
       "      <td>Early Morning</td>\n",
       "    </tr>\n",
       "  </tbody>\n",
       "</table>\n",
       "<p>924378 rows × 15 columns</p>\n",
       "</div>"
      ],
      "text/plain": [
       "         index payment_time_transactions  money kind_Pay kind_Card  network  \\\n",
       "0            0       2017-08-01 00:00:01    300     4JBo     DEBIT      3g+   \n",
       "1            1       2017-08-01 00:00:01   4825     4JBo     DEBIT      3g+   \n",
       "2            2       2017-08-01 00:00:01    800     4JBo     DEBIT  unknown   \n",
       "3            3       2017-08-01 00:00:01   1200     4JBo     DEBIT  unknown   \n",
       "4            4       2017-08-01 00:00:02   4825     4JBo     DEBIT       4g   \n",
       "...        ...                       ...    ...      ...       ...      ...   \n",
       "924373  924377       2017-08-01 23:59:59   1000     zO8g    CREDIT  unknown   \n",
       "924374  924378       2017-08-01 23:59:59    350     4JBo     DEBIT       4g   \n",
       "924375  924379       2017-08-02 00:00:00   2000     4JBo     DEBIT       4g   \n",
       "924376  924380       2017-08-02 00:00:00    350     4JBo    CREDIT       2g   \n",
       "924377  924381       2017-08-02 00:00:00   2100     4JBo     DEBIT  unknown   \n",
       "\n",
       "           sex            view_time  clicked  view_counts  payment_time_hour  \\\n",
       "0         male  2017-08-01 00:00:20        0            1                  0   \n",
       "1       female  2017-08-01 00:00:06        0            1                  0   \n",
       "2         male  2017-08-01 00:00:07        0            1                  0   \n",
       "3         male  2017-08-01 00:01:39        0            1                  0   \n",
       "4         male  2017-08-01 00:00:16        0            1                  0   \n",
       "...        ...                  ...      ...          ...                ...   \n",
       "924373    male  2017-08-02 00:00:05        1            1                 23   \n",
       "924374    male  2017-08-02 00:00:03        0            1                 23   \n",
       "924375    male  2017-08-02 00:00:03        1            1                  0   \n",
       "924376    male  2017-08-02 00:00:02        0            1                  0   \n",
       "924377    male  2017-08-02 00:04:45        1            1                  0   \n",
       "\n",
       "        view_time_hour  payment-to-view-seconds payment_time_hour_cat  \\\n",
       "0                    0                     19.0         Early Morning   \n",
       "1                    0                      5.0         Early Morning   \n",
       "2                    0                      6.0         Early Morning   \n",
       "3                    0                     81.5         Early Morning   \n",
       "4                    0                     14.0         Early Morning   \n",
       "...                ...                      ...                   ...   \n",
       "924373               0                      6.0              Day Time   \n",
       "924374               0                      4.0              Day Time   \n",
       "924375               0                      3.0         Early Morning   \n",
       "924376               0                      2.0         Early Morning   \n",
       "924377               0                     81.5         Early Morning   \n",
       "\n",
       "       view_time_hour_cat  \n",
       "0           Early Morning  \n",
       "1           Early Morning  \n",
       "2           Early Morning  \n",
       "3           Early Morning  \n",
       "4           Early Morning  \n",
       "...                   ...  \n",
       "924373      Early Morning  \n",
       "924374      Early Morning  \n",
       "924375      Early Morning  \n",
       "924376      Early Morning  \n",
       "924377      Early Morning  \n",
       "\n",
       "[924378 rows x 15 columns]"
      ]
     },
     "execution_count": 217,
     "metadata": {},
     "output_type": "execute_result"
    }
   ],
   "source": [
    "df"
   ]
  },
  {
   "cell_type": "markdown",
   "metadata": {},
   "source": [
    "## `Model Training`"
   ]
  },
  {
   "cell_type": "code",
   "execution_count": 238,
   "metadata": {},
   "outputs": [],
   "source": [
    "features = ['money', 'kind_Pay', 'kind_Card','network', 'sex', 'view_counts', 'payment-to-view-seconds', 'payment_time_hour_cat', 'view_time_hour_cat']\n",
    "X = pd.get_dummies(df[features], drop_first=True)\n",
    "y = df['clicked']"
   ]
  },
  {
   "cell_type": "code",
   "execution_count": 239,
   "metadata": {},
   "outputs": [
    {
     "data": {
      "text/html": [
       "<div>\n",
       "<style scoped>\n",
       "    .dataframe tbody tr th:only-of-type {\n",
       "        vertical-align: middle;\n",
       "    }\n",
       "\n",
       "    .dataframe tbody tr th {\n",
       "        vertical-align: top;\n",
       "    }\n",
       "\n",
       "    .dataframe thead th {\n",
       "        text-align: right;\n",
       "    }\n",
       "</style>\n",
       "<table border=\"1\" class=\"dataframe\">\n",
       "  <thead>\n",
       "    <tr style=\"text-align: right;\">\n",
       "      <th></th>\n",
       "      <th>money</th>\n",
       "      <th>view_counts</th>\n",
       "      <th>payment-to-view-seconds</th>\n",
       "      <th>kind_Pay_zLGr</th>\n",
       "      <th>kind_Pay_zO8g</th>\n",
       "      <th>kind_Card_DEBIT</th>\n",
       "      <th>network_3g</th>\n",
       "      <th>network_3g+</th>\n",
       "      <th>network_4g</th>\n",
       "      <th>network_edge</th>\n",
       "      <th>network_unknown</th>\n",
       "      <th>network_wifi</th>\n",
       "      <th>sex_male</th>\n",
       "      <th>sex_unknown</th>\n",
       "      <th>payment_time_hour_cat_Day Time</th>\n",
       "      <th>view_time_hour_cat_Day Time</th>\n",
       "    </tr>\n",
       "  </thead>\n",
       "  <tbody>\n",
       "    <tr>\n",
       "      <th>0</th>\n",
       "      <td>300</td>\n",
       "      <td>1</td>\n",
       "      <td>19.0</td>\n",
       "      <td>0</td>\n",
       "      <td>0</td>\n",
       "      <td>1</td>\n",
       "      <td>0</td>\n",
       "      <td>1</td>\n",
       "      <td>0</td>\n",
       "      <td>0</td>\n",
       "      <td>0</td>\n",
       "      <td>0</td>\n",
       "      <td>1</td>\n",
       "      <td>0</td>\n",
       "      <td>0</td>\n",
       "      <td>0</td>\n",
       "    </tr>\n",
       "    <tr>\n",
       "      <th>1</th>\n",
       "      <td>4825</td>\n",
       "      <td>1</td>\n",
       "      <td>5.0</td>\n",
       "      <td>0</td>\n",
       "      <td>0</td>\n",
       "      <td>1</td>\n",
       "      <td>0</td>\n",
       "      <td>1</td>\n",
       "      <td>0</td>\n",
       "      <td>0</td>\n",
       "      <td>0</td>\n",
       "      <td>0</td>\n",
       "      <td>0</td>\n",
       "      <td>0</td>\n",
       "      <td>0</td>\n",
       "      <td>0</td>\n",
       "    </tr>\n",
       "    <tr>\n",
       "      <th>2</th>\n",
       "      <td>800</td>\n",
       "      <td>1</td>\n",
       "      <td>6.0</td>\n",
       "      <td>0</td>\n",
       "      <td>0</td>\n",
       "      <td>1</td>\n",
       "      <td>0</td>\n",
       "      <td>0</td>\n",
       "      <td>0</td>\n",
       "      <td>0</td>\n",
       "      <td>1</td>\n",
       "      <td>0</td>\n",
       "      <td>1</td>\n",
       "      <td>0</td>\n",
       "      <td>0</td>\n",
       "      <td>0</td>\n",
       "    </tr>\n",
       "    <tr>\n",
       "      <th>3</th>\n",
       "      <td>1200</td>\n",
       "      <td>1</td>\n",
       "      <td>81.5</td>\n",
       "      <td>0</td>\n",
       "      <td>0</td>\n",
       "      <td>1</td>\n",
       "      <td>0</td>\n",
       "      <td>0</td>\n",
       "      <td>0</td>\n",
       "      <td>0</td>\n",
       "      <td>1</td>\n",
       "      <td>0</td>\n",
       "      <td>1</td>\n",
       "      <td>0</td>\n",
       "      <td>0</td>\n",
       "      <td>0</td>\n",
       "    </tr>\n",
       "    <tr>\n",
       "      <th>4</th>\n",
       "      <td>4825</td>\n",
       "      <td>1</td>\n",
       "      <td>14.0</td>\n",
       "      <td>0</td>\n",
       "      <td>0</td>\n",
       "      <td>1</td>\n",
       "      <td>0</td>\n",
       "      <td>0</td>\n",
       "      <td>1</td>\n",
       "      <td>0</td>\n",
       "      <td>0</td>\n",
       "      <td>0</td>\n",
       "      <td>1</td>\n",
       "      <td>0</td>\n",
       "      <td>0</td>\n",
       "      <td>0</td>\n",
       "    </tr>\n",
       "    <tr>\n",
       "      <th>...</th>\n",
       "      <td>...</td>\n",
       "      <td>...</td>\n",
       "      <td>...</td>\n",
       "      <td>...</td>\n",
       "      <td>...</td>\n",
       "      <td>...</td>\n",
       "      <td>...</td>\n",
       "      <td>...</td>\n",
       "      <td>...</td>\n",
       "      <td>...</td>\n",
       "      <td>...</td>\n",
       "      <td>...</td>\n",
       "      <td>...</td>\n",
       "      <td>...</td>\n",
       "      <td>...</td>\n",
       "      <td>...</td>\n",
       "    </tr>\n",
       "    <tr>\n",
       "      <th>924373</th>\n",
       "      <td>1000</td>\n",
       "      <td>1</td>\n",
       "      <td>6.0</td>\n",
       "      <td>0</td>\n",
       "      <td>1</td>\n",
       "      <td>0</td>\n",
       "      <td>0</td>\n",
       "      <td>0</td>\n",
       "      <td>0</td>\n",
       "      <td>0</td>\n",
       "      <td>1</td>\n",
       "      <td>0</td>\n",
       "      <td>1</td>\n",
       "      <td>0</td>\n",
       "      <td>1</td>\n",
       "      <td>0</td>\n",
       "    </tr>\n",
       "    <tr>\n",
       "      <th>924374</th>\n",
       "      <td>350</td>\n",
       "      <td>1</td>\n",
       "      <td>4.0</td>\n",
       "      <td>0</td>\n",
       "      <td>0</td>\n",
       "      <td>1</td>\n",
       "      <td>0</td>\n",
       "      <td>0</td>\n",
       "      <td>1</td>\n",
       "      <td>0</td>\n",
       "      <td>0</td>\n",
       "      <td>0</td>\n",
       "      <td>1</td>\n",
       "      <td>0</td>\n",
       "      <td>1</td>\n",
       "      <td>0</td>\n",
       "    </tr>\n",
       "    <tr>\n",
       "      <th>924375</th>\n",
       "      <td>2000</td>\n",
       "      <td>1</td>\n",
       "      <td>3.0</td>\n",
       "      <td>0</td>\n",
       "      <td>0</td>\n",
       "      <td>1</td>\n",
       "      <td>0</td>\n",
       "      <td>0</td>\n",
       "      <td>1</td>\n",
       "      <td>0</td>\n",
       "      <td>0</td>\n",
       "      <td>0</td>\n",
       "      <td>1</td>\n",
       "      <td>0</td>\n",
       "      <td>0</td>\n",
       "      <td>0</td>\n",
       "    </tr>\n",
       "    <tr>\n",
       "      <th>924376</th>\n",
       "      <td>350</td>\n",
       "      <td>1</td>\n",
       "      <td>2.0</td>\n",
       "      <td>0</td>\n",
       "      <td>0</td>\n",
       "      <td>0</td>\n",
       "      <td>0</td>\n",
       "      <td>0</td>\n",
       "      <td>0</td>\n",
       "      <td>0</td>\n",
       "      <td>0</td>\n",
       "      <td>0</td>\n",
       "      <td>1</td>\n",
       "      <td>0</td>\n",
       "      <td>0</td>\n",
       "      <td>0</td>\n",
       "    </tr>\n",
       "    <tr>\n",
       "      <th>924377</th>\n",
       "      <td>2100</td>\n",
       "      <td>1</td>\n",
       "      <td>81.5</td>\n",
       "      <td>0</td>\n",
       "      <td>0</td>\n",
       "      <td>1</td>\n",
       "      <td>0</td>\n",
       "      <td>0</td>\n",
       "      <td>0</td>\n",
       "      <td>0</td>\n",
       "      <td>1</td>\n",
       "      <td>0</td>\n",
       "      <td>1</td>\n",
       "      <td>0</td>\n",
       "      <td>0</td>\n",
       "      <td>0</td>\n",
       "    </tr>\n",
       "  </tbody>\n",
       "</table>\n",
       "<p>924378 rows × 16 columns</p>\n",
       "</div>"
      ],
      "text/plain": [
       "        money  view_counts  payment-to-view-seconds  kind_Pay_zLGr  \\\n",
       "0         300            1                     19.0              0   \n",
       "1        4825            1                      5.0              0   \n",
       "2         800            1                      6.0              0   \n",
       "3        1200            1                     81.5              0   \n",
       "4        4825            1                     14.0              0   \n",
       "...       ...          ...                      ...            ...   \n",
       "924373   1000            1                      6.0              0   \n",
       "924374    350            1                      4.0              0   \n",
       "924375   2000            1                      3.0              0   \n",
       "924376    350            1                      2.0              0   \n",
       "924377   2100            1                     81.5              0   \n",
       "\n",
       "        kind_Pay_zO8g  kind_Card_DEBIT  network_3g  network_3g+  network_4g  \\\n",
       "0                   0                1           0            1           0   \n",
       "1                   0                1           0            1           0   \n",
       "2                   0                1           0            0           0   \n",
       "3                   0                1           0            0           0   \n",
       "4                   0                1           0            0           1   \n",
       "...               ...              ...         ...          ...         ...   \n",
       "924373              1                0           0            0           0   \n",
       "924374              0                1           0            0           1   \n",
       "924375              0                1           0            0           1   \n",
       "924376              0                0           0            0           0   \n",
       "924377              0                1           0            0           0   \n",
       "\n",
       "        network_edge  network_unknown  network_wifi  sex_male  sex_unknown  \\\n",
       "0                  0                0             0         1            0   \n",
       "1                  0                0             0         0            0   \n",
       "2                  0                1             0         1            0   \n",
       "3                  0                1             0         1            0   \n",
       "4                  0                0             0         1            0   \n",
       "...              ...              ...           ...       ...          ...   \n",
       "924373             0                1             0         1            0   \n",
       "924374             0                0             0         1            0   \n",
       "924375             0                0             0         1            0   \n",
       "924376             0                0             0         1            0   \n",
       "924377             0                1             0         1            0   \n",
       "\n",
       "        payment_time_hour_cat_Day Time  view_time_hour_cat_Day Time  \n",
       "0                                    0                            0  \n",
       "1                                    0                            0  \n",
       "2                                    0                            0  \n",
       "3                                    0                            0  \n",
       "4                                    0                            0  \n",
       "...                                ...                          ...  \n",
       "924373                               1                            0  \n",
       "924374                               1                            0  \n",
       "924375                               0                            0  \n",
       "924376                               0                            0  \n",
       "924377                               0                            0  \n",
       "\n",
       "[924378 rows x 16 columns]"
      ]
     },
     "execution_count": 239,
     "metadata": {},
     "output_type": "execute_result"
    }
   ],
   "source": [
    "X"
   ]
  },
  {
   "cell_type": "markdown",
   "metadata": {},
   "source": [
    "### OverSampling\n",
    "As discussed previously, we are working on an imbalanced dataset where a small portion of our impressions lead to an actual click. Therefore, we choose to use oversampling to tackle this issue."
   ]
  },
  {
   "cell_type": "code",
   "execution_count": 240,
   "metadata": {},
   "outputs": [],
   "source": [
    "from imblearn.over_sampling import RandomOverSampler\n",
    "\n",
    "X_train, X_test, y_train, y_test = train_test_split(X, y, test_size=0.33, random_state=42)\n",
    "\n",
    "ros = RandomOverSampler(random_state=42)\n",
    "\n",
    "X_resampled, y_resampled = ros.fit_resample(X_train, y_train)"
   ]
  },
  {
   "cell_type": "markdown",
   "metadata": {},
   "source": [
    "### Scaling\n",
    "Scaling is important in the sense that we adjust the columns by their own distributions."
   ]
  },
  {
   "cell_type": "code",
   "execution_count": 241,
   "metadata": {},
   "outputs": [],
   "source": [
    "scaler = StandardScaler()\n",
    "scaler.fit(X_resampled)\n",
    "X_train_scaled = scaler.transform(X_resampled)\n",
    "X_test_scaled = scaler.transform(X_test)"
   ]
  },
  {
   "cell_type": "markdown",
   "metadata": {},
   "source": [
    "### Model Training "
   ]
  },
  {
   "cell_type": "code",
   "execution_count": 242,
   "metadata": {
    "scrolled": true
   },
   "outputs": [
    {
     "name": "stdout",
     "output_type": "stream",
     "text": [
      "train: 0.7333229974722473\n",
      "test: 0.6509924765198577\n",
      "              precision    recall  f1-score   support\n",
      "\n",
      "           0       0.75      0.71      0.73    551478\n",
      "           1       0.72      0.76      0.74    551478\n",
      "\n",
      "    accuracy                           0.73   1102956\n",
      "   macro avg       0.73      0.73      0.73   1102956\n",
      "weighted avg       0.73      0.73      0.73   1102956\n",
      "\n",
      "              precision    recall  f1-score   support\n",
      "\n",
      "           0       0.91      0.68      0.77    271532\n",
      "           1       0.15      0.46      0.22     33513\n",
      "\n",
      "    accuracy                           0.65    305045\n",
      "   macro avg       0.53      0.57      0.50    305045\n",
      "weighted avg       0.83      0.65      0.71    305045\n",
      "\n"
     ]
    }
   ],
   "source": [
    "#model = DecisionTreeClassifier()\n",
    "model = RandomForestClassifier(n_estimators=20, min_samples_leaf=2, random_state = 42)\n",
    "#model = KNeighborsClassifier()\n",
    "#model = SVC()\n",
    "model.fit(X_train_scaled, y_resampled)\n",
    "\n",
    "y_pred_train = model.predict(X_train_scaled)\n",
    "y_pred = model.predict(X_test_scaled)\n",
    "\n",
    "print('train:', accuracy_score(y_resampled, y_pred_train))\n",
    "print('test:', accuracy_score(y_test, y_pred))\n",
    "print(classification_report(y_resampled, y_pred_train))\n",
    "print(classification_report(y_test, y_pred))"
   ]
  },
  {
   "cell_type": "code",
   "execution_count": 244,
   "metadata": {},
   "outputs": [
    {
     "name": "stdout",
     "output_type": "stream",
     "text": [
      "[[183307  88225]\n",
      " [ 18238  15275]]\n"
     ]
    }
   ],
   "source": [
    "from sklearn.metrics import confusion_matrix\n",
    "\n",
    "conf_mat = confusion_matrix(y_test, y_pred)\n",
    "print(conf_mat)"
   ]
  },
  {
   "cell_type": "code",
   "execution_count": 245,
   "metadata": {},
   "outputs": [
    {
     "data": {
      "image/png": "[encoded data removed]",
      "text/plain": [
       "<Figure size 432x288 with 2 Axes>"
      ]
     },
     "metadata": {
      "needs_background": "light"
     },
     "output_type": "display_data"
    }
   ],
   "source": [
    "import seaborn\n",
    "seaborn.heatmap(conf_mat)\n",
    "plt.show()"
   ]
  },
  {
   "cell_type": "markdown",
   "metadata": {},
   "source": [
    "### K-fold cross validation\n"
   ]
  },
  {
   "cell_type": "code",
   "execution_count": 230,
   "metadata": {},
   "outputs": [
    {
     "data": {
      "text/plain": [
       "array([0.71638453, 0.71665994, 0.71552012, 0.71963416, 0.71616019])"
      ]
     },
     "execution_count": 230,
     "metadata": {},
     "output_type": "execute_result"
    }
   ],
   "source": [
    "from sklearn.model_selection import cross_val_score\n",
    "\n",
    "model =  RandomForestClassifier(n_estimators=20, min_samples_leaf=2, random_state = 42)\n",
    "\n",
    "scores = cross_val_score(model, X_train_scaled, y_resampled, cv=5, scoring='f1')\n",
    "\n",
    "scores"
   ]
  },
  {
   "cell_type": "code",
   "execution_count": 231,
   "metadata": {},
   "outputs": [
    {
     "data": {
      "text/plain": [
       "0.7168717873883372"
      ]
     },
     "execution_count": 231,
     "metadata": {},
     "output_type": "execute_result"
    }
   ],
   "source": [
    "scores.mean()"
   ]
  },
  {
   "cell_type": "markdown",
   "metadata": {},
   "source": [
    "### Gridsearch"
   ]
  },
  {
   "cell_type": "code",
   "execution_count": 234,
   "metadata": {
    "collapsed": true
   },
   "outputs": [
    {
     "name": "stdout",
     "output_type": "stream",
     "text": [
      "Fitting 3 folds for each of 288 candidates, totalling 864 fits\n"
     ]
    },
    {
     "ename": "KeyboardInterrupt",
     "evalue": "",
     "output_type": "error",
     "traceback": [
      "\u001b[1;31m---------------------------------------------------------------------------\u001b[0m",
      "\u001b[1;31mKeyboardInterrupt\u001b[0m                         Traceback (most recent call last)",
      "\u001b[1;32m<ipython-input-234-e9c93c927816>\u001b[0m in \u001b[0;36m<module>\u001b[1;34m\u001b[0m\n\u001b[0;32m     14\u001b[0m grid_search = GridSearchCV(estimator = rf, param_grid = param_grid, \n\u001b[0;32m     15\u001b[0m                           cv = 3, n_jobs = -1, verbose = 2)\n\u001b[1;32m---> 16\u001b[1;33m \u001b[0mgrid_search\u001b[0m\u001b[1;33m.\u001b[0m\u001b[0mfit\u001b[0m\u001b[1;33m(\u001b[0m\u001b[0mX_train_scaled\u001b[0m\u001b[1;33m,\u001b[0m \u001b[0my_resampled\u001b[0m\u001b[1;33m)\u001b[0m\u001b[1;33m\u001b[0m\u001b[1;33m\u001b[0m\u001b[0m\n\u001b[0m",
      "\u001b[1;32mD:\\Anaconda\\lib\\site-packages\\sklearn\\utils\\validation.py\u001b[0m in \u001b[0;36minner_f\u001b[1;34m(*args, **kwargs)\u001b[0m\n\u001b[0;32m     61\u001b[0m             \u001b[0mextra_args\u001b[0m \u001b[1;33m=\u001b[0m \u001b[0mlen\u001b[0m\u001b[1;33m(\u001b[0m\u001b[0margs\u001b[0m\u001b[1;33m)\u001b[0m \u001b[1;33m-\u001b[0m \u001b[0mlen\u001b[0m\u001b[1;33m(\u001b[0m\u001b[0mall_args\u001b[0m\u001b[1;33m)\u001b[0m\u001b[1;33m\u001b[0m\u001b[1;33m\u001b[0m\u001b[0m\n\u001b[0;32m     62\u001b[0m             \u001b[1;32mif\u001b[0m \u001b[0mextra_args\u001b[0m \u001b[1;33m<=\u001b[0m \u001b[1;36m0\u001b[0m\u001b[1;33m:\u001b[0m\u001b[1;33m\u001b[0m\u001b[1;33m\u001b[0m\u001b[0m\n\u001b[1;32m---> 63\u001b[1;33m                 \u001b[1;32mreturn\u001b[0m \u001b[0mf\u001b[0m\u001b[1;33m(\u001b[0m\u001b[1;33m*\u001b[0m\u001b[0margs\u001b[0m\u001b[1;33m,\u001b[0m \u001b[1;33m**\u001b[0m\u001b[0mkwargs\u001b[0m\u001b[1;33m)\u001b[0m\u001b[1;33m\u001b[0m\u001b[1;33m\u001b[0m\u001b[0m\n\u001b[0m\u001b[0;32m     64\u001b[0m \u001b[1;33m\u001b[0m\u001b[0m\n\u001b[0;32m     65\u001b[0m             \u001b[1;31m# extra_args > 0\u001b[0m\u001b[1;33m\u001b[0m\u001b[1;33m\u001b[0m\u001b[1;33m\u001b[0m\u001b[0m\n",
      "\u001b[1;32mD:\\Anaconda\\lib\\site-packages\\sklearn\\model_selection\\_search.py\u001b[0m in \u001b[0;36mfit\u001b[1;34m(self, X, y, groups, **fit_params)\u001b[0m\n\u001b[0;32m    839\u001b[0m                 \u001b[1;32mreturn\u001b[0m \u001b[0mresults\u001b[0m\u001b[1;33m\u001b[0m\u001b[1;33m\u001b[0m\u001b[0m\n\u001b[0;32m    840\u001b[0m \u001b[1;33m\u001b[0m\u001b[0m\n\u001b[1;32m--> 841\u001b[1;33m             \u001b[0mself\u001b[0m\u001b[1;33m.\u001b[0m\u001b[0m_run_search\u001b[0m\u001b[1;33m(\u001b[0m\u001b[0mevaluate_candidates\u001b[0m\u001b[1;33m)\u001b[0m\u001b[1;33m\u001b[0m\u001b[1;33m\u001b[0m\u001b[0m\n\u001b[0m\u001b[0;32m    842\u001b[0m \u001b[1;33m\u001b[0m\u001b[0m\n\u001b[0;32m    843\u001b[0m             \u001b[1;31m# multimetric is determined here because in the case of a callable\u001b[0m\u001b[1;33m\u001b[0m\u001b[1;33m\u001b[0m\u001b[1;33m\u001b[0m\u001b[0m\n",
      "\u001b[1;32mD:\\Anaconda\\lib\\site-packages\\sklearn\\model_selection\\_search.py\u001b[0m in \u001b[0;36m_run_search\u001b[1;34m(self, evaluate_candidates)\u001b[0m\n\u001b[0;32m   1294\u001b[0m     \u001b[1;32mdef\u001b[0m \u001b[0m_run_search\u001b[0m\u001b[1;33m(\u001b[0m\u001b[0mself\u001b[0m\u001b[1;33m,\u001b[0m \u001b[0mevaluate_candidates\u001b[0m\u001b[1;33m)\u001b[0m\u001b[1;33m:\u001b[0m\u001b[1;33m\u001b[0m\u001b[1;33m\u001b[0m\u001b[0m\n\u001b[0;32m   1295\u001b[0m         \u001b[1;34m\"\"\"Search all candidates in param_grid\"\"\"\u001b[0m\u001b[1;33m\u001b[0m\u001b[1;33m\u001b[0m\u001b[0m\n\u001b[1;32m-> 1296\u001b[1;33m         \u001b[0mevaluate_candidates\u001b[0m\u001b[1;33m(\u001b[0m\u001b[0mParameterGrid\u001b[0m\u001b[1;33m(\u001b[0m\u001b[0mself\u001b[0m\u001b[1;33m.\u001b[0m\u001b[0mparam_grid\u001b[0m\u001b[1;33m)\u001b[0m\u001b[1;33m)\u001b[0m\u001b[1;33m\u001b[0m\u001b[1;33m\u001b[0m\u001b[0m\n\u001b[0m\u001b[0;32m   1297\u001b[0m \u001b[1;33m\u001b[0m\u001b[0m\n\u001b[0;32m   1298\u001b[0m \u001b[1;33m\u001b[0m\u001b[0m\n",
      "\u001b[1;32mD:\\Anaconda\\lib\\site-packages\\sklearn\\model_selection\\_search.py\u001b[0m in \u001b[0;36mevaluate_candidates\u001b[1;34m(candidate_params, cv, more_results)\u001b[0m\n\u001b[0;32m    807\u001b[0m                                    (split_idx, (train, test)) in product(\n\u001b[0;32m    808\u001b[0m                                    \u001b[0menumerate\u001b[0m\u001b[1;33m(\u001b[0m\u001b[0mcandidate_params\u001b[0m\u001b[1;33m)\u001b[0m\u001b[1;33m,\u001b[0m\u001b[1;33m\u001b[0m\u001b[1;33m\u001b[0m\u001b[0m\n\u001b[1;32m--> 809\u001b[1;33m                                    enumerate(cv.split(X, y, groups))))\n\u001b[0m\u001b[0;32m    810\u001b[0m \u001b[1;33m\u001b[0m\u001b[0m\n\u001b[0;32m    811\u001b[0m                 \u001b[1;32mif\u001b[0m \u001b[0mlen\u001b[0m\u001b[1;33m(\u001b[0m\u001b[0mout\u001b[0m\u001b[1;33m)\u001b[0m \u001b[1;33m<\u001b[0m \u001b[1;36m1\u001b[0m\u001b[1;33m:\u001b[0m\u001b[1;33m\u001b[0m\u001b[1;33m\u001b[0m\u001b[0m\n",
      "\u001b[1;32mD:\\Anaconda\\lib\\site-packages\\joblib\\parallel.py\u001b[0m in \u001b[0;36m__call__\u001b[1;34m(self, iterable)\u001b[0m\n\u001b[0;32m   1015\u001b[0m \u001b[1;33m\u001b[0m\u001b[0m\n\u001b[0;32m   1016\u001b[0m             \u001b[1;32mwith\u001b[0m \u001b[0mself\u001b[0m\u001b[1;33m.\u001b[0m\u001b[0m_backend\u001b[0m\u001b[1;33m.\u001b[0m\u001b[0mretrieval_context\u001b[0m\u001b[1;33m(\u001b[0m\u001b[1;33m)\u001b[0m\u001b[1;33m:\u001b[0m\u001b[1;33m\u001b[0m\u001b[1;33m\u001b[0m\u001b[0m\n\u001b[1;32m-> 1017\u001b[1;33m                 \u001b[0mself\u001b[0m\u001b[1;33m.\u001b[0m\u001b[0mretrieve\u001b[0m\u001b[1;33m(\u001b[0m\u001b[1;33m)\u001b[0m\u001b[1;33m\u001b[0m\u001b[1;33m\u001b[0m\u001b[0m\n\u001b[0m\u001b[0;32m   1018\u001b[0m             \u001b[1;31m# Make sure that we get a last message telling us we are done\u001b[0m\u001b[1;33m\u001b[0m\u001b[1;33m\u001b[0m\u001b[1;33m\u001b[0m\u001b[0m\n\u001b[0;32m   1019\u001b[0m             \u001b[0melapsed_time\u001b[0m \u001b[1;33m=\u001b[0m \u001b[0mtime\u001b[0m\u001b[1;33m.\u001b[0m\u001b[0mtime\u001b[0m\u001b[1;33m(\u001b[0m\u001b[1;33m)\u001b[0m \u001b[1;33m-\u001b[0m \u001b[0mself\u001b[0m\u001b[1;33m.\u001b[0m\u001b[0m_start_time\u001b[0m\u001b[1;33m\u001b[0m\u001b[1;33m\u001b[0m\u001b[0m\n",
      "\u001b[1;32mD:\\Anaconda\\lib\\site-packages\\joblib\\parallel.py\u001b[0m in \u001b[0;36mretrieve\u001b[1;34m(self)\u001b[0m\n\u001b[0;32m    907\u001b[0m             \u001b[1;32mtry\u001b[0m\u001b[1;33m:\u001b[0m\u001b[1;33m\u001b[0m\u001b[1;33m\u001b[0m\u001b[0m\n\u001b[0;32m    908\u001b[0m                 \u001b[1;32mif\u001b[0m \u001b[0mgetattr\u001b[0m\u001b[1;33m(\u001b[0m\u001b[0mself\u001b[0m\u001b[1;33m.\u001b[0m\u001b[0m_backend\u001b[0m\u001b[1;33m,\u001b[0m \u001b[1;34m'supports_timeout'\u001b[0m\u001b[1;33m,\u001b[0m \u001b[1;32mFalse\u001b[0m\u001b[1;33m)\u001b[0m\u001b[1;33m:\u001b[0m\u001b[1;33m\u001b[0m\u001b[1;33m\u001b[0m\u001b[0m\n\u001b[1;32m--> 909\u001b[1;33m                     \u001b[0mself\u001b[0m\u001b[1;33m.\u001b[0m\u001b[0m_output\u001b[0m\u001b[1;33m.\u001b[0m\u001b[0mextend\u001b[0m\u001b[1;33m(\u001b[0m\u001b[0mjob\u001b[0m\u001b[1;33m.\u001b[0m\u001b[0mget\u001b[0m\u001b[1;33m(\u001b[0m\u001b[0mtimeout\u001b[0m\u001b[1;33m=\u001b[0m\u001b[0mself\u001b[0m\u001b[1;33m.\u001b[0m\u001b[0mtimeout\u001b[0m\u001b[1;33m)\u001b[0m\u001b[1;33m)\u001b[0m\u001b[1;33m\u001b[0m\u001b[1;33m\u001b[0m\u001b[0m\n\u001b[0m\u001b[0;32m    910\u001b[0m                 \u001b[1;32melse\u001b[0m\u001b[1;33m:\u001b[0m\u001b[1;33m\u001b[0m\u001b[1;33m\u001b[0m\u001b[0m\n\u001b[0;32m    911\u001b[0m                     \u001b[0mself\u001b[0m\u001b[1;33m.\u001b[0m\u001b[0m_output\u001b[0m\u001b[1;33m.\u001b[0m\u001b[0mextend\u001b[0m\u001b[1;33m(\u001b[0m\u001b[0mjob\u001b[0m\u001b[1;33m.\u001b[0m\u001b[0mget\u001b[0m\u001b[1;33m(\u001b[0m\u001b[1;33m)\u001b[0m\u001b[1;33m)\u001b[0m\u001b[1;33m\u001b[0m\u001b[1;33m\u001b[0m\u001b[0m\n",
      "\u001b[1;32mD:\\Anaconda\\lib\\site-packages\\joblib\\_parallel_backends.py\u001b[0m in \u001b[0;36mwrap_future_result\u001b[1;34m(future, timeout)\u001b[0m\n\u001b[0;32m    560\u001b[0m         AsyncResults.get from multiprocessing.\"\"\"\n\u001b[0;32m    561\u001b[0m         \u001b[1;32mtry\u001b[0m\u001b[1;33m:\u001b[0m\u001b[1;33m\u001b[0m\u001b[1;33m\u001b[0m\u001b[0m\n\u001b[1;32m--> 562\u001b[1;33m             \u001b[1;32mreturn\u001b[0m \u001b[0mfuture\u001b[0m\u001b[1;33m.\u001b[0m\u001b[0mresult\u001b[0m\u001b[1;33m(\u001b[0m\u001b[0mtimeout\u001b[0m\u001b[1;33m=\u001b[0m\u001b[0mtimeout\u001b[0m\u001b[1;33m)\u001b[0m\u001b[1;33m\u001b[0m\u001b[1;33m\u001b[0m\u001b[0m\n\u001b[0m\u001b[0;32m    563\u001b[0m         \u001b[1;32mexcept\u001b[0m \u001b[0mLokyTimeoutError\u001b[0m\u001b[1;33m:\u001b[0m\u001b[1;33m\u001b[0m\u001b[1;33m\u001b[0m\u001b[0m\n\u001b[0;32m    564\u001b[0m             \u001b[1;32mraise\u001b[0m \u001b[0mTimeoutError\u001b[0m\u001b[1;33m(\u001b[0m\u001b[1;33m)\u001b[0m\u001b[1;33m\u001b[0m\u001b[1;33m\u001b[0m\u001b[0m\n",
      "\u001b[1;32mD:\\Anaconda\\lib\\concurrent\\futures\\_base.py\u001b[0m in \u001b[0;36mresult\u001b[1;34m(self, timeout)\u001b[0m\n\u001b[0;32m    428\u001b[0m                 \u001b[1;32mreturn\u001b[0m \u001b[0mself\u001b[0m\u001b[1;33m.\u001b[0m\u001b[0m__get_result\u001b[0m\u001b[1;33m(\u001b[0m\u001b[1;33m)\u001b[0m\u001b[1;33m\u001b[0m\u001b[1;33m\u001b[0m\u001b[0m\n\u001b[0;32m    429\u001b[0m \u001b[1;33m\u001b[0m\u001b[0m\n\u001b[1;32m--> 430\u001b[1;33m             \u001b[0mself\u001b[0m\u001b[1;33m.\u001b[0m\u001b[0m_condition\u001b[0m\u001b[1;33m.\u001b[0m\u001b[0mwait\u001b[0m\u001b[1;33m(\u001b[0m\u001b[0mtimeout\u001b[0m\u001b[1;33m)\u001b[0m\u001b[1;33m\u001b[0m\u001b[1;33m\u001b[0m\u001b[0m\n\u001b[0m\u001b[0;32m    431\u001b[0m \u001b[1;33m\u001b[0m\u001b[0m\n\u001b[0;32m    432\u001b[0m             \u001b[1;32mif\u001b[0m \u001b[0mself\u001b[0m\u001b[1;33m.\u001b[0m\u001b[0m_state\u001b[0m \u001b[1;32min\u001b[0m \u001b[1;33m[\u001b[0m\u001b[0mCANCELLED\u001b[0m\u001b[1;33m,\u001b[0m \u001b[0mCANCELLED_AND_NOTIFIED\u001b[0m\u001b[1;33m]\u001b[0m\u001b[1;33m:\u001b[0m\u001b[1;33m\u001b[0m\u001b[1;33m\u001b[0m\u001b[0m\n",
      "\u001b[1;32mD:\\Anaconda\\lib\\threading.py\u001b[0m in \u001b[0;36mwait\u001b[1;34m(self, timeout)\u001b[0m\n\u001b[0;32m    294\u001b[0m         \u001b[1;32mtry\u001b[0m\u001b[1;33m:\u001b[0m    \u001b[1;31m# restore state no matter what (e.g., KeyboardInterrupt)\u001b[0m\u001b[1;33m\u001b[0m\u001b[1;33m\u001b[0m\u001b[0m\n\u001b[0;32m    295\u001b[0m             \u001b[1;32mif\u001b[0m \u001b[0mtimeout\u001b[0m \u001b[1;32mis\u001b[0m \u001b[1;32mNone\u001b[0m\u001b[1;33m:\u001b[0m\u001b[1;33m\u001b[0m\u001b[1;33m\u001b[0m\u001b[0m\n\u001b[1;32m--> 296\u001b[1;33m                 \u001b[0mwaiter\u001b[0m\u001b[1;33m.\u001b[0m\u001b[0macquire\u001b[0m\u001b[1;33m(\u001b[0m\u001b[1;33m)\u001b[0m\u001b[1;33m\u001b[0m\u001b[1;33m\u001b[0m\u001b[0m\n\u001b[0m\u001b[0;32m    297\u001b[0m                 \u001b[0mgotit\u001b[0m \u001b[1;33m=\u001b[0m \u001b[1;32mTrue\u001b[0m\u001b[1;33m\u001b[0m\u001b[1;33m\u001b[0m\u001b[0m\n\u001b[0;32m    298\u001b[0m             \u001b[1;32melse\u001b[0m\u001b[1;33m:\u001b[0m\u001b[1;33m\u001b[0m\u001b[1;33m\u001b[0m\u001b[0m\n",
      "\u001b[1;31mKeyboardInterrupt\u001b[0m: "
     ]
    }
   ],
   "source": [
    "from sklearn.model_selection import GridSearchCV\n",
    "# Create the parameter grid based on the results of random search \n",
    "param_grid = {\n",
    "    'bootstrap': [True],\n",
    "    'max_depth': [80, 90, 100, 110],\n",
    "    'max_features': [2, 3],\n",
    "    'min_samples_leaf': [3, 4, 5],\n",
    "    'min_samples_split': [8, 10, 12],\n",
    "    'n_estimators': [100, 200, 300, 1000]\n",
    "}\n",
    "# Create a based model\n",
    "rf = RandomForestClassifier()\n",
    "# Instantiate the grid search model\n",
    "grid_search = GridSearchCV(estimator = rf, param_grid = param_grid, \n",
    "                          cv = 3, n_jobs = -1, verbose = 2)\n",
    "grid_search.fit(X_train_scaled, y_resampled)"
   ]
  },
  {
   "cell_type": "markdown",
   "metadata": {},
   "source": [
    "### Deep Learning (ANN)"
   ]
  },
  {
   "cell_type": "code",
   "execution_count": null,
   "metadata": {},
   "outputs": [],
   "source": [
    "import tensorflow as tf\n",
    "ann = tf.keras.models.Sequential()\n",
    "from keras.layers import Dropout\n",
    "from keras.regularizers import l2\n",
    "import keras as kp\n",
    "opt = kp.optimizers.Adam(learning_rate=0.0075)"
   ]
  },
  {
   "cell_type": "code",
   "execution_count": null,
   "metadata": {},
   "outputs": [],
   "source": [
    "ann.add(tf.keras.layers.Dense(units=27, activation='relu')) #,kernel_regularizer=l2(0.001), bias_regularizer=l2(0.001)))"
   ]
  },
  {
   "cell_type": "code",
   "execution_count": null,
   "metadata": {},
   "outputs": [],
   "source": [
    "ann.add(Dropout(0.2))"
   ]
  },
  {
   "cell_type": "code",
   "execution_count": null,
   "metadata": {},
   "outputs": [],
   "source": [
    "ann.add(tf.keras.layers.Dense(units=1, activation='sigmoid'))"
   ]
  },
  {
   "cell_type": "code",
   "execution_count": null,
   "metadata": {},
   "outputs": [],
   "source": [
    "ann.compile(optimizer = opt, loss = 'mean_squared_error')"
   ]
  },
  {
   "cell_type": "code",
   "execution_count": null,
   "metadata": {},
   "outputs": [],
   "source": [
    "ann.fit(X_train_scaled, y_resampled, batch_size = 32, epochs = 2)"
   ]
  },
  {
   "cell_type": "code",
   "execution_count": null,
   "metadata": {},
   "outputs": [],
   "source": [
    "y_pred_test = ann.predict(X_test_scaled)\n",
    "y_pred_train = ann.predict(X_train_scaled)\n",
    "y_pred_test = (y_pred_test>0.5)\n",
    "y_pred_train = (y_pred_train>0.5)"
   ]
  },
  {
   "cell_type": "code",
   "execution_count": null,
   "metadata": {},
   "outputs": [],
   "source": [
    "print ('Accuracy of model based on testing set is:', 100*accuracy_score(y_test, y_pred_test))\n",
    "print ('Accuracy of model based on training set is:', 100*accuracy_score(y_resampled, y_pred_train))"
   ]
  },
  {
   "cell_type": "markdown",
   "metadata": {},
   "source": [
    "Accuracy of model based on testing set is: 55.7239095871101\n",
    "Accuracy of model based on training set is: 61.047040861104165"
   ]
  }
 ],
 "metadata": {
  "kernelspec": {
   "display_name": "Python 3",
   "language": "python",
   "name": "python3"
  },
  "language_info": {
   "codemirror_mode": {
    "name": "ipython",
    "version": 3
   },
   "file_extension": ".py",
   "mimetype": "text/x-python",
   "name": "python",
   "nbconvert_exporter": "python",
   "pygments_lexer": "ipython3",
   "version": "3.7.6"
  }
 },
 "nbformat": 4,
 "nbformat_minor": 4
}
